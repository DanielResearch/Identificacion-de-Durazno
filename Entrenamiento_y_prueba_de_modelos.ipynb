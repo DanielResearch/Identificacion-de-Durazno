{
  "nbformat": 4,
  "nbformat_minor": 0,
  "metadata": {
    "colab": {
      "provenance": [],
      "mount_file_id": "1kq33fiCDeoRngPNo2XkQOnAzbQgIuptF",
      "authorship_tag": "ABX9TyMLVq1FgNbLlVF0idSauXae",
      "include_colab_link": true
    },
    "kernelspec": {
      "name": "python3",
      "display_name": "Python 3"
    },
    "language_info": {
      "name": "python"
    }
  },
  "cells": [
    {
      "cell_type": "markdown",
      "metadata": {
        "id": "view-in-github",
        "colab_type": "text"
      },
      "source": [
        "<a href=\"https://colab.research.google.com/github/DanielResearch/Identificacion-de-Durazno/blob/main/Entrenamiento_y_prueba_de_modelos.ipynb\" target=\"_parent\"><img src=\"https://colab.research.google.com/assets/colab-badge.svg\" alt=\"Open In Colab\"/></a>"
      ]
    },
    {
      "cell_type": "markdown",
      "metadata": {
        "id": "WQk2LNFFDaDQ"
      },
      "source": [
        "# General Setup"
      ]
    },
    {
      "cell_type": "markdown",
      "source": [
        "General SetUp son todas las librerías y funciones utilizadas, así como los métodos.\n",
        "\n",
        "También se definen aquí los hiperparámetros (ver índice)."
      ],
      "metadata": {
        "id": "tHm4mO-na_zx"
      }
    },
    {
      "cell_type": "code",
      "source": [
        "!pip install yellowbrick"
      ],
      "metadata": {
        "id": "7UeZJYibrE-w"
      },
      "execution_count": null,
      "outputs": []
    },
    {
      "cell_type": "code",
      "metadata": {
        "id": "Yl9Iqwb3DYLC"
      },
      "source": [
        "import numpy as np\n",
        "import matplotlib.pyplot as plt\n",
        "from sklearn.model_selection import train_test_split\n",
        "from sklearn.svm import SVC\n",
        "from sklearn.ensemble import RandomForestClassifier\n",
        "from sklearn.multiclass import OneVsRestClassifier\n",
        "from sklearn.neural_network import MLPClassifier\n",
        "from sklearn.metrics import classification_report, accuracy_score, make_scorer, precision_score, recall_score, f1_score,accuracy_score\n",
        "from sklearn.metrics import roc_curve, auc\n",
        "from sklearn.model_selection import GridSearchCV, cross_validate, KFold\n",
        "from sklearn.model_selection import cross_val_score, StratifiedKFold,  StratifiedShuffleSplit\n",
        "from sklearn.metrics import multilabel_confusion_matrix, precision_recall_fscore_support, roc_auc_score\n",
        "from sklearn.pipeline import make_pipeline\n",
        "from sklearn.preprocessing  import StandardScaler, label_binarize\n",
        "from sklearn import metrics\n",
        "from time import time\n",
        "from scipy import interp\n",
        "from itertools import cycle\n",
        "from sklearn.datasets import load_digits\n",
        "from sklearn.model_selection import learning_curve\n",
        "from sklearn.model_selection import ShuffleSplit\n",
        "from yellowbrick.model_selection import ValidationCurve"
      ],
      "execution_count": 1,
      "outputs": []
    },
    {
      "cell_type": "code",
      "metadata": {
        "id": "L5f5uyzrE0sL"
      },
      "source": [
        "def Metrics(y_truev,y_scored,n=6):\n",
        "  return metrics.classification_report(y_true=y_truev,y_pred=y_scored,digits = n, output_dict= True)\n",
        "  '''"
      ],
      "execution_count": null,
      "outputs": []
    },
    {
      "cell_type": "code",
      "metadata": {
        "id": "GHRgMnvrpdgZ"
      },
      "source": [
        "def convert_to_one_hot(Y, C):\n",
        "    Y = np.eye(C)[Y.reshape(-1)].T\n",
        "    return Y"
      ],
      "execution_count": null,
      "outputs": []
    },
    {
      "cell_type": "code",
      "metadata": {
        "id": "Y38plhmlp5xJ"
      },
      "source": [
        "scoring = {'prec_weighted': make_scorer(precision_score, average='macro'),\n",
        "          'rec_weighted': make_scorer(recall_score, average='macro'),\n",
        "          'f1_weighted': make_scorer(f1_score, average='macro'),\n",
        "          'acc_weighted': make_scorer(accuracy_score)}"
      ],
      "execution_count": null,
      "outputs": []
    },
    {
      "cell_type": "markdown",
      "source": [
        "## Definir hiperparámetros para los modelos SVM RF y MLP"
      ],
      "metadata": {
        "id": "JKmsnV_OYmED"
      }
    },
    {
      "cell_type": "markdown",
      "metadata": {
        "id": "pOJUpSeD815K"
      },
      "source": [
        "Hiperparámetros SVM"
      ]
    },
    {
      "cell_type": "code",
      "metadata": {
        "id": "53BQBna1d8PP"
      },
      "source": [
        "param_rangeC = [0.0001, 0.001, 0.01, 0.1, 1.0, 10.0, 100.0]\n",
        "\n",
        "param_rangeGamma = [0.0001, 0.001, 0.01, 0.1, 1.0,10.0, 100.0, 1000.0]\n",
        "\n",
        "param_grid_A = [{'svc__C': param_rangeC,'svc__gamma': param_rangeGamma,'svc__kernel': ['rbf']}]\n",
        "\n",
        "param_grid_B = [{'svc__C': param_rangeC, 'svc__gamma': param_rangeGamma, 'svc__degree':[2] ,'svc__kernel': ['poly']} ]\n",
        "\n",
        "## A) lineal rbf sigmoidal\n",
        "## B) precomputed poly"
      ],
      "execution_count": null,
      "outputs": []
    },
    {
      "cell_type": "markdown",
      "metadata": {
        "id": "jOsBawyZ85Bd"
      },
      "source": [
        "Hiperparámetros RF"
      ]
    },
    {
      "cell_type": "code",
      "metadata": {
        "id": "Lr_4zbPer8oQ"
      },
      "source": [
        "n_estimators = [50, 100, 150, 200]\n",
        "criterion = ['gini','entropy']\n",
        "max_depth =  [5, 10, 15]\n",
        "\n",
        "param_grid_rf ={'max_depth': max_depth,\n",
        "                'n_estimators': n_estimators,\n",
        "               'criterion': criterion}"
      ],
      "execution_count": null,
      "outputs": []
    },
    {
      "cell_type": "markdown",
      "metadata": {
        "id": "cTkn7Itd9AmD"
      },
      "source": [
        "Hiperparámetros MLP"
      ]
    },
    {
      "cell_type": "code",
      "metadata": {
        "id": "pH6U0IPMu2JI"
      },
      "source": [
        "activation = ['relu','tanh']\n",
        "hidden_layer_sizes = [(50,) , (100,), (150,), (200,) ]\n",
        "solver = [ 'sgd', 'adam']\n",
        "max_iter = [200,500]\n",
        "alpha = [0.001, 0.01 ,0.1, 0.5]\n",
        "\n",
        "param_grid_mlp_NEW  = {'mlpclassifier__activation': activation,\n",
        "                'mlpclassifier__hidden_layer_sizes': hidden_layer_sizes,\n",
        "               'mlpclassifier__solver': solver,\n",
        "               'mlpclassifier__max_iter': max_iter,\n",
        "               'mlpclassifier__alpha': alpha}"
      ],
      "execution_count": null,
      "outputs": []
    },
    {
      "cell_type": "markdown",
      "metadata": {
        "id": "FmrZS5JLE5Qw"
      },
      "source": [
        "# Cargar conjunto de datos"
      ]
    },
    {
      "cell_type": "markdown",
      "metadata": {
        "id": "fFLvSVUgGHgC"
      },
      "source": [
        "El conjunto de datos esta dividido de la siguiente manera (por columnas)\n",
        "\n",
        "\n",
        "0.   Clase (1-6)\n",
        "1.   Cara\n",
        "2.   H\n",
        "3.   S\n",
        "4.   V\n",
        "5.   Ancho\n",
        "6.   Alto\n",
        "7.   Área\n",
        "8.   Perímetro\n",
        "9.   Redondez\n",
        "10.   Excentricidad\n",
        "11.   Proporción Ancho-Alto\n",
        "12.   Hu $m_1$\n",
        "13.  Hu $m_2$\n",
        "14.  Hu $m_3$\n",
        "15.  Hu $m_4$\n",
        "16.  Hu $m_5$\n",
        "17. Hu $m_6$\n",
        "18. Hu $m_7$\n",
        "\n"
      ]
    },
    {
      "cell_type": "markdown",
      "source": [
        "Conjunto de datos 15K"
      ],
      "metadata": {
        "id": "-N8eOCfAZVqD"
      }
    },
    {
      "cell_type": "code",
      "metadata": {
        "id": "HzOXahdqE1hb"
      },
      "source": [
        "dataSet = np.load('/content/drive/MyDrive/Paper2021/Datasets/Datos Morfologicos/VersionDosDerpuadoPorHSV/DataSetDepuradoVsAll_por_HSV_TotalDepurado_Todas_Características.npy')"
      ],
      "execution_count": 3,
      "outputs": []
    },
    {
      "cell_type": "code",
      "source": [
        "\n",
        "dataSet.shape"
      ],
      "metadata": {
        "colab": {
          "base_uri": "https://localhost:8080/"
        },
        "id": "Ihrqwi4khqRh",
        "outputId": "cb8dc30c-c1cb-4b93-ed75-1f1ff192fd65"
      },
      "execution_count": 4,
      "outputs": [
        {
          "output_type": "execute_result",
          "data": {
            "text/plain": [
              "(12734, 19)"
            ]
          },
          "metadata": {},
          "execution_count": 4
        }
      ]
    },
    {
      "cell_type": "markdown",
      "metadata": {
        "id": "8Fbpyhb-I4Wj"
      },
      "source": [
        "## Distribución de los datos"
      ]
    },
    {
      "cell_type": "markdown",
      "metadata": {
        "id": "zMsCVvv3RpL9"
      },
      "source": [
        "### Clases 100%"
      ]
    },
    {
      "cell_type": "code",
      "metadata": {
        "colab": {
          "base_uri": "https://localhost:8080/",
          "height": 559
        },
        "id": "uj_S1dzvI3Ip",
        "outputId": "06decccf-3fd1-4335-9d1f-b388d1d159d1"
      },
      "source": [
        "n, bins, patches = plt.hist(x=dataSet[dataSet[:,1] == 1,0], bins='auto', color='#0504aa',\n",
        "                            alpha=0.7, rwidth=0.85)\n",
        "plt.grid(axis='y', alpha=0.75)\n",
        "plt.xlabel('Class')\n",
        "plt.ylabel('Frequency')\n",
        "plt.title('Distribución por Clases')\n",
        "plt.show()\n",
        "print(n)\n",
        "\n",
        "\n"
      ],
      "execution_count": 5,
      "outputs": [
        {
          "output_type": "display_data",
          "data": {
            "text/plain": [
              "<Figure size 800x550 with 1 Axes>"
            ],
            "image/png": "[encoded data removed]"
          },
          "metadata": {}
        },
        {
          "output_type": "stream",
          "name": "stdout",
          "text": [
            "[2340.    0.  243.    0.    0.  825.    0.    0.  240.    0.    0. 1726.\n",
            "    0.  602.]\n"
          ]
        }
      ]
    },
    {
      "cell_type": "markdown",
      "metadata": {
        "id": "a49qBtM1TJAD"
      },
      "source": [
        "# Creación de conjuntos de datos"
      ]
    },
    {
      "cell_type": "markdown",
      "metadata": {
        "id": "FZIoiebINi6d"
      },
      "source": [
        "vamos a trabajar con los colores HSV, redondez y excentricidad"
      ]
    },
    {
      "cell_type": "code",
      "metadata": {
        "id": "i_NL6tClw14G",
        "colab": {
          "base_uri": "https://localhost:8080/"
        },
        "outputId": "464684b1-3336-419f-cd7c-31a24d7a1c69"
      },
      "source": [
        "dataSet2 = dataSet[dataSet[:,1] == 1,:]\n",
        "\n",
        "C1 = dataSet2[dataSet2[:,0] == 1,2:5]  ## HSV\n",
        "C1 = np.append( C1, dataSet2[dataSet2[:,0] == 1, 9:11 ], axis = 1 )  ## Redondez Excentricidad\n",
        "YA = dataSet2[dataSet2[:,0] == 1,0]\n",
        "\n",
        "C2 = dataSet2[dataSet2[:,0] == 2,2:5]\n",
        "C2 = np.append( C2, dataSet2[dataSet2[:,0] == 2, 9:11 ], axis = 1 )\n",
        "YA = np.append(YA,dataSet2[dataSet2[:,0] == 2,0])\n",
        "\n",
        "C3 = dataSet2[dataSet2[:,0] == 3,2:5]\n",
        "C3 = np.append( C3, dataSet2[dataSet2[:,0] == 3, 9:11 ], axis = 1 )\n",
        "YA = np.append(YA,dataSet2[dataSet2[:,0] == 3,0])\n",
        "\n",
        "C4 = dataSet2[dataSet2[:,0] == 4,2:5]\n",
        "C4 = np.append( C4, dataSet2[dataSet2[:,0] == 4, 9:11 ], axis = 1 )\n",
        "YA = np.append(YA,dataSet2[dataSet2[:,0] == 4,0])\n",
        "\n",
        "C5 = dataSet2[dataSet2[:,0] == 5,2:5]\n",
        "C5 = np.append( C5, dataSet2[dataSet2[:,0] == 5, 9:11 ], axis = 1 )\n",
        "YA = np.append(YA,dataSet2[dataSet2[:,0] == 5,0])\n",
        "\n",
        "C6 = dataSet2[dataSet2[:,0] == 6,2:5]\n",
        "C6 = np.append( C6, dataSet2[dataSet2[:,0] == 6, 9:11 ], axis = 1 )\n",
        "YA = np.append(YA,dataSet2[dataSet2[:,0] == 6,0])\n",
        "\n",
        "XA = C1\n",
        "XA = np.append(XA,C2, axis = 0)\n",
        "XA = np.append(XA,C3, axis = 0)\n",
        "XA = np.append(XA,C4, axis = 0)\n",
        "XA = np.append(XA,C5, axis = 0)\n",
        "XA = np.append(XA,C6, axis = 0)\n",
        "YA = YA.astype(int)\n",
        "print(XA.shape)\n",
        "print(YA.shape)"
      ],
      "execution_count": 7,
      "outputs": [
        {
          "output_type": "stream",
          "name": "stdout",
          "text": [
            "(5976, 5)\n",
            "(5976,)\n"
          ]
        }
      ]
    },
    {
      "cell_type": "code",
      "metadata": {
        "id": "fQLGXF2JAmoj",
        "colab": {
          "base_uri": "https://localhost:8080/"
        },
        "outputId": "df39754f-8835-4f54-b9d7-5934a6264b90"
      },
      "source": [
        "XA[0]"
      ],
      "execution_count": null,
      "outputs": [
        {
          "output_type": "execute_result",
          "data": {
            "text/plain": [
              "array([0.17881944, 0.7804878 , 0.48235294, 0.40765296, 0.95552422])"
            ]
          },
          "metadata": {},
          "execution_count": 15
        }
      ]
    },
    {
      "cell_type": "code",
      "source": [
        "YA.shape"
      ],
      "metadata": {
        "colab": {
          "base_uri": "https://localhost:8080/"
        },
        "id": "2goAKzfCJk6n",
        "outputId": "bba5c090-69c5-4085-fc94-c93357fbaba7"
      },
      "execution_count": null,
      "outputs": [
        {
          "output_type": "execute_result",
          "data": {
            "text/plain": [
              "(5976,)"
            ]
          },
          "metadata": {},
          "execution_count": 16
        }
      ]
    },
    {
      "cell_type": "code",
      "source": [
        "np.asarray([1, 6]).shape"
      ],
      "metadata": {
        "colab": {
          "base_uri": "https://localhost:8080/"
        },
        "id": "JYcKOiRcJ1S1",
        "outputId": "04231162-e2a2-4f31-8498-38ebfc451764"
      },
      "execution_count": null,
      "outputs": [
        {
          "output_type": "execute_result",
          "data": {
            "text/plain": [
              "(2,)"
            ]
          },
          "metadata": {},
          "execution_count": 17
        }
      ]
    },
    {
      "cell_type": "markdown",
      "metadata": {
        "id": "mHqMN_-FOxI1"
      },
      "source": [
        "### Datos entrenamiento y test 80-20"
      ]
    },
    {
      "cell_type": "code",
      "metadata": {
        "id": "J1kcMnqlO9KN"
      },
      "source": [
        "x_trainA, x_testA, y_trainA, y_testA = train_test_split(XA,YA, test_size=0.2, stratify = YA , random_state=42)"
      ],
      "execution_count": 8,
      "outputs": []
    },
    {
      "cell_type": "code",
      "metadata": {
        "id": "IiD3SCVlPHg-",
        "colab": {
          "base_uri": "https://localhost:8080/",
          "height": 541
        },
        "outputId": "cac998a2-9cc1-4579-8d07-c73249f7ed74"
      },
      "source": [
        "n, bins, patches = plt.hist(x=y_testA, bins='auto', color='#0504aa',\n",
        "                            alpha=0.7, rwidth=0.85)\n",
        "plt.grid(axis='y', alpha=0.75)\n",
        "plt.xlabel('Class')\n",
        "plt.ylabel('Frequency')\n",
        "plt.title('Data Test  A')\n",
        "plt.show()\n",
        "print(n)"
      ],
      "execution_count": 9,
      "outputs": [
        {
          "output_type": "display_data",
          "data": {
            "text/plain": [
              "<Figure size 800x550 with 1 Axes>"
            ],
            "image/png": "[encoded data removed]"
          },
          "metadata": {}
        },
        {
          "output_type": "stream",
          "name": "stdout",
          "text": [
            "[468.   0.  49.   0. 165.   0.   0.  48.   0. 345.   0. 121.]\n"
          ]
        }
      ]
    },
    {
      "cell_type": "code",
      "metadata": {
        "id": "z4OKswHhPNUP",
        "colab": {
          "base_uri": "https://localhost:8080/"
        },
        "outputId": "d70cb057-8ad2-4583-9127-66da174babd0"
      },
      "source": [
        "n, bins, patches = plt.hist(x=y_trainA, bins='auto', color='#0504aa',\n",
        "                            alpha=0.7, rwidth=0.85)\n",
        "plt.grid(axis='y', alpha=0.75)\n",
        "plt.xlabel('Class')\n",
        "plt.ylabel('Frequency')\n",
        "plt.title('Data Train A')\n",
        "plt.show()\n",
        "print(n)"
      ],
      "execution_count": null,
      "outputs": [
        {
          "output_type": "display_data",
          "data": {
            "text/plain": [
              "<Figure size 576x396 with 1 Axes>"
            ],
            "image/png": "[encoded data removed]"
          },
          "metadata": {}
        },
        {
          "output_type": "stream",
          "name": "stdout",
          "text": [
            "[1872.    0.  194.    0.    0.  660.    0.    0.  192.    0.    0. 1381.\n",
            "    0.  481.]\n"
          ]
        }
      ]
    },
    {
      "cell_type": "markdown",
      "metadata": {
        "id": "rr2TeJgtPh2-"
      },
      "source": [
        "### Datos 100"
      ]
    },
    {
      "cell_type": "markdown",
      "source": [
        "Se unen los dos conjuntos de datos x_trainA y x_testA\n",
        "\n",
        "Para crear un solo conjunto de datos,  XA y YA para la validación cruzada k=10."
      ],
      "metadata": {
        "id": "1byHmjwOZ7e7"
      }
    },
    {
      "cell_type": "code",
      "metadata": {
        "id": "fT8h7v3tPhLG",
        "colab": {
          "base_uri": "https://localhost:8080/"
        },
        "outputId": "5fd6319a-e2cd-4d8a-ab6a-17629516b6fb"
      },
      "source": [
        "XA = np.append(x_trainA,x_testA,axis=0)\n",
        "YA = np.append(y_trainA,y_testA,axis=0)\n",
        "\n",
        "\n",
        "Y_AUCROC = YA - 1\n",
        "Y_AUCROC = label_binarize( Y_AUCROC, classes = np.asarray([0, 1, 2, 3, 4, 5]) )\n",
        "\n",
        "\n",
        "print(YA.shape)\n",
        "print(XA.shape)\n",
        "print(Y_AUCROC.shape)"
      ],
      "execution_count": null,
      "outputs": [
        {
          "output_type": "stream",
          "name": "stdout",
          "text": [
            "(5976,)\n",
            "(5976, 5)\n",
            "(5976, 6)\n"
          ]
        }
      ]
    },
    {
      "cell_type": "markdown",
      "metadata": {
        "id": "ifkL66dsPu_t"
      },
      "source": [
        "### Stratified Splits"
      ]
    },
    {
      "cell_type": "markdown",
      "source": [
        "Particiones de CV k=10"
      ],
      "metadata": {
        "id": "C0XjHL5ODLIA"
      }
    },
    {
      "cell_type": "code",
      "metadata": {
        "id": "AVXj0wjuPvV-"
      },
      "source": [
        "cvA = StratifiedShuffleSplit(n_splits=10, random_state=42)\n",
        "crossVA = cvA.split(XA,YA)"
      ],
      "execution_count": null,
      "outputs": []
    },
    {
      "cell_type": "markdown",
      "metadata": {
        "id": "Jr0BEpR_QAyO"
      },
      "source": [
        "# **SVM A**"
      ]
    },
    {
      "cell_type": "markdown",
      "metadata": {
        "id": "s_buiIoTQGY9"
      },
      "source": [
        "### GridSearch  80-20"
      ]
    },
    {
      "cell_type": "code",
      "metadata": {
        "id": "GEE8Jl7_QBRO",
        "colab": {
          "base_uri": "https://localhost:8080/"
        },
        "outputId": "d8d2d9d7-a346-4be8-ea9a-4a1bee22f635"
      },
      "source": [
        "###cv=5\n",
        "pipe_svc_1_91_A = make_pipeline(StandardScaler(),SVC(random_state=1))\n",
        "gs_1_91_A = GridSearchCV(estimator=pipe_svc_1_91_A,param_grid=param_grid_A,scoring='accuracy',cv=5,n_jobs=-1)\n",
        "start_time = time()\n",
        "gs_1_91_A = gs_1_91_A.fit(x_trainA, y_trainA)\n",
        "elapsed_time = time() - start_time\n",
        "print(\"Tiempo transcurrido: %0.10f segundos.\" % elapsed_time)\n",
        "print(gs_1_91_A.best_score_)\n",
        "print(gs_1_91_A.best_params_)\n",
        "paramSVCA = gs_1_91_A.best_params_"
      ],
      "execution_count": null,
      "outputs": [
        {
          "output_type": "stream",
          "name": "stdout",
          "text": [
            "Tiempo transcurrido: 261.4637310505 segundos.\n",
            "0.9763598326359834\n",
            "{'svc__C': 100.0, 'svc__gamma': 1.0, 'svc__kernel': 'rbf'}\n"
          ]
        }
      ]
    },
    {
      "cell_type": "code",
      "metadata": {
        "id": "1_mcVLYrKVxn"
      },
      "source": [
        "paramSVCA = {'svc__C': 100.0, 'svc__gamma': 1.0, 'svc__kernel': 'rbf'}"
      ],
      "execution_count": null,
      "outputs": []
    },
    {
      "cell_type": "code",
      "metadata": {
        "id": "k0OHoGHmQZiU"
      },
      "source": [
        "pred_A_1_Grid_91 = gs_1_91_A.predict(x_testA)\n",
        "Metrics(y_testA.astype(int),pred_A_1_Grid_91.astype(int),n=6)"
      ],
      "execution_count": null,
      "outputs": []
    },
    {
      "cell_type": "markdown",
      "metadata": {
        "id": "0ArHd7s1Qkku"
      },
      "source": [
        "####  Cross_Validate"
      ]
    },
    {
      "cell_type": "code",
      "metadata": {
        "id": "LJJbZCgEQlOG",
        "colab": {
          "base_uri": "https://localhost:8080/"
        },
        "outputId": "7a755a2c-43ce-4a5b-f784-9bbcc66570d6"
      },
      "source": [
        "#### cv = 10  100%\n",
        "cvA = StratifiedShuffleSplit(n_splits=10, random_state=42)\n",
        "crossVA = cvA.split(XA,YA)\n",
        "start_time = time()\n",
        "pipe_svc_K_91_A = make_pipeline(StandardScaler(),SVC(kernel=paramSVCA['svc__kernel'],random_state=1,gamma=paramSVCA['svc__gamma'], C = paramSVCA['svc__C']))\n",
        "scores = cross_validate(estimator=pipe_svc_K_91_A,X=XA,y=YA, return_estimator= True ,scoring = scoring ,cv=crossVA,n_jobs=-1)\n",
        "elapsed_time = time() - start_time\n",
        "print(\"Tiempo transcurrido: %0.10f segundos.\" % elapsed_time)\n",
        "#print('CV scores: %s' % scores)\n",
        "print('CV accuracy: %.3f +/- %.3f' % (np.mean(scores['test_acc_weighted']),np.std(scores['test_acc_weighted'])))\n",
        "print('CV f1: %.3f +/- %.3f' % (np.mean(scores['test_f1_weighted']),np.std(scores['test_f1_weighted'])))\n",
        "print('CV prec: %.3f +/- %.3f' % (np.mean(scores['test_prec_weighted']),np.std(scores['test_prec_weighted'])))\n",
        "print('CV rec: %.3f +/- %.3f' % (np.mean(scores['test_rec_weighted']),np.std(scores['test_rec_weighted'])))\n",
        "print(\"\\n\\t\\tAccuracy\\n\")\n",
        "print(scores['test_acc_weighted'])\n",
        "print(\"\\n\\t\\t F1 \\n\")\n",
        "print(scores['test_f1_weighted'])\n",
        "print(\"\\n\\t\\t Prec \\n\")\n",
        "print(scores['test_prec_weighted'])\n",
        "print(\"\\n\\t\\t Rec \\n\")\n",
        "print(scores['test_rec_weighted'])"
      ],
      "execution_count": null,
      "outputs": [
        {
          "output_type": "stream",
          "name": "stdout",
          "text": [
            "Tiempo transcurrido: 4.8295016289 segundos.\n",
            "CV accuracy: 0.987 +/- 0.004\n",
            "CV f1: 0.980 +/- 0.006\n",
            "CV prec: 0.984 +/- 0.006\n",
            "CV rec: 0.976 +/- 0.008\n",
            "\n",
            "\t\tAccuracy\n",
            "\n",
            "[0.98494983 0.98327759 0.98494983 0.98662207 0.98327759 0.9916388\n",
            " 0.99498328 0.98160535 0.98662207 0.98829431]\n",
            "\n",
            "\t\t F1 \n",
            "\n",
            "[0.97977925 0.97916312 0.98585833 0.98166735 0.96991614 0.98220635\n",
            " 0.98941482 0.96956193 0.97858247 0.98398335]\n",
            "\n",
            "\t\t Prec \n",
            "\n",
            "[0.98283921 0.98909011 0.98123074 0.98474143 0.97109397 0.98976697\n",
            " 0.99432024 0.97795501 0.98467975 0.98659272]\n",
            "\n",
            "\t\t Rec \n",
            "\n",
            "[0.97698687 0.97004243 0.99074704 0.97874376 0.9687704  0.97619524\n",
            " 0.98514772 0.96205334 0.97279832 0.98180829]\n"
          ]
        }
      ]
    },
    {
      "cell_type": "markdown",
      "source": [
        "Matríz de confusión acumulado"
      ],
      "metadata": {
        "id": "TagIQ_7KxEFF"
      }
    },
    {
      "cell_type": "code",
      "source": [
        "i=0\n",
        "cvA = StratifiedShuffleSplit(n_splits=10, random_state=42)\n",
        "crossVA = cvA.split(XA,YA)\n",
        "acumulado = 0\n",
        "for train_index, test_index in crossVA:\n",
        "  model_91_A = make_pipeline(StandardScaler(), SVC(kernel=paramSVCA['svc__kernel'],random_state=1,gamma=paramSVCA['svc__gamma'], C = paramSVCA['svc__C']))\n",
        "  model_91_A.fit(XA[train_index],YA[train_index])\n",
        "  pred_model_91_A =  model_91_A.predict(XA[test_index])\n",
        "  print(\"\\t\\t\\t K=\"+str(i))\n",
        "  Metrics(YA[test_index].astype(int),pred_model_91_A.astype(int),6)\n",
        "  suma = metrics.confusion_matrix(y_true=YA[test_index].astype(int),y_pred=pred_model_91_A.astype(int))\n",
        "  acumulado = acumulado + suma\n",
        "  i+=1\n",
        "  print(acumulado)"
      ],
      "metadata": {
        "id": "mSLQ45ylxIhN",
        "colab": {
          "base_uri": "https://localhost:8080/"
        },
        "outputId": "bad39253-8dbf-49b3-83fa-e81d736d304d"
      },
      "execution_count": null,
      "outputs": [
        {
          "output_type": "stream",
          "name": "stdout",
          "text": [
            "\t\t\t K=0\n",
            "\n",
            "Matriz de Confusión\n",
            "\n",
            "[[231   0   1   1   1   0]\n",
            " [  1  23   0   0   0   0]\n",
            " [  0   0  80   0   3   0]\n",
            " [  0   0   0  23   1   0]\n",
            " [  0   0   0   0 172   1]\n",
            " [  0   0   0   0   0  60]]\n",
            "\n",
            " Reporte de Métricas de Clasificación \n",
            "\n",
            "              precision    recall  f1-score   support\n",
            "\n",
            "           1   0.995690  0.987179  0.991416       234\n",
            "           2   1.000000  0.958333  0.978723        24\n",
            "           3   0.987654  0.963855  0.975610        83\n",
            "           4   0.958333  0.958333  0.958333        24\n",
            "           5   0.971751  0.994220  0.982857       173\n",
            "           6   0.983607  1.000000  0.991736        60\n",
            "\n",
            "    accuracy                       0.984950       598\n",
            "   macro avg   0.982839  0.976987  0.979779       598\n",
            "weighted avg   0.985110  0.984950  0.984941       598\n",
            "\n",
            "[[231   0   1   1   1   0]\n",
            " [  1  23   0   0   0   0]\n",
            " [  0   0  80   0   3   0]\n",
            " [  0   0   0  23   1   0]\n",
            " [  0   0   0   0 172   1]\n",
            " [  0   0   0   0   0  60]]\n",
            "\t\t\t K=1\n",
            "\n",
            "Matriz de Confusión\n",
            "\n",
            "[[231   0   2   0   1   0]\n",
            " [  0  23   0   0   1   0]\n",
            " [  2   0  80   0   1   0]\n",
            " [  0   0   0  22   2   0]\n",
            " [  1   0   0   0 172   0]\n",
            " [  0   0   0   0   0  60]]\n",
            "\n",
            " Reporte de Métricas de Clasificación \n",
            "\n",
            "              precision    recall  f1-score   support\n",
            "\n",
            "           1   0.987179  0.987179  0.987179       234\n",
            "           2   1.000000  0.958333  0.978723        24\n",
            "           3   0.975610  0.963855  0.969697        83\n",
            "           4   1.000000  0.916667  0.956522        24\n",
            "           5   0.971751  0.994220  0.982857       173\n",
            "           6   1.000000  1.000000  1.000000        60\n",
            "\n",
            "    accuracy                       0.983278       598\n",
            "   macro avg   0.989090  0.970042  0.979163       598\n",
            "weighted avg   0.983426  0.983278  0.983219       598\n",
            "\n",
            "[[462   0   3   1   2   0]\n",
            " [  1  46   0   0   1   0]\n",
            " [  2   0 160   0   4   0]\n",
            " [  0   0   0  45   3   0]\n",
            " [  1   0   0   0 344   1]\n",
            " [  0   0   0   0   0 120]]\n",
            "\t\t\t K=2\n",
            "\n",
            "Matriz de Confusión\n",
            "\n",
            "[[228   1   5   0   0   0]\n",
            " [  0  24   0   0   0   0]\n",
            " [  1   0  81   0   1   0]\n",
            " [  0   0   0  24   0   0]\n",
            " [  1   0   0   0 172   0]\n",
            " [  0   0   0   0   0  60]]\n",
            "\n",
            " Reporte de Métricas de Clasificación \n",
            "\n",
            "              precision    recall  f1-score   support\n",
            "\n",
            "           1   0.991304  0.974359  0.982759       234\n",
            "           2   0.960000  1.000000  0.979592        24\n",
            "           3   0.941860  0.975904  0.958580        83\n",
            "           4   1.000000  1.000000  1.000000        24\n",
            "           5   0.994220  0.994220  0.994220       173\n",
            "           6   1.000000  1.000000  1.000000        60\n",
            "\n",
            "    accuracy                       0.984950       598\n",
            "   macro avg   0.981231  0.990747  0.985858       598\n",
            "weighted avg   0.985250  0.984950  0.985013       598\n",
            "\n",
            "[[690   1   8   1   2   0]\n",
            " [  1  70   0   0   1   0]\n",
            " [  3   0 241   0   5   0]\n",
            " [  0   0   0  69   3   0]\n",
            " [  2   0   0   0 516   1]\n",
            " [  0   0   0   0   0 180]]\n",
            "\t\t\t K=3\n",
            "\n",
            "Matriz de Confusión\n",
            "\n",
            "[[232   0   1   0   1   0]\n",
            " [  1  23   0   0   0   0]\n",
            " [  1   0  81   0   1   0]\n",
            " [  0   0   0  23   1   0]\n",
            " [  0   0   1   1 171   0]\n",
            " [  0   0   0   0   0  60]]\n",
            "\n",
            " Reporte de Métricas de Clasificación \n",
            "\n",
            "              precision    recall  f1-score   support\n",
            "\n",
            "           1   0.991453  0.991453  0.991453       234\n",
            "           2   1.000000  0.958333  0.978723        24\n",
            "           3   0.975904  0.975904  0.975904        83\n",
            "           4   0.958333  0.958333  0.958333        24\n",
            "           5   0.982759  0.988439  0.985591       173\n",
            "           6   1.000000  1.000000  1.000000        60\n",
            "\n",
            "    accuracy                       0.986622       598\n",
            "   macro avg   0.984741  0.978744  0.981667       598\n",
            "weighted avg   0.986651  0.986622  0.986616       598\n",
            "\n",
            "[[922   1   9   1   3   0]\n",
            " [  2  93   0   0   1   0]\n",
            " [  4   0 322   0   6   0]\n",
            " [  0   0   0  92   4   0]\n",
            " [  2   0   1   1 687   1]\n",
            " [  0   0   0   0   0 240]]\n",
            "\t\t\t K=4\n",
            "\n",
            "Matriz de Confusión\n",
            "\n",
            "[[233   1   0   0   0   0]\n",
            " [  1  22   0   1   0   0]\n",
            " [  1   0  81   0   1   0]\n",
            " [  0   0   0  23   1   0]\n",
            " [  0   1   2   0 170   0]\n",
            " [  1   0   0   0   0  59]]\n",
            "\n",
            " Reporte de Métricas de Clasificación \n",
            "\n",
            "              precision    recall  f1-score   support\n",
            "\n",
            "           1   0.987288  0.995726  0.991489       234\n",
            "           2   0.916667  0.916667  0.916667        24\n",
            "           3   0.975904  0.975904  0.975904        83\n",
            "           4   0.958333  0.958333  0.958333        24\n",
            "           5   0.988372  0.982659  0.985507       173\n",
            "           6   1.000000  0.983333  0.991597        60\n",
            "\n",
            "    accuracy                       0.983278       598\n",
            "   macro avg   0.971094  0.968770  0.969916       598\n",
            "weighted avg   0.983301  0.983278  0.983273       598\n",
            "\n",
            "[[1155    2    9    1    3    0]\n",
            " [   3  115    0    1    1    0]\n",
            " [   5    0  403    0    7    0]\n",
            " [   0    0    0  115    5    0]\n",
            " [   2    1    3    1  857    1]\n",
            " [   1    0    0    0    0  299]]\n",
            "\t\t\t K=5\n",
            "\n",
            "Matriz de Confusión\n",
            "\n",
            "[[234   0   0   0   0   0]\n",
            " [  0  24   0   0   0   0]\n",
            " [  0   0  82   0   1   0]\n",
            " [  0   1   0  21   2   0]\n",
            " [  1   0   0   0 172   0]\n",
            " [  0   0   0   0   0  60]]\n",
            "\n",
            " Reporte de Métricas de Clasificación \n",
            "\n",
            "              precision    recall  f1-score   support\n",
            "\n",
            "           1   0.995745  1.000000  0.997868       234\n",
            "           2   0.960000  1.000000  0.979592        24\n",
            "           3   1.000000  0.987952  0.993939        83\n",
            "           4   1.000000  0.875000  0.933333        24\n",
            "           5   0.982857  0.994220  0.988506       173\n",
            "           6   1.000000  1.000000  1.000000        60\n",
            "\n",
            "    accuracy                       0.991639       598\n",
            "   macro avg   0.989767  0.976195  0.982206       598\n",
            "weighted avg   0.991770  0.991639  0.991505       598\n",
            "\n",
            "[[1389    2    9    1    3    0]\n",
            " [   3  139    0    1    1    0]\n",
            " [   5    0  485    0    8    0]\n",
            " [   0    1    0  136    7    0]\n",
            " [   3    1    3    1 1029    1]\n",
            " [   1    0    0    0    0  359]]\n",
            "\t\t\t K=6\n",
            "\n",
            "Matriz de Confusión\n",
            "\n",
            "[[234   0   0   0   0   0]\n",
            " [  0  24   0   0   0   0]\n",
            " [  0   0  83   0   0   0]\n",
            " [  0   0   0  22   1   1]\n",
            " [  0   0   1   0 172   0]\n",
            " [  0   0   0   0   0  60]]\n",
            "\n",
            " Reporte de Métricas de Clasificación \n",
            "\n",
            "              precision    recall  f1-score   support\n",
            "\n",
            "           1   1.000000  1.000000  1.000000       234\n",
            "           2   1.000000  1.000000  1.000000        24\n",
            "           3   0.988095  1.000000  0.994012        83\n",
            "           4   1.000000  0.916667  0.956522        24\n",
            "           5   0.994220  0.994220  0.994220       173\n",
            "           6   0.983607  1.000000  0.991736        60\n",
            "\n",
            "    accuracy                       0.994983       598\n",
            "   macro avg   0.994320  0.985148  0.989415       598\n",
            "weighted avg   0.995031  0.994983  0.994922       598\n",
            "\n",
            "[[1623    2    9    1    3    0]\n",
            " [   3  163    0    1    1    0]\n",
            " [   5    0  568    0    8    0]\n",
            " [   0    1    0  158    8    1]\n",
            " [   3    1    4    1 1201    1]\n",
            " [   1    0    0    0    0  419]]\n",
            "\t\t\t K=7\n",
            "\n",
            "Matriz de Confusión\n",
            "\n",
            "[[231   0   2   0   1   0]\n",
            " [  0  23   0   1   0   0]\n",
            " [  3   0  79   0   1   0]\n",
            " [  0   0   0  21   1   2]\n",
            " [  0   0   0   0 173   0]\n",
            " [  0   0   0   0   0  60]]\n",
            "\n",
            " Reporte de Métricas de Clasificación \n",
            "\n",
            "              precision    recall  f1-score   support\n",
            "\n",
            "           1   0.987179  0.987179  0.987179       234\n",
            "           2   1.000000  0.958333  0.978723        24\n",
            "           3   0.975309  0.951807  0.963415        83\n",
            "           4   0.954545  0.875000  0.913043        24\n",
            "           5   0.982955  1.000000  0.991404       173\n",
            "           6   0.967742  1.000000  0.983607        60\n",
            "\n",
            "    accuracy                       0.981605       598\n",
            "   macro avg   0.977955  0.962053  0.969562       598\n",
            "weighted avg   0.981564  0.981605  0.981430       598\n",
            "\n",
            "[[1854    2   11    1    4    0]\n",
            " [   3  186    0    2    1    0]\n",
            " [   8    0  647    0    9    0]\n",
            " [   0    1    0  179    9    3]\n",
            " [   3    1    4    1 1374    1]\n",
            " [   1    0    0    0    0  479]]\n",
            "\t\t\t K=8\n",
            "\n",
            "Matriz de Confusión\n",
            "\n",
            "[[234   0   0   0   0   0]\n",
            " [  0  22   0   0   2   0]\n",
            " [  1   0  81   0   1   0]\n",
            " [  0   0   0  24   0   0]\n",
            " [  0   0   0   0 172   1]\n",
            " [  1   1   0   0   1  57]]\n",
            "\n",
            " Reporte de Métricas de Clasificación \n",
            "\n",
            "              precision    recall  f1-score   support\n",
            "\n",
            "           1   0.991525  1.000000  0.995745       234\n",
            "           2   0.956522  0.916667  0.936170        24\n",
            "           3   1.000000  0.975904  0.987805        83\n",
            "           4   1.000000  1.000000  1.000000        24\n",
            "           5   0.977273  0.994220  0.985673       173\n",
            "           6   0.982759  0.950000  0.966102        60\n",
            "\n",
            "    accuracy                       0.986622       598\n",
            "   macro avg   0.984680  0.972798  0.978582       598\n",
            "weighted avg   0.986634  0.986622  0.986535       598\n",
            "\n",
            "[[2088    2   11    1    4    0]\n",
            " [   3  208    0    2    3    0]\n",
            " [   9    0  728    0   10    0]\n",
            " [   0    1    0  203    9    3]\n",
            " [   3    1    4    1 1546    2]\n",
            " [   2    1    0    0    1  536]]\n",
            "\t\t\t K=9\n",
            "\n",
            "Matriz de Confusión\n",
            "\n",
            "[[233   1   0   0   0   0]\n",
            " [  0  24   0   0   0   0]\n",
            " [  0   0  81   0   2   0]\n",
            " [  0   0   0  23   1   0]\n",
            " [  0   0   1   0 172   0]\n",
            " [  0   0   0   0   2  58]]\n",
            "\n",
            " Reporte de Métricas de Clasificación \n",
            "\n",
            "              precision    recall  f1-score   support\n",
            "\n",
            "           1   1.000000  0.995726  0.997859       234\n",
            "           2   0.960000  1.000000  0.979592        24\n",
            "           3   0.987805  0.975904  0.981818        83\n",
            "           4   1.000000  0.958333  0.978723        24\n",
            "           5   0.971751  0.994220  0.982857       173\n",
            "           6   1.000000  0.966667  0.983051        60\n",
            "\n",
            "    accuracy                       0.988294       598\n",
            "   macro avg   0.986593  0.981808  0.983983       598\n",
            "weighted avg   0.988530  0.988294  0.988306       598\n",
            "\n",
            "[[2321    3   11    1    4    0]\n",
            " [   3  232    0    2    3    0]\n",
            " [   9    0  809    0   12    0]\n",
            " [   0    1    0  226   10    3]\n",
            " [   3    1    5    1 1718    2]\n",
            " [   2    1    0    0    3  594]]\n"
          ]
        }
      ]
    },
    {
      "cell_type": "markdown",
      "source": [
        "Obtención de promedios por métrica"
      ],
      "metadata": {
        "id": "RNsbfneUHK1t"
      }
    },
    {
      "cell_type": "code",
      "source": [
        "i=0\n",
        "cvA = StratifiedShuffleSplit(n_splits=10, random_state=42)\n",
        "crossVA = cvA.split(XA,YA)\n",
        "acumulado1 = []\n",
        "acumulado2 = []\n",
        "acumulado3 = []\n",
        "acumulado4 = []\n",
        "acumulado5 = []\n",
        "acumulado6 = []\n",
        "for train_index, test_index in crossVA:\n",
        "  model_91_A = make_pipeline(StandardScaler(), SVC(kernel=paramSVCA['svc__kernel'],random_state=1,gamma=paramSVCA['svc__gamma'], C = paramSVCA['svc__C']))\n",
        "  model_91_A.fit(XA[train_index],YA[train_index])\n",
        "  pred_model_91_A =  model_91_A.predict(XA[test_index])\n",
        "  print(\"\\t\\t\\t K=\"+str(i))\n",
        "  dic = Metrics(YA[test_index].astype(int),pred_model_91_A.astype(int),6)\n",
        "  ### diccionario 'f1-score', 'recall', 'precision'\n",
        "  acumulado1.append(dic['1']['precision'])\n",
        "  acumulado2.append(dic['2']['precision'])\n",
        "  acumulado3.append(dic['3']['precision'])\n",
        "  acumulado4.append(dic['4']['precision'])\n",
        "  acumulado5.append(dic['5']['precision'])\n",
        "  acumulado6.append(dic['6']['precision'])\n",
        "  i+=1\n",
        "  print(\"\\n\\n\")\n"
      ],
      "metadata": {
        "colab": {
          "base_uri": "https://localhost:8080/"
        },
        "id": "AwNrVGX0HKWO",
        "outputId": "b9cb664e-3323-4fba-b93a-29db3e1dcb84"
      },
      "execution_count": null,
      "outputs": [
        {
          "output_type": "stream",
          "name": "stdout",
          "text": [
            "\t\t\t K=0\n",
            "\n",
            "\n",
            "\n",
            "\t\t\t K=1\n",
            "\n",
            "\n",
            "\n",
            "\t\t\t K=2\n",
            "\n",
            "\n",
            "\n",
            "\t\t\t K=3\n",
            "\n",
            "\n",
            "\n",
            "\t\t\t K=4\n",
            "\n",
            "\n",
            "\n",
            "\t\t\t K=5\n",
            "\n",
            "\n",
            "\n",
            "\t\t\t K=6\n",
            "\n",
            "\n",
            "\n",
            "\t\t\t K=7\n",
            "\n",
            "\n",
            "\n",
            "\t\t\t K=8\n",
            "\n",
            "\n",
            "\n",
            "\t\t\t K=9\n",
            "\n",
            "\n",
            "\n"
          ]
        }
      ]
    },
    {
      "cell_type": "code",
      "source": [
        "array_acumulado_1 = np.asarray(acumulado1)\n",
        "array_acumulado_2 = np.asarray(acumulado2)\n",
        "array_acumulado_3 = np.asarray(acumulado3)\n",
        "array_acumulado_4 = np.asarray(acumulado4)\n",
        "array_acumulado_5 = np.asarray(acumulado5)\n",
        "array_acumulado_6 = np.asarray(acumulado6)\n",
        "\n",
        "print('clase 1')\n",
        "print('CV : %.6f +/- %.6f' % (np.mean(array_acumulado_1),np.std(array_acumulado_1)))\n",
        "print('clase 2')\n",
        "print('CV : %.6f +/- %.6f' % (np.mean(array_acumulado_2),np.std(array_acumulado_2)))\n",
        "print('clase 3')\n",
        "print('CV : %.6f +/- %.6f' % (np.mean(array_acumulado_3),np.std(array_acumulado_3)))\n",
        "print('clase 4')\n",
        "print('CV : %.6f +/- %.6f' % (np.mean(array_acumulado_4),np.std(array_acumulado_4)))\n",
        "print('clase 5')\n",
        "print('CV : %.6f +/- %.6f' % (np.mean(array_acumulado_5),np.std(array_acumulado_5)))\n",
        "print('clase 6')\n",
        "print('CV : %.6f +/- %.6f' % (np.mean(array_acumulado_6),np.std(array_acumulado_6)))"
      ],
      "metadata": {
        "colab": {
          "base_uri": "https://localhost:8080/"
        },
        "id": "1PsIHsxaHji-",
        "outputId": "484ddf84-d984-45a0-b726-aed48cb61e70"
      },
      "execution_count": null,
      "outputs": [
        {
          "output_type": "stream",
          "name": "stdout",
          "text": [
            "clase 1\n",
            "CV : 0.992736 +/- 0.004689\n",
            "clase 2\n",
            "CV : 0.975319 +/- 0.027465\n",
            "clase 3\n",
            "CV : 0.980814 +/- 0.015836\n",
            "clase 4\n",
            "CV : 0.982955 +/- 0.020902\n",
            "clase 5\n",
            "CV : 0.981791 +/- 0.008237\n",
            "clase 6\n",
            "CV : 0.991771 +/- 0.010946\n"
          ]
        }
      ]
    },
    {
      "cell_type": "markdown",
      "metadata": {
        "id": "Eum-mGybSNr9"
      },
      "source": [
        "# **RANDOM FOREST A**"
      ]
    },
    {
      "cell_type": "markdown",
      "metadata": {
        "id": "dtIJZtOOSRVF"
      },
      "source": [
        "### GridSearch 80-20"
      ]
    },
    {
      "cell_type": "code",
      "metadata": {
        "id": "kp9lOIDRSOSN",
        "colab": {
          "base_uri": "https://localhost:8080/"
        },
        "outputId": "a5929d83-458e-49ff-f2b8-5cc3ec7594c0"
      },
      "source": [
        "RF_91_A =  RandomForestClassifier(random_state = 42)\n",
        "\n",
        "gs_RF_91_A = GridSearchCV(estimator=RF_91_A,param_grid=param_grid_rf,scoring='accuracy',cv=5,n_jobs=-1)\n",
        "start_time = time()\n",
        "gs_RF_91_A = gs_RF_91_A.fit(x_trainA, y_trainA)\n",
        "elapsed_time = time() - start_time\n",
        "print(\"Tiempo transcurrido: %0.10f segundos.\" % elapsed_time)\n",
        "print(gs_RF_91_A.best_score_)\n",
        "print(gs_RF_91_A.best_params_)\n",
        "paramRFA = gs_RF_91_A.best_params_"
      ],
      "execution_count": null,
      "outputs": [
        {
          "output_type": "stream",
          "name": "stdout",
          "text": [
            "Tiempo transcurrido: 70.5536043644 segundos.\n",
            "0.9845188284518829\n",
            "{'criterion': 'entropy', 'max_depth': 15, 'n_estimators': 100}\n"
          ]
        }
      ]
    },
    {
      "cell_type": "code",
      "metadata": {
        "id": "6YDu-b6QSlBd",
        "colab": {
          "base_uri": "https://localhost:8080/"
        },
        "outputId": "a46b36e3-fb06-4e37-eb22-9264e888d08e"
      },
      "source": [
        "pred_RF_Grid_91_A = gs_RF_91_A.predict(x_testA)\n",
        "Metrics(y_testA.astype(int),pred_RF_Grid_91_A.astype(int),6)"
      ],
      "execution_count": null,
      "outputs": [
        {
          "output_type": "stream",
          "name": "stdout",
          "text": [
            "\n",
            "Matriz de Confusión\n",
            "\n",
            "[[465   1   2   0   0   0]\n",
            " [  2  45   0   1   0   1]\n",
            " [  3   0 160   0   2   0]\n",
            " [  1   0   0  46   0   1]\n",
            " [  0   0   0   0 345   0]\n",
            " [  0   0   0   1   1 119]]\n",
            "\n",
            " Reporte de Métricas de Clasificación \n",
            "\n",
            "              precision    recall  f1-score   support\n",
            "\n",
            "           1   0.987261  0.993590  0.990415       468\n",
            "           2   0.978261  0.918367  0.947368        49\n",
            "           3   0.987654  0.969697  0.978593       165\n",
            "           4   0.958333  0.958333  0.958333        48\n",
            "           5   0.991379  1.000000  0.995671       345\n",
            "           6   0.983471  0.983471  0.983471       121\n",
            "\n",
            "    accuracy                       0.986622      1196\n",
            "   macro avg   0.981060  0.970576  0.975642      1196\n",
            "weighted avg   0.986590  0.986622  0.986547      1196\n",
            "\n"
          ]
        }
      ]
    },
    {
      "cell_type": "markdown",
      "metadata": {
        "id": "CpHNazg9S3ww"
      },
      "source": [
        "####  Cross_Validate"
      ]
    },
    {
      "cell_type": "code",
      "metadata": {
        "id": "8FAO3UOjS4SW",
        "colab": {
          "base_uri": "https://localhost:8080/"
        },
        "outputId": "daebb4a8-0ca2-4cc7-bf27-24f1c048a091"
      },
      "source": [
        "#### cv = 10  100%\n",
        "cvA = StratifiedShuffleSplit(n_splits=10, random_state=42)\n",
        "crossVA = cvA.split(x_trainA,y_trainA)\n",
        "kf_RF_91_A = RandomForestClassifier(criterion=paramRFA['criterion'],max_depth= paramRFA['max_depth'], n_estimators = paramRFA['n_estimators'] ,random_state = 42)\n",
        "start_time = time()\n",
        "scores = cross_validate(estimator=kf_RF_91_A ,X=x_trainA,y=y_trainA, scoring = scoring, return_estimator= True ,cv = crossVA,n_jobs=-1)\n",
        "elapsed_time = time() - start_time\n",
        "print(\"Tiempo transcurrido: %0.10f segundos.\" % elapsed_time)\n",
        "#print('CV scores: %s' % scores)\n",
        "print('CV accuracy: %.6f +/- %.6f' % (np.mean(scores['test_acc_weighted']),np.std(scores['test_acc_weighted'])))\n",
        "print('CV f1: %.6f +/- %.6f' % (np.mean(scores['test_f1_weighted']),np.std(scores['test_f1_weighted'])))\n",
        "print('CV prec: %.6f +/- %.6f' % (np.mean(scores['test_prec_weighted']),np.std(scores['test_prec_weighted'])))\n",
        "print('CV rec: %.6f +/- %.6f' % (np.mean(scores['test_rec_weighted']),np.std(scores['test_rec_weighted'])))\n",
        "print(\"\\n\\t\\tAccuracy\\n\")\n",
        "print(scores['test_acc_weighted'])\n",
        "print(\"\\n\\t\\t F1 \\n\")\n",
        "print(scores['test_f1_weighted'])\n",
        "print(\"\\n\\t\\t Prec \\n\")\n",
        "print(scores['test_prec_weighted'])\n",
        "print(\"\\n\\t\\t Rec \\n\")\n",
        "print(scores['test_rec_weighted'])\n"
      ],
      "execution_count": null,
      "outputs": [
        {
          "output_type": "stream",
          "name": "stdout",
          "text": [
            "Tiempo transcurrido: 7.0413997173 segundos.\n",
            "CV accuracy: 0.986611 +/- 0.008167\n",
            "CV f1: 0.979833 +/- 0.014417\n",
            "CV prec: 0.987472 +/- 0.009496\n",
            "CV rec: 0.973607 +/- 0.018312\n",
            "\n",
            "\t\tAccuracy\n",
            "\n",
            "[0.9790795  0.98953975 0.9874477  0.96861925 0.9832636  0.99790795\n",
            " 0.9958159  0.98535565 0.98535565 0.99372385]\n",
            "\n",
            "\t\t F1 \n",
            "\n",
            "[0.96759264 0.99003217 0.97519481 0.9460982  0.97587089 0.99512481\n",
            " 0.99302419 0.97669616 0.98430682 0.99438435]\n",
            "\n",
            "\t\t Prec \n",
            "\n",
            "[0.97946762 0.99098995 0.98553772 0.96463715 0.98553314 0.99880096\n",
            " 0.99761905 0.98663963 0.99067227 0.99482559]\n",
            "\n",
            "\t\t Rec \n",
            "\n",
            "[0.95838254 0.98943237 0.96742598 0.93142136 0.96741523 0.99166667\n",
            " 0.98870282 0.96916976 0.97839756 0.99405823]\n"
          ]
        }
      ]
    },
    {
      "cell_type": "markdown",
      "metadata": {
        "id": "-zywUxNYxgkw"
      },
      "source": [
        "Valores acumulados de CV Matriz de confusión"
      ]
    },
    {
      "cell_type": "code",
      "metadata": {
        "colab": {
          "base_uri": "https://localhost:8080/"
        },
        "id": "UdHRHj38-yIG",
        "outputId": "06f3e435-0f26-4543-a727-663afdeb7a97"
      },
      "source": [
        "i=0\n",
        "cvA = StratifiedShuffleSplit(n_splits=10, random_state=42)\n",
        "crossVA = cvA.split(x_trainA,y_trainA)\n",
        "acumulado = 0\n",
        "for train_index, test_index in crossVA:\n",
        "  #Modelo_rf_91_A = RandomForestClassifier(criterion=paramRFA['criterion'],max_depth= paramRFA['max_depth'], n_estimators = paramRFA['n_estimators'] ,random_state = 42)\n",
        "  Modelo_rf_91_A = RandomForestClassifier(criterion='entropy',max_depth= 20, n_estimators = 150 ,random_state = 42)\n",
        "  Modelo_rf_91_A.fit(x_trainA[train_index],y_trainA[train_index])\n",
        "  pred_model_rf_91_A =  Modelo_rf_91_A.predict(x_trainA[test_index])\n",
        "  print(\"\\t\\t\\t K=\"+str(i))\n",
        "  #suma = Metrics(YA[test_index].astype(int),pred_model_rf_91_A.astype(int),6)\n",
        "  suma = metrics.confusion_matrix(y_true=y_trainA[test_index].astype(int),y_pred=pred_model_rf_91_A.astype(int))\n",
        "  acumulado = acumulado + suma\n",
        "  i+=1\n",
        "  print(\"\\n\\n\")\n",
        "print(acumulado)"
      ],
      "execution_count": null,
      "outputs": [
        {
          "output_type": "stream",
          "name": "stdout",
          "text": [
            "\t\t\t K=0\n",
            "\n",
            "\n",
            "\n",
            "\t\t\t K=1\n",
            "\n",
            "\n",
            "\n",
            "\t\t\t K=2\n",
            "\n",
            "\n",
            "\n",
            "\t\t\t K=3\n",
            "\n",
            "\n",
            "\n",
            "\t\t\t K=4\n",
            "\n",
            "\n",
            "\n",
            "\t\t\t K=5\n",
            "\n",
            "\n",
            "\n",
            "\t\t\t K=6\n",
            "\n",
            "\n",
            "\n",
            "\t\t\t K=7\n",
            "\n",
            "\n",
            "\n",
            "\t\t\t K=8\n",
            "\n",
            "\n",
            "\n",
            "\t\t\t K=9\n",
            "\n",
            "\n",
            "\n",
            "[[1862    0    2    0    3    3]\n",
            " [   0  198    0    0    2    0]\n",
            " [   8    0  645    0    6    1]\n",
            " [   0    0    0  175    9    6]\n",
            " [   5    1    5    1 1366    2]\n",
            " [   1    0    2    0    5  472]]\n"
          ]
        }
      ]
    },
    {
      "cell_type": "markdown",
      "source": [
        "Obtención del promedio por clase de cada métrica"
      ],
      "metadata": {
        "id": "g6wX42RhU-FU"
      }
    },
    {
      "cell_type": "code",
      "metadata": {
        "id": "2JaXOrYTHlHG"
      },
      "source": [
        "i=0\n",
        "cvA = StratifiedShuffleSplit(n_splits=10, random_state=42)\n",
        "crossVA = cvA.split(XA,YA)\n",
        "acumulado1 = []\n",
        "acumulado2 = []\n",
        "acumulado3 = []\n",
        "acumulado4 = []\n",
        "acumulado5 = []\n",
        "acumulado6 = []\n",
        "for train_index, test_index in crossVA:\n",
        "  Modelo_rf_91_A = RandomForestClassifier(criterion=paramRFA['criterion'],max_depth= paramRFA['max_depth'], n_estimators = paramRFA['n_estimators'] ,random_state = 42)\n",
        "  Modelo_rf_91_A.fit(XA[train_index],YA[train_index])\n",
        "  pred_model_rf_91_A =  Modelo_rf_91_A.predict(XA[test_index])\n",
        "  print(\"\\t\\t\\t K=\"+str(i))\n",
        "  dic = Metrics(YA[test_index].astype(int),pred_model_rf_91_A.astype(int),6)\n",
        "  ### diccionario 'f1-score', 'recall', 'precision'\n",
        "  acumulado1.append(dic['1']['f1-score'])\n",
        "  acumulado2.append(dic['2']['f1-score'])\n",
        "  acumulado3.append(dic['3']['f1-score'])\n",
        "  acumulado4.append(dic['4']['f1-score'])\n",
        "  acumulado5.append(dic['5']['f1-score'])\n",
        "  acumulado6.append(dic['6']['f1-score'])\n",
        "  i+=1\n",
        "  print(\"\\n\\n\")\n"
      ],
      "execution_count": null,
      "outputs": []
    },
    {
      "cell_type": "code",
      "metadata": {
        "id": "P0KqFUWdLK59"
      },
      "source": [
        "array_acumulado_1 = np.asarray(acumulado1)\n",
        "array_acumulado_2 = np.asarray(acumulado2)\n",
        "array_acumulado_3 = np.asarray(acumulado3)\n",
        "array_acumulado_4 = np.asarray(acumulado4)\n",
        "array_acumulado_5 = np.asarray(acumulado5)\n",
        "array_acumulado_6 = np.asarray(acumulado6)\n",
        "\n",
        "print('clase 1')\n",
        "print('CV : %.6f +/- %.6f' % (np.mean(array_acumulado_1),np.std(array_acumulado_1)))\n",
        "print('clase 2')\n",
        "print('CV : %.6f +/- %.6f' % (np.mean(array_acumulado_2),np.std(array_acumulado_2)))\n",
        "print('clase 3')\n",
        "print('CV : %.6f +/- %.6f' % (np.mean(array_acumulado_3),np.std(array_acumulado_3)))\n",
        "print('clase 4')\n",
        "print('CV : %.6f +/- %.6f' % (np.mean(array_acumulado_4),np.std(array_acumulado_4)))\n",
        "print('clase 5')\n",
        "print('CV : %.6f +/- %.6f' % (np.mean(array_acumulado_5),np.std(array_acumulado_5)))\n",
        "print('clase 6')\n",
        "print('CV : %.6f +/- %.6f' % (np.mean(array_acumulado_6),np.std(array_acumulado_6)))"
      ],
      "execution_count": null,
      "outputs": []
    },
    {
      "cell_type": "markdown",
      "metadata": {
        "id": "9Tf9FrqLTjT-"
      },
      "source": [
        "# **MLP A**"
      ]
    },
    {
      "cell_type": "markdown",
      "metadata": {
        "id": "KgRpovASTvjQ"
      },
      "source": [
        "### GridSearch 80-20"
      ]
    },
    {
      "cell_type": "code",
      "metadata": {
        "id": "hnvTe92mTjuO",
        "colab": {
          "base_uri": "https://localhost:8080/"
        },
        "outputId": "2a02a8fd-3b4a-44e0-c12b-57442c3b7989"
      },
      "source": [
        "MLP_91_A = make_pipeline(StandardScaler(),MLPClassifier(random_state = 42))\n",
        "\n",
        "gs_MLP_91_A = GridSearchCV(estimator=MLP_91_A,param_grid=param_grid_mlp_NEW,scoring='accuracy',cv=5,n_jobs=-1)\n",
        "start_time = time()\n",
        "gs_MLP_91_A = gs_MLP_91_A.fit(x_trainA, y_trainA)\n",
        "elapsed_time = time() - start_time\n",
        "print(\"Tiempo transcurrido: %0.10f segundos.\" % elapsed_time)\n",
        "print(gs_MLP_91_A.best_score_)\n",
        "print(gs_MLP_91_A.best_params_)\n",
        "paramMLPA = gs_MLP_91_A.best_params_"
      ],
      "execution_count": null,
      "outputs": [
        {
          "output_type": "stream",
          "name": "stdout",
          "text": [
            "Tiempo transcurrido: 2996.1965203285 segundos.\n",
            "0.9573221757322175\n",
            "{'mlpclassifier__activation': 'relu', 'mlpclassifier__alpha': 0.001, 'mlpclassifier__hidden_layer_sizes': (150,), 'mlpclassifier__max_iter': 500, 'mlpclassifier__solver': 'adam'}\n"
          ]
        },
        {
          "output_type": "stream",
          "name": "stderr",
          "text": [
            "/usr/local/lib/python3.7/dist-packages/sklearn/neural_network/_multilayer_perceptron.py:696: ConvergenceWarning: Stochastic Optimizer: Maximum iterations (500) reached and the optimization hasn't converged yet.\n",
            "  ConvergenceWarning,\n"
          ]
        }
      ]
    },
    {
      "cell_type": "code",
      "metadata": {
        "id": "O7EqIdvAxpL7"
      },
      "source": [
        "paramMLPA = {'mlpclassifier__activation': 'relu', 'mlpclassifier__alpha': 0.001, 'mlpclassifier__hidden_layer_sizes': (200,), 'mlpclassifier__max_iter': 1000, 'mlpclassifier__solver': 'adam'}"
      ],
      "execution_count": null,
      "outputs": []
    },
    {
      "cell_type": "code",
      "metadata": {
        "id": "aHih_3iZUOZA",
        "colab": {
          "base_uri": "https://localhost:8080/"
        },
        "outputId": "37813824-4635-47ce-d393-660a18a096aa"
      },
      "source": [
        "pred_MLP_Grid_91_A = gs_MLP_91_A.predict(x_testA)\n",
        "Metrics(y_testA.astype(int),pred_MLP_Grid_91_A.astype(int),4)"
      ],
      "execution_count": null,
      "outputs": [
        {
          "output_type": "stream",
          "name": "stdout",
          "text": [
            "\n",
            "Matriz de Confusión\n",
            "\n",
            "[[458   0   5   0   4   1]\n",
            " [  1  47   0   1   0   0]\n",
            " [  9   0 150   2   3   1]\n",
            " [  1   0   0  43   2   2]\n",
            " [  1   1   3   0 337   3]\n",
            " [  0   2   1   0   0 118]]\n",
            "\n",
            " Reporte de Métricas de Clasificación \n",
            "\n",
            "              precision    recall  f1-score   support\n",
            "\n",
            "           1     0.9745    0.9786    0.9765       468\n",
            "           2     0.9400    0.9592    0.9495        49\n",
            "           3     0.9434    0.9091    0.9259       165\n",
            "           4     0.9348    0.8958    0.9149        48\n",
            "           5     0.9740    0.9768    0.9754       345\n",
            "           6     0.9440    0.9752    0.9593       121\n",
            "\n",
            "    accuracy                         0.9640      1196\n",
            "   macro avg     0.9518    0.9491    0.9503      1196\n",
            "weighted avg     0.9640    0.9640    0.9639      1196\n",
            "\n"
          ]
        }
      ]
    },
    {
      "cell_type": "markdown",
      "metadata": {
        "id": "GBJ-A_vSUXV4"
      },
      "source": [
        "####  Cross_Validate"
      ]
    },
    {
      "cell_type": "code",
      "metadata": {
        "id": "HP60J7OxUX1P",
        "colab": {
          "base_uri": "https://localhost:8080/"
        },
        "outputId": "5aca633c-431a-435f-c812-fe30f56a4a8b"
      },
      "source": [
        "#### cv = 10  100%\n",
        "cvA = StratifiedShuffleSplit(n_splits=10, random_state=42)\n",
        "crossVA = cvA.split(XA,YA)\n",
        "kf_MLP_91_A =  make_pipeline(StandardScaler(),MLPClassifier(alpha=paramMLPA['mlpclassifier__alpha'], hidden_layer_sizes=paramMLPA['mlpclassifier__hidden_layer_sizes'],activation=paramMLPA['mlpclassifier__activation'],max_iter=paramMLPA['mlpclassifier__max_iter'],solver=paramMLPA['mlpclassifier__solver'],random_state = 42))\n",
        "start_time = time()\n",
        "scores = cross_validate(estimator=kf_MLP_91_A ,X=XA,y=YA, scoring = scoring, return_estimator= True ,cv=crossVA,n_jobs=-1)\n",
        "elapsed_time = time() - start_time\n",
        "print(\"Tiempo transcurrido: %0.10f segundos.\" % elapsed_time)\n",
        "#print('CV scores: %s' % scores)\n",
        "print('CV accuracy: %.3f +/- %.3f' % (np.mean(scores['test_acc_weighted']),np.std(scores['test_acc_weighted'])))\n",
        "print('CV f1: %.3f +/- %.3f' % (np.mean(scores['test_f1_weighted']),np.std(scores['test_f1_weighted'])))\n",
        "print('CV prec: %.3f +/- %.3f' % (np.mean(scores['test_prec_weighted']),np.std(scores['test_prec_weighted'])))\n",
        "print('CV rec: %.3f +/- %.3f' % (np.mean(scores['test_rec_weighted']),np.std(scores['test_rec_weighted'])))\n",
        "print(\"\\n\\t\\tAccuracy\\n\")\n",
        "print(scores['test_acc_weighted'])\n",
        "print(\"\\n\\t\\t F1 \\n\")\n",
        "print(scores['test_f1_weighted'])\n",
        "print(\"\\n\\t\\t Prec \\n\")\n",
        "print(scores['test_prec_weighted'])\n",
        "print(\"\\n\\t\\t Rec \\n\")\n",
        "print(scores['test_rec_weighted'])"
      ],
      "execution_count": null,
      "outputs": [
        {
          "output_type": "stream",
          "name": "stdout",
          "text": [
            "Tiempo transcurrido: 88.2797596455 segundos.\n",
            "CV accuracy: 0.970 +/- 0.004\n",
            "CV f1: 0.958 +/- 0.008\n",
            "CV prec: 0.966 +/- 0.008\n",
            "CV rec: 0.951 +/- 0.009\n",
            "\n",
            "\t\tAccuracy\n",
            "\n",
            "[0.97324415 0.96822742 0.96822742 0.97826087 0.97324415 0.97157191\n",
            " 0.97157191 0.96488294 0.97157191 0.9632107 ]\n",
            "\n",
            "\t\t F1 \n",
            "\n",
            "[0.95834343 0.95953878 0.96378525 0.9732431  0.95216028 0.96604148\n",
            " 0.95249544 0.9413389  0.96105196 0.95467827]\n",
            "\n",
            "\t\t Prec \n",
            "\n",
            "[0.96755193 0.9672472  0.96434919 0.98062342 0.96313818 0.9750504\n",
            " 0.96249005 0.94942257 0.97349033 0.95965495]\n",
            "\n",
            "\t\t Rec \n",
            "\n",
            "[0.95021069 0.95251993 0.96338546 0.96637061 0.94216411 0.95862527\n",
            " 0.94508806 0.93496223 0.94978519 0.95118853]\n"
          ]
        }
      ]
    },
    {
      "cell_type": "code",
      "metadata": {
        "id": "hhU8hktjsOcc"
      },
      "source": [],
      "execution_count": null,
      "outputs": []
    }
  ]
}