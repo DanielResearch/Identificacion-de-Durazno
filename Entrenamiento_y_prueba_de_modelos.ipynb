{
  "nbformat": 4,
  "nbformat_minor": 0,
  "metadata": {
    "colab": {
      "provenance": [],
      "mount_file_id": "1kq33fiCDeoRngPNo2XkQOnAzbQgIuptF",
      "authorship_tag": "ABX9TyMuBn4E+AHS4u2yFUpBWzOg",
      "include_colab_link": true
    },
    "kernelspec": {
      "name": "python3",
      "display_name": "Python 3"
    },
    "language_info": {
      "name": "python"
    }
  },
  "cells": [
    {
      "cell_type": "markdown",
      "metadata": {
        "id": "view-in-github",
        "colab_type": "text"
      },
      "source": [
        "<a href=\"https://colab.research.google.com/github/DanielResearch/Identificacion-de-Durazno/blob/main/Entrenamiento_y_prueba_de_modelos.ipynb\" target=\"_parent\"><img src=\"https://colab.research.google.com/assets/colab-badge.svg\" alt=\"Open In Colab\"/></a>"
      ]
    },
    {
      "cell_type": "markdown",
      "metadata": {
        "id": "WQk2LNFFDaDQ"
      },
      "source": [
        "# General Setup"
      ]
    },
    {
      "cell_type": "markdown",
      "source": [
        "General SetUp son todas las librerías y funciones utilizadas, así como los métodos.\n",
        "\n",
        "También se definen aquí los hiperparámetros (ver índice)."
      ],
      "metadata": {
        "id": "tHm4mO-na_zx"
      }
    },
    {
      "cell_type": "code",
      "source": [
        "!pip install yellowbrick"
      ],
      "metadata": {
        "colab": {
          "base_uri": "https://localhost:8080/"
        },
        "id": "7UeZJYibrE-w",
        "outputId": "5c8b8be0-18a1-4c4b-cf1b-04bcbbb3fe70"
      },
      "execution_count": null,
      "outputs": [
        {
          "output_type": "stream",
          "name": "stdout",
          "text": [
            "Requirement already satisfied: yellowbrick in /usr/local/lib/python3.7/dist-packages (1.4)\n",
            "Requirement already satisfied: matplotlib!=3.0.0,>=2.0.2 in /usr/local/lib/python3.7/dist-packages (from yellowbrick) (3.2.2)\n",
            "Requirement already satisfied: numpy>=1.16.0 in /usr/local/lib/python3.7/dist-packages (from yellowbrick) (1.21.5)\n",
            "Requirement already satisfied: cycler>=0.10.0 in /usr/local/lib/python3.7/dist-packages (from yellowbrick) (0.11.0)\n",
            "Requirement already satisfied: scipy>=1.0.0 in /usr/local/lib/python3.7/dist-packages (from yellowbrick) (1.4.1)\n",
            "Requirement already satisfied: scikit-learn>=1.0.0 in /usr/local/lib/python3.7/dist-packages (from yellowbrick) (1.0.2)\n",
            "Requirement already satisfied: python-dateutil>=2.1 in /usr/local/lib/python3.7/dist-packages (from matplotlib!=3.0.0,>=2.0.2->yellowbrick) (2.8.2)\n",
            "Requirement already satisfied: kiwisolver>=1.0.1 in /usr/local/lib/python3.7/dist-packages (from matplotlib!=3.0.0,>=2.0.2->yellowbrick) (1.4.0)\n",
            "Requirement already satisfied: pyparsing!=2.0.4,!=2.1.2,!=2.1.6,>=2.0.1 in /usr/local/lib/python3.7/dist-packages (from matplotlib!=3.0.0,>=2.0.2->yellowbrick) (3.0.7)\n",
            "Requirement already satisfied: typing-extensions in /usr/local/lib/python3.7/dist-packages (from kiwisolver>=1.0.1->matplotlib!=3.0.0,>=2.0.2->yellowbrick) (3.10.0.2)\n",
            "Requirement already satisfied: six>=1.5 in /usr/local/lib/python3.7/dist-packages (from python-dateutil>=2.1->matplotlib!=3.0.0,>=2.0.2->yellowbrick) (1.15.0)\n",
            "Requirement already satisfied: threadpoolctl>=2.0.0 in /usr/local/lib/python3.7/dist-packages (from scikit-learn>=1.0.0->yellowbrick) (3.1.0)\n",
            "Requirement already satisfied: joblib>=0.11 in /usr/local/lib/python3.7/dist-packages (from scikit-learn>=1.0.0->yellowbrick) (1.1.0)\n"
          ]
        }
      ]
    },
    {
      "cell_type": "code",
      "metadata": {
        "id": "Yl9Iqwb3DYLC"
      },
      "source": [
        "import numpy as np\n",
        "import matplotlib.pyplot as plt\n",
        "from sklearn.model_selection import train_test_split\n",
        "from sklearn.svm import SVC\n",
        "from sklearn.ensemble import RandomForestClassifier\n",
        "from sklearn.multiclass import OneVsRestClassifier\n",
        "from sklearn.neural_network import MLPClassifier\n",
        "from sklearn.metrics import classification_report, accuracy_score, make_scorer, precision_score, recall_score, f1_score,accuracy_score\n",
        "from sklearn.metrics import roc_curve, auc\n",
        "from sklearn.model_selection import GridSearchCV, cross_validate, KFold\n",
        "from sklearn.model_selection import cross_val_score, StratifiedKFold,  StratifiedShuffleSplit\n",
        "from sklearn.metrics import multilabel_confusion_matrix, precision_recall_fscore_support, roc_auc_score\n",
        "from sklearn.pipeline import make_pipeline\n",
        "from sklearn.preprocessing  import StandardScaler, label_binarize\n",
        "from sklearn import metrics\n",
        "from time import time\n",
        "from scipy import interp\n",
        "from itertools import cycle\n",
        "from sklearn.datasets import load_digits\n",
        "from sklearn.model_selection import learning_curve\n",
        "from sklearn.model_selection import ShuffleSplit\n",
        "from yellowbrick.model_selection import ValidationCurve"
      ],
      "execution_count": 1,
      "outputs": []
    },
    {
      "cell_type": "code",
      "metadata": {
        "id": "4vttDQfuD-Vj"
      },
      "source": [
        "def plotAucRoc(y_test,y_score,n_classes = 6):\n",
        "  fpr = dict()\n",
        "  tpr = dict()\n",
        "  roc_auc = dict()\n",
        "  for i in range(n_classes):\n",
        "    fpr[i], tpr[i], _ = roc_curve(y_test[:, i], y_score[:, i])\n",
        "    roc_auc[i] = auc(fpr[i], tpr[i])\n",
        "  fpr[\"micro\"], tpr[\"micro\"], _ = roc_curve(y_test.ravel(), y_score.ravel())\n",
        "  roc_auc[\"micro\"] = auc(fpr[\"micro\"], tpr[\"micro\"])\n",
        "  all_fpr = np.unique(np.concatenate([fpr[i] for i in range(n_classes)]))\n",
        "  mean_tpr = np.zeros_like(all_fpr)\n",
        "  for i in range(n_classes):\n",
        "    mean_tpr += interp(all_fpr, fpr[i], tpr[i])\n",
        "  mean_tpr /= n_classes\n",
        "  fpr[\"macro\"] = all_fpr\n",
        "  tpr[\"macro\"] = mean_tpr\n",
        "  roc_auc[\"macro\"] = auc(fpr[\"macro\"], tpr[\"macro\"])\n",
        "  lw = 2\n",
        "  plt.figure()\n",
        "  #plt.figure(figsize=(3.937, 2.9527))\n",
        "  #plt.plot(fpr[\"micro\"], tpr[\"micro\"],\n",
        "        # label='promedio micro curva ROC (área = {0:0.2f})'\n",
        "             # ''.format(roc_auc[\"micro\"]),\n",
        "        # color='deeppink', linestyle=':', linewidth=4)\n",
        "  plt.plot(fpr[\"macro\"], tpr[\"macro\"],\n",
        "         label='promedio macro curva ROC  (área = {0:0.5f})'\n",
        "               ''.format(roc_auc[\"macro\"]),\n",
        "         color='navy', linestyle=':', linewidth=4)\n",
        "  clases = ['V1','V2','V3','V4', 'V5', 'V6']\n",
        "  colors = cycle(['aqua', 'darkorange', 'cornflowerblue','green', 'red', 'blue'])\n",
        "  for i, color in zip(range(n_classes), colors):\n",
        "    plt.plot(fpr[i], tpr[i], color=color, lw=lw,\n",
        "             label='ROC {0} (área = {1:0.5f})'\n",
        "             ''.format(clases[i], roc_auc[i]))\n",
        "  plt.plot([0, 1], [0, 1], 'k--', lw=lw)\n",
        "  plt.xlim([0.0, 1.0])\n",
        "  plt.ylim([0.0, 1.05])\n",
        "  plt.xlabel('Tasa de Falsos Positivos')\n",
        "  plt.ylabel('Tasa de Verdaderos Positivos')\n",
        "  #plt.legend(loc=\"lower right\")\n",
        "  plt.legend(bbox_to_anchor=(1.04,1), loc=\"upper left\")\n",
        "  plt.show()"
      ],
      "execution_count": null,
      "outputs": []
    },
    {
      "cell_type": "code",
      "metadata": {
        "id": "L5f5uyzrE0sL"
      },
      "source": [
        "def Metrics(y_truev,y_scored,n=6):\n",
        "  return metrics.classification_report(y_true=y_truev,y_pred=y_scored,digits = n, output_dict= True)\n",
        "  '''"
      ],
      "execution_count": null,
      "outputs": []
    },
    {
      "cell_type": "code",
      "metadata": {
        "id": "GHRgMnvrpdgZ"
      },
      "source": [
        "def convert_to_one_hot(Y, C):\n",
        "    Y = np.eye(C)[Y.reshape(-1)].T\n",
        "    return Y"
      ],
      "execution_count": null,
      "outputs": []
    },
    {
      "cell_type": "code",
      "metadata": {
        "id": "Y38plhmlp5xJ"
      },
      "source": [
        "scoring = {'prec_weighted': make_scorer(precision_score, average='macro'),\n",
        "          'rec_weighted': make_scorer(recall_score, average='macro'),\n",
        "          'f1_weighted': make_scorer(f1_score, average='macro'),\n",
        "          'acc_weighted': make_scorer(accuracy_score)}"
      ],
      "execution_count": null,
      "outputs": []
    },
    {
      "cell_type": "markdown",
      "source": [
        "## Definir hiperparámetros para los modelos SVM RF y MLP"
      ],
      "metadata": {
        "id": "JKmsnV_OYmED"
      }
    },
    {
      "cell_type": "markdown",
      "metadata": {
        "id": "pOJUpSeD815K"
      },
      "source": [
        "Hiperparámetros SVM"
      ]
    },
    {
      "cell_type": "code",
      "metadata": {
        "id": "53BQBna1d8PP"
      },
      "source": [
        "param_rangeC = [0.0001, 0.001, 0.01, 0.1, 1.0, 10.0, 100.0]\n",
        "\n",
        "param_rangeGamma = [0.0001, 0.001, 0.01, 0.1, 1.0,10.0, 100.0, 1000.0]\n",
        "\n",
        "param_grid_A = [{'svc__C': param_rangeC,'svc__gamma': param_rangeGamma,'svc__kernel': ['rbf']}]\n",
        "\n",
        "param_grid_B = [{'svc__C': param_rangeC, 'svc__gamma': param_rangeGamma, 'svc__degree':[2] ,'svc__kernel': ['poly']} ]\n",
        "\n",
        "## A) lineal rbf sigmoidal\n",
        "## B) precomputed poly"
      ],
      "execution_count": null,
      "outputs": []
    },
    {
      "cell_type": "markdown",
      "metadata": {
        "id": "jOsBawyZ85Bd"
      },
      "source": [
        "Hiperparámetros RF"
      ]
    },
    {
      "cell_type": "code",
      "metadata": {
        "id": "Lr_4zbPer8oQ"
      },
      "source": [
        "n_estimators = [50, 100, 150, 200]\n",
        "criterion = ['gini','entropy']\n",
        "max_depth =  [5, 10, 15]\n",
        "\n",
        "param_grid_rf ={'max_depth': max_depth,\n",
        "                'n_estimators': n_estimators,\n",
        "               'criterion': criterion}"
      ],
      "execution_count": null,
      "outputs": []
    },
    {
      "cell_type": "markdown",
      "metadata": {
        "id": "cTkn7Itd9AmD"
      },
      "source": [
        "Hiperparámetros MLP"
      ]
    },
    {
      "cell_type": "code",
      "metadata": {
        "id": "pH6U0IPMu2JI"
      },
      "source": [
        "activation = ['relu','tanh']\n",
        "hidden_layer_sizes = [(50,) , (100,), (150,), (200,) ]\n",
        "solver = [ 'sgd', 'adam']\n",
        "max_iter = [200,500]\n",
        "alpha = [0.001, 0.01 ,0.1, 0.5]\n",
        "\n",
        "param_grid_mlp_NEW  = {'mlpclassifier__activation': activation,\n",
        "                'mlpclassifier__hidden_layer_sizes': hidden_layer_sizes,\n",
        "               'mlpclassifier__solver': solver,\n",
        "               'mlpclassifier__max_iter': max_iter,\n",
        "               'mlpclassifier__alpha': alpha}"
      ],
      "execution_count": null,
      "outputs": []
    },
    {
      "cell_type": "markdown",
      "metadata": {
        "id": "FmrZS5JLE5Qw"
      },
      "source": [
        "# Cargar conjunto de datos"
      ]
    },
    {
      "cell_type": "markdown",
      "metadata": {
        "id": "fFLvSVUgGHgC"
      },
      "source": [
        "El conjunto de datos esta dividido de la siguiente manera (por columnas)\n",
        "\n",
        "\n",
        "0.   Clase (1-6)\n",
        "1.   Cara\n",
        "2.   H\n",
        "3.   S\n",
        "4.   V\n",
        "5.   Ancho\n",
        "6.   Alto\n",
        "7.   Área\n",
        "8.   Perímetro\n",
        "9.   Redondez\n",
        "10.   Excentricidad\n",
        "11.   Proporción Ancho-Alto\n",
        "12.   Hu $m_1$\n",
        "13.  Hu $m_2$\n",
        "14.  Hu $m_3$\n",
        "15.  Hu $m_4$\n",
        "16.  Hu $m_5$\n",
        "17. Hu $m_6$\n",
        "18. Hu $m_7$\n",
        "\n"
      ]
    },
    {
      "cell_type": "markdown",
      "source": [
        "Conjunto de datos 15K"
      ],
      "metadata": {
        "id": "-N8eOCfAZVqD"
      }
    },
    {
      "cell_type": "code",
      "metadata": {
        "id": "HzOXahdqE1hb"
      },
      "source": [
        "dataSet = np.load('/content/drive/MyDrive/Paper2021/Datasets/Datos Morfologicos/VersionDosDerpuadoPorHSV/DataSetDepuradoVsAll_por_HSV_TotalDepurado_Todas_Características.npy')"
      ],
      "execution_count": 3,
      "outputs": []
    },
    {
      "cell_type": "code",
      "source": [
        "\n",
        "dataSet.shape"
      ],
      "metadata": {
        "colab": {
          "base_uri": "https://localhost:8080/"
        },
        "id": "Ihrqwi4khqRh",
        "outputId": "cb8dc30c-c1cb-4b93-ed75-1f1ff192fd65"
      },
      "execution_count": 4,
      "outputs": [
        {
          "output_type": "execute_result",
          "data": {
            "text/plain": [
              "(12734, 19)"
            ]
          },
          "metadata": {},
          "execution_count": 4
        }
      ]
    },
    {
      "cell_type": "markdown",
      "metadata": {
        "id": "8Fbpyhb-I4Wj"
      },
      "source": [
        "## Distribución de los datos"
      ]
    },
    {
      "cell_type": "markdown",
      "metadata": {
        "id": "zMsCVvv3RpL9"
      },
      "source": [
        "### Clases 100%"
      ]
    },
    {
      "cell_type": "code",
      "metadata": {
        "colab": {
          "base_uri": "https://localhost:8080/",
          "height": 559
        },
        "id": "uj_S1dzvI3Ip",
        "outputId": "06decccf-3fd1-4335-9d1f-b388d1d159d1"
      },
      "source": [
        "n, bins, patches = plt.hist(x=dataSet[dataSet[:,1] == 1,0], bins='auto', color='#0504aa',\n",
        "                            alpha=0.7, rwidth=0.85)\n",
        "plt.grid(axis='y', alpha=0.75)\n",
        "plt.xlabel('Class')\n",
        "plt.ylabel('Frequency')\n",
        "plt.title('Distribución por Clases')\n",
        "plt.show()\n",
        "print(n)\n",
        "\n",
        "\n"
      ],
      "execution_count": 5,
      "outputs": [
        {
          "output_type": "display_data",
          "data": {
            "text/plain": [
              "<Figure size 800x550 with 1 Axes>"
            ],
            "image/png": "[encoded data removed]"
          },
          "metadata": {}
        },
        {
          "output_type": "stream",
          "name": "stdout",
          "text": [
            "[2340.    0.  243.    0.    0.  825.    0.    0.  240.    0.    0. 1726.\n",
            "    0.  602.]\n"
          ]
        }
      ]
    },
    {
      "cell_type": "markdown",
      "metadata": {
        "id": "a49qBtM1TJAD"
      },
      "source": [
        "# Creación de conjuntos de datos"
      ]
    },
    {
      "cell_type": "markdown",
      "metadata": {
        "id": "FZIoiebINi6d"
      },
      "source": [
        "vamos a trabajar con los colores HSV, redondez y excentricidad"
      ]
    },
    {
      "cell_type": "code",
      "metadata": {
        "id": "i_NL6tClw14G",
        "colab": {
          "base_uri": "https://localhost:8080/"
        },
        "outputId": "464684b1-3336-419f-cd7c-31a24d7a1c69"
      },
      "source": [
        "dataSet2 = dataSet[dataSet[:,1] == 1,:]\n",
        "\n",
        "C1 = dataSet2[dataSet2[:,0] == 1,2:5]  ## HSV\n",
        "C1 = np.append( C1, dataSet2[dataSet2[:,0] == 1, 9:11 ], axis = 1 )  ## Redondez Excentricidad\n",
        "YA = dataSet2[dataSet2[:,0] == 1,0]\n",
        "\n",
        "C2 = dataSet2[dataSet2[:,0] == 2,2:5]\n",
        "C2 = np.append( C2, dataSet2[dataSet2[:,0] == 2, 9:11 ], axis = 1 )\n",
        "YA = np.append(YA,dataSet2[dataSet2[:,0] == 2,0])\n",
        "\n",
        "C3 = dataSet2[dataSet2[:,0] == 3,2:5]\n",
        "C3 = np.append( C3, dataSet2[dataSet2[:,0] == 3, 9:11 ], axis = 1 )\n",
        "YA = np.append(YA,dataSet2[dataSet2[:,0] == 3,0])\n",
        "\n",
        "C4 = dataSet2[dataSet2[:,0] == 4,2:5]\n",
        "C4 = np.append( C4, dataSet2[dataSet2[:,0] == 4, 9:11 ], axis = 1 )\n",
        "YA = np.append(YA,dataSet2[dataSet2[:,0] == 4,0])\n",
        "\n",
        "C5 = dataSet2[dataSet2[:,0] == 5,2:5]\n",
        "C5 = np.append( C5, dataSet2[dataSet2[:,0] == 5, 9:11 ], axis = 1 )\n",
        "YA = np.append(YA,dataSet2[dataSet2[:,0] == 5,0])\n",
        "\n",
        "C6 = dataSet2[dataSet2[:,0] == 6,2:5]\n",
        "C6 = np.append( C6, dataSet2[dataSet2[:,0] == 6, 9:11 ], axis = 1 )\n",
        "YA = np.append(YA,dataSet2[dataSet2[:,0] == 6,0])\n",
        "\n",
        "XA = C1\n",
        "XA = np.append(XA,C2, axis = 0)\n",
        "XA = np.append(XA,C3, axis = 0)\n",
        "XA = np.append(XA,C4, axis = 0)\n",
        "XA = np.append(XA,C5, axis = 0)\n",
        "XA = np.append(XA,C6, axis = 0)\n",
        "YA = YA.astype(int)\n",
        "print(XA.shape)\n",
        "print(YA.shape)"
      ],
      "execution_count": 7,
      "outputs": [
        {
          "output_type": "stream",
          "name": "stdout",
          "text": [
            "(5976, 5)\n",
            "(5976,)\n"
          ]
        }
      ]
    },
    {
      "cell_type": "code",
      "metadata": {
        "id": "fQLGXF2JAmoj",
        "colab": {
          "base_uri": "https://localhost:8080/"
        },
        "outputId": "df39754f-8835-4f54-b9d7-5934a6264b90"
      },
      "source": [
        "XA[0]"
      ],
      "execution_count": null,
      "outputs": [
        {
          "output_type": "execute_result",
          "data": {
            "text/plain": [
              "array([0.17881944, 0.7804878 , 0.48235294, 0.40765296, 0.95552422])"
            ]
          },
          "metadata": {},
          "execution_count": 15
        }
      ]
    },
    {
      "cell_type": "code",
      "source": [
        "YA.shape"
      ],
      "metadata": {
        "colab": {
          "base_uri": "https://localhost:8080/"
        },
        "id": "2goAKzfCJk6n",
        "outputId": "bba5c090-69c5-4085-fc94-c93357fbaba7"
      },
      "execution_count": null,
      "outputs": [
        {
          "output_type": "execute_result",
          "data": {
            "text/plain": [
              "(5976,)"
            ]
          },
          "metadata": {},
          "execution_count": 16
        }
      ]
    },
    {
      "cell_type": "code",
      "source": [
        "np.asarray([1, 6]).shape"
      ],
      "metadata": {
        "colab": {
          "base_uri": "https://localhost:8080/"
        },
        "id": "JYcKOiRcJ1S1",
        "outputId": "04231162-e2a2-4f31-8498-38ebfc451764"
      },
      "execution_count": null,
      "outputs": [
        {
          "output_type": "execute_result",
          "data": {
            "text/plain": [
              "(2,)"
            ]
          },
          "metadata": {},
          "execution_count": 17
        }
      ]
    },
    {
      "cell_type": "markdown",
      "metadata": {
        "id": "mHqMN_-FOxI1"
      },
      "source": [
        "### Datos entrenamiento y test 80-20"
      ]
    },
    {
      "cell_type": "code",
      "metadata": {
        "id": "J1kcMnqlO9KN"
      },
      "source": [
        "x_trainA, x_testA, y_trainA, y_testA = train_test_split(XA,YA, test_size=0.2, stratify = YA , random_state=42)"
      ],
      "execution_count": 8,
      "outputs": []
    },
    {
      "cell_type": "code",
      "metadata": {
        "id": "IiD3SCVlPHg-",
        "colab": {
          "base_uri": "https://localhost:8080/",
          "height": 541
        },
        "outputId": "cac998a2-9cc1-4579-8d07-c73249f7ed74"
      },
      "source": [
        "n, bins, patches = plt.hist(x=y_testA, bins='auto', color='#0504aa',\n",
        "                            alpha=0.7, rwidth=0.85)\n",
        "plt.grid(axis='y', alpha=0.75)\n",
        "plt.xlabel('Class')\n",
        "plt.ylabel('Frequency')\n",
        "plt.title('Data Test  A')\n",
        "plt.show()\n",
        "print(n)"
      ],
      "execution_count": 9,
      "outputs": [
        {
          "output_type": "display_data",
          "data": {
            "text/plain": [
              "<Figure size 800x550 with 1 Axes>"
            ],
            "image/png": "[encoded data removed]"
          },
          "metadata": {}
        },
        {
          "output_type": "stream",
          "name": "stdout",
          "text": [
            "[468.   0.  49.   0. 165.   0.   0.  48.   0. 345.   0. 121.]\n"
          ]
        }
      ]
    },
    {
      "cell_type": "code",
      "metadata": {
        "id": "z4OKswHhPNUP",
        "colab": {
          "base_uri": "https://localhost:8080/"
        },
        "outputId": "d70cb057-8ad2-4583-9127-66da174babd0"
      },
      "source": [
        "n, bins, patches = plt.hist(x=y_trainA, bins='auto', color='#0504aa',\n",
        "                            alpha=0.7, rwidth=0.85)\n",
        "plt.grid(axis='y', alpha=0.75)\n",
        "plt.xlabel('Class')\n",
        "plt.ylabel('Frequency')\n",
        "plt.title('Data Train A')\n",
        "plt.show()\n",
        "print(n)"
      ],
      "execution_count": null,
      "outputs": [
        {
          "output_type": "display_data",
          "data": {
            "text/plain": [
              "<Figure size 576x396 with 1 Axes>"
            ],
            "image/png": "[encoded data removed]"
          },
          "metadata": {}
        },
        {
          "output_type": "stream",
          "name": "stdout",
          "text": [
            "[1872.    0.  194.    0.    0.  660.    0.    0.  192.    0.    0. 1381.\n",
            "    0.  481.]\n"
          ]
        }
      ]
    },
    {
      "cell_type": "markdown",
      "metadata": {
        "id": "rr2TeJgtPh2-"
      },
      "source": [
        "### Datos 100"
      ]
    },
    {
      "cell_type": "markdown",
      "source": [
        "Se unen los dos conjuntos de datos x_trainA y x_testA\n",
        "\n",
        "Para crear un solo conjunto de datos,  XA y YA para la validación cruzada k=10."
      ],
      "metadata": {
        "id": "1byHmjwOZ7e7"
      }
    },
    {
      "cell_type": "code",
      "metadata": {
        "id": "fT8h7v3tPhLG",
        "colab": {
          "base_uri": "https://localhost:8080/"
        },
        "outputId": "5fd6319a-e2cd-4d8a-ab6a-17629516b6fb"
      },
      "source": [
        "XA = np.append(x_trainA,x_testA,axis=0)\n",
        "YA = np.append(y_trainA,y_testA,axis=0)\n",
        "\n",
        "\n",
        "Y_AUCROC = YA - 1\n",
        "Y_AUCROC = label_binarize( Y_AUCROC, classes = np.asarray([0, 1, 2, 3, 4, 5]) )\n",
        "\n",
        "\n",
        "print(YA.shape)\n",
        "print(XA.shape)\n",
        "print(Y_AUCROC.shape)"
      ],
      "execution_count": null,
      "outputs": [
        {
          "output_type": "stream",
          "name": "stdout",
          "text": [
            "(5976,)\n",
            "(5976, 5)\n",
            "(5976, 6)\n"
          ]
        }
      ]
    },
    {
      "cell_type": "markdown",
      "metadata": {
        "id": "ifkL66dsPu_t"
      },
      "source": [
        "### Stratified Splits"
      ]
    },
    {
      "cell_type": "markdown",
      "source": [
        "Particiones de CV k=10"
      ],
      "metadata": {
        "id": "C0XjHL5ODLIA"
      }
    },
    {
      "cell_type": "code",
      "metadata": {
        "id": "AVXj0wjuPvV-"
      },
      "source": [
        "cvA = StratifiedShuffleSplit(n_splits=10, random_state=42)\n",
        "crossVA = cvA.split(XA,YA)"
      ],
      "execution_count": null,
      "outputs": []
    },
    {
      "cell_type": "code",
      "metadata": {
        "id": "6pT1lBKQP3dF",
        "colab": {
          "base_uri": "https://localhost:8080/"
        },
        "outputId": "d6d2a69b-486f-4e83-f0df-4d38eb30ab0c"
      },
      "source": [
        "for train_index, test_index in crossVA:\n",
        "    print(\"TRAIN:\", train_index, \"TEST:\", test_index)"
      ],
      "execution_count": null,
      "outputs": [
        {
          "output_type": "stream",
          "name": "stdout",
          "text": [
            "TRAIN: [3214 3580 1439 ... 4370 1119 2039] TEST: [3021   52 5388 5407  277 4163 3723    2 4322 1170 4285  762 5059 2197\n",
            " 3357 3479 5293 3344 4641 1730 3086 1751 1408 5198 2049 4104 3909 5099\n",
            "  334 3154 2025  371   68 5052 4334 4157 4487 2251 3593 5431 4693 3832\n",
            " 3607 1490 2207 5682 2410 3590 5256 3887 2993 1362 2792 4963 1585 1331\n",
            " 3012 2859 2095 2700  988  228 2530 2030 5816 3799   39 3415 4102 4975\n",
            " 2580 3869 5864 4341 3067 4482 1846 2222 4364 4404  521  835 4889 4794\n",
            "  902 4733 3439  449 4899 4731 4065 2153 3611  863  423 5846 5616 2670\n",
            " 1096 4894  110 2860 3383 3697 4900 3271 4665 5824  417  273  149 5252\n",
            "  205  632  688  877 2181  547 2272  697 2490 3788 5868 2521 2285 4973\n",
            " 4887 1639 3260 3784 5959 5526  168 2763 4512 2087 3476 1186 5065 3584\n",
            " 5049 2679 1667 5491   13 2524 5264 3004 4441 1369 2958  365 5088 5058\n",
            " 1851 3706 1033 2514 1893 5597 2941 5449 1969 1189 2483 1987 3300 1558\n",
            " 5590 1875 1907 3701 3941 2323 2069 3496 1680 4144 2474 2658 5747 5246\n",
            " 4759 1696 5107 1064 3888 4251 5266 3288 3834  717 4139 1032 4818  115\n",
            " 2058  545 2928 1029 4796 1666 4243 2895 1275 5211 5545 4233 2877 3881\n",
            " 5453  886 4568 1050  695 4359 5240 1532 4307 1697 5966 5155 1284  344\n",
            " 3009  622  517 5447 1006 4489 3339  641  518 2944 4081 3028 3372 1279\n",
            " 4234 2773 5376 3657 4299 1908 4461 1555 4755 1005 4001 4477 2068 3416\n",
            " 5891 4502 2947 4184 3329 1634  146 2964 1615 3152  989 1557 2077 5948\n",
            " 5202 3630 4618 3680 3859 1247 2265 5850 1211 5926 1302 1428 3320 4083\n",
            " 2976 1094  171 1056 5776 2036 3445 3090  777 1559 1933 4427 2122 4678\n",
            " 5239 3943 5054 3776  890 5709 2925 4588 2102 4331 5434 1394 5215 5684\n",
            "  769 1327 5010 3945  513 4581 1090 4471 4336 5311 3695 3883 1429 1839\n",
            " 1196 4431 2714  776 4123  896 3256 3052 1528  253 4708  826 4426  686\n",
            " 1075  825 3983 5044 1840 2693 4342 2621 4909 5325 1645 3894 5362 2588\n",
            "  593 1687 2997 1008 3387  190 2757 2965 3682 5257  443  560 3659 5223\n",
            "  535 4395 2234 5637 2550 3410  113 2289 2284 1291 1742 4491  447 5635\n",
            " 3790 4301  163 5371 3155 1103 3241 2879 3060 1626 5809 3272  743 3720\n",
            " 2622 1515 4052 3177 1177 3873 3248 2756 4732 1517  369  807 1817 5944\n",
            "  359 2613 4654 2230 1315 3786 5761 1662 2624 4800 4564 5467 1714 1909\n",
            " 3735 2563   84 4339 3294 4154 5502 4287 2144 2640  550 3764 3793 1664\n",
            "   92 2246 1802 2769 3822 3614 1688   98  851  508 3101 1220 4998  994\n",
            " 1208 3522 1488 2948 1169 2032 4707 2258 3575 2470 3663 1443 4825  488\n",
            " 2038 3505 5097 5822 5883 3899 5769 4026 4893 5008 5860 5338 3669 4046\n",
            " 2119 2605 5255 5432  563  511 4597 2527 1121 4069  237 2572 5093 1951\n",
            " 3119   59 2287  828 3529 2778  649 4968 4967 4544  706  748  671 3509\n",
            " 1613 1535  467  155 2209 2805 4881 4852 5792 2311 2488 5909 3940 3703\n",
            " 3276 4351 4180 2476  289 4529 5740 3730  546 5730  118 4035 3557  883\n",
            " 4197 1776 1207 2910 5628 5384 3321 5805 4327 3188 5171 5580 3311  318\n",
            " 4207 2043 2433 5785 5220 5697 2062   58 1970 4260 1046 1209 4196 1629\n",
            "  178 3821 4007 4827 3029 3797 1808 1698 4640  557 2668 1569 4238 2713\n",
            " 3279 5656 4304 2644 3250 2357 2469  502 3346 2182 4031  401 5361 1628\n",
            " 2755   94 2950 4173 4958 5435 4151 1890 5956  737]\n",
            "TRAIN: [2767 3658 5423 ... 2104 1129 3621] TEST: [3994 5035 1725 1433  759 1951 3062  732 1551  864 4292 1337    3 1460\n",
            " 5858 4195 4469  116 3035 4183 2500  902 1486 3162 2194 2163 3057 5865\n",
            " 2314 5618 1922  289 3296 2662 4701 3051 4377  944 3143 2907 4852 1558\n",
            " 2193  720 2763 4429 2437 4103 4116 2303 5403 4625 4069 1578 4738 4091\n",
            " 2654 1701 4254 3976 5161 5422 5124 5346  358 1697 3317 4563 2572  875\n",
            " 2391 5542 1755 3439 1048 1817 4347 4676 4632 3800 1764 1529 1792 2716\n",
            " 3348 5407 3853 3307 4462  882 3196 4046 5255 2010  727 4965 1077 2038\n",
            " 5906 5258   26 5938 1097   76 1673 2092 1092  501 5698 5723 5273  179\n",
            "   57  485 4638  678 3211   58 5181 4447 2182 4126 5941 3343 4049 4736\n",
            " 4712 3707 3766 3626 1804  519  114 5091   30 4491 5155  681 1429 4920\n",
            " 3183 5465 1195 5609  487 5222 3614 1512 5063 3194 2022  627 4924 1821\n",
            " 1678 3933 5306 1752 4206 1557  749 1699 5445 5525 4089 4928 3905 5434\n",
            " 1543 3120 4977 1783 3887 3009  234 4172 2855 4018 4137 1867 2816 1428\n",
            " 2458 4723 1765 5494 1681 4898 1495 2238 5922 3425 1340 2434 1424 3440\n",
            " 1409 1152 4344 5227 5163 2553 4819  259 4298 1235 4258 4530 4102 2444\n",
            " 3309 4058 4378 2957  245 2021 5331 3801 4256 3780 3245 4925 1094 4984\n",
            "  131   62 1481 2482 5274 5694 3842 2803 4475 4365 4170 4231 3026 5750\n",
            "  943 4023 4398 5420 4261 1216 1815 5453  134 4743  216 5033 3351 3292\n",
            " 4717 4277 2680 1850 1411 1522 4891 3850 4249 5276 5044 4981 4540 4866\n",
            " 2862  367 5291 5839 3896 4121  722 1972 3342  886 5766 5490 3710  510\n",
            " 5936 5608 2251  645 5054 1715 1471 5860 3947 2272 5841 5317 2694 4838\n",
            " 1498  997 3648 3235 5509 3414 3891 2969 4533  628 2710 5397 4327 2739\n",
            " 5429 1423 3598 2795 5524 3097 3475 5916 3170 5553 5442  342 4015 1246\n",
            " 1255 1302 4136  962 5892 4216 3759 3672 2603 1525 5109  991  544 5430\n",
            " 5502 5872 3193 5396  656 2478  916 3576 4626 4432  497 4065 2536 5265\n",
            " 4114  537 1175 3018 5460 1684 1030 2208 3885 4375 4350  651 4179 1160\n",
            " 2116 2830   52 2143   20 1182 1107  731 1766  204 1058 4226  871 3304\n",
            " 1093 5563 2025  251 1515  346 2297 1534 3021 5940 1044 3884 1608 5266\n",
            " 5214 4881  624  852 5020 2291 1060 5482 2249 3838 1964 5318 3882 5156\n",
            "  168 2923 2594 1249  990  415 4951 2028 5028 1501 1473 3538 3991 3374\n",
            " 5374 1491 1096  979 2454 5574 4836  159 2073  787 2933 3630 5888 2633\n",
            " 1825 1239 3962 1484 4801 4606 1039 2898 5006 3917 1959 3536 5665 3087\n",
            " 1843 2078 4541 3695 1368 1577 3044 3118 3698 1953 4152  830 3229 5584\n",
            " 3966 3731 2555 1657 5349 5523 4913 4361 3146 2102 5569 3926 4243 3834\n",
            " 4050   66 5166  836 1726 1595 5454  210 5567 4310 4938 5736 2906 4745\n",
            " 2700  996 4044 2481 3116 1480 5851 1612  894 3333 1702 2866 1090 2606\n",
            "  434 1591 3191 3314 3059 5249  605 4910 4643 5432 3445 5075 2024 2762\n",
            " 2389 2162 4766  169 4409 5235 5959 5018 4120 4299 4580 4094  331 3739\n",
            "  290  747 2991 3923 4735 3014  122 1099 5444 4578 2874 1641 2275 2817\n",
            " 3056 2568  856 1070 3232 3681 1386  591 1584 3380 5613  219  711  257\n",
            " 4157  230  630 5734 2711 2534 5188 2141 5768 1281 3084 4027 5763 1720\n",
            " 5457 2642 5304  343  929  671 3893 3500 2758 3420 5371 4768 4083 2422\n",
            "  439 4443 3540 4792 4665 3406 4450 4900 2472 1472]\n",
            "TRAIN: [ 570  309 2447 ... 1315  578 4387] TEST: [2132 3311 1981 3439 4634 3447 5072    7 3241 3581 1660 2856 1718  392\n",
            " 2092 1268 1447 3701 1969 5384   43 2774 5958 3230 5569  429 4687 3207\n",
            " 2897 1842 1194  606 5078 2479 1557 2468 4286 4714 2029  565 4038 4989\n",
            " 1043 3977 4054 1041 2865  899 3335  469 5107 3885 2948 1575 5557 5430\n",
            "  813  651 3248 4780   30 5397 2288 2353  562 4868 4616 2765 4711 3278\n",
            " 2509  209  837 2444 2537 2838 5463 2953 3478   33 3800 2906 5904 5260\n",
            " 4928 1279 5630 2188 4605 3921 1211  621 5490 4026 4558 3981 5828 3265\n",
            " 2751 2530 5491 4726 3172 3828   85 4472 1204 4445 1991 2349  335 2075\n",
            " 4086 5613 4921 3431 1171 3455 2659 2289 4920 3865 3639 4485 1131 1566\n",
            " 3967 3470 1249 4358 5220 1133  362  475 2554  762 4650 3096 2482  576\n",
            " 5618 4435 4851 1847 1020 3067 4889 2524 3280 5274 3571 3551 3726 5620\n",
            " 5690 1658 2107 4808 4765 5540  372  560 4692 5403 4144 3907 3990 4368\n",
            " 4770 1500 4742 5684 1369 3984 5763 5594 1860 3754 3414 5852 1880 1242\n",
            " 3516 4466 5166 4717 2733 4443 4666 3707 3381 2284 1739  452 4609 3250\n",
            " 1886 5560 2026 4828 3655 1797  463 5489 3367  740 2100 3976 2949 5151\n",
            " 3717 3184 5346 2746 2938 2323 1980 1820 2046 3498 4911 1840 4867 3193\n",
            " 5135 1139 4185 1467 1364 4469 2930 4875 2515 5629 3585  648 1014  922\n",
            "  227 2267 2710 2792 4598 2278 4486 3060  192 4883 4039  237 2909 4361\n",
            " 4436 5060 3300 3543 3913 2612  202 5810  953 2461 3342 5005 2180 5519\n",
            " 4312  352 5187 5025  358 5038 4539 5969  777 2494 4487 3200  889 5733\n",
            " 1843 2753 2236 1472 2196 4108 1544 4402 4761   70 2226 4351  442 4750\n",
            "  378 2410 4027  201 2952 4859  566 4970  473 5573   37 1077 2522 1054\n",
            " 2383 4137 4512 2942 2848 4962 4195 4432 4013 3779 2571 4546 4795  160\n",
            " 4927 1386 4285 5422 5119 2329 1160 2655 4384 2644 5190 1542 1372 2139\n",
            " 1959   45 4727 1593 5556 4657 2568 5062 2862 3752 3289 4406 4165 4934\n",
            " 2563 3345 1035 1298 1727 5150 2122 2801 1968 3791 4803 3299 4369   74\n",
            " 4793  460 4474 1539  476 1137  722 2985 3623 3834 2181 2931 2923 5121\n",
            "  543 5161  711 2827 3970 5539 5061 3166 2724 4499 5506 2187 2924 3792\n",
            " 5781  673 5727 4870 1115 3475  501 2688 3005 1682 2884 2462 5797 5728\n",
            "  912 2626 2775 4700 3291  225 2927 2640 1334  234 2374 1263 4214 5467\n",
            " 5029 1780 5200 5542 4204 1193 2251 3327 2332 5772 5701 4686 2890 3820\n",
            " 5163  769 2807 2397 4045 4589 5258 4150 2373 1078 1541 2498 5609 1342\n",
            " 2587 4876 4449 1803 4654 2793 3403 2706 5171 5364  544 3539 2657 3878\n",
            " 3235 3427  106 5909 4691 3344 1084 1376 1159 3686 4899 1531  210 4298\n",
            " 2333 1191 5120 5386 2737 2851 5041  295 4365 2234 1525 2018 4101   95\n",
            "  310 5368 5672 5160 3129 2767 5626 5063 3929 3968   26 3806  242 4095\n",
            " 2798 5595 2258 3089 4578 2831  858  322 3162 1725 4667 1072 2613 4082\n",
            " 4070 3372 1613 3742  492 4930 2080  269 1772 5770 5648 1033 4607 1779\n",
            " 3331 4295 4271  992 1649 5713 2918 1790  999 1284  789 4077 3816 1535\n",
            " 4115 2174 2366 3587 4234 1504 4452 1553 1168 4352  120   64 5808 4354\n",
            " 4131  987 4280 1823 5955 5268 1373 2506 3120 2870 4519 1707 3766 4527\n",
            " 3169 1748 3896 3075 1957 1134 1452 1149 4882 4088 3614  387  166 4348\n",
            " 1301 4531 2678 3780 2899 3772  750 5159 2686 3143]\n",
            "TRAIN: [2186 4869 3963 ... 4429 2530 4262] TEST: [3903 3821 4366 2647 4181 3986 2364 2796 1170 1833 5141  894 5448 3328\n",
            " 1182 4360 4379 4020 1990  409 5075  620 2709 4276 4828 1619 3745 2462\n",
            " 3223 4187    1  361  452 4387 4846 1012 4255 4990 5159 4627 4987 1189\n",
            " 4967 2507  575 2415 5615 5255 4075  269  308 1917 5974  835 1665 2711\n",
            " 3284 5734 3168 3624 3362 4283 5290  753 2660 4133 4327 2092 4169 5484\n",
            " 1040  831 3311 2493 2133 4195 2545 3941 1198 1257 2675 1854 2074  991\n",
            " 5418 5073  123 2337 4557 3713 4735 5604 2450 3932 3707 3242  316  964\n",
            " 2886 4436  213 1525 5056 4560 2499 4050 1186   22 1485 2512  966 5426\n",
            " 3565 1606 2750 2852 4849   71 1183 4125 1961 1089 5179 2697 4418 1487\n",
            " 1698 3940 3784 5361 4584 1954 5114 1575  239 2546 5398  741 2385 1425\n",
            " 5345 1087 1632 3934 1416 4861 5390 5279 3089  665 3493 2471 1902 2175\n",
            " 1899 4021 4131 5407  693 4180  280 5419 1299 3522 1488 3601 2494 4628\n",
            " 2293  541 4844 1959 2605 4877  501 3025 3154 2406 5288 4810 5300  374\n",
            "   91 1569 3887 3909 5730 1723 4666  198 5201 3346 5251 3024 1350 3802\n",
            " 5556 3275 1667  141 1547 3378 2243 3968 4675 1549 2122 5281 2355 1376\n",
            " 3188 2633 3525 5679 4634 2172 1101 5542 4723 1334 5400 5089 1008  999\n",
            " 5777 2659  572 5289 2413 5773 4850 3261  832 5286 2383 4660 3919  502\n",
            " 3956 2224 5488  423 3581 2617 1072 2958 3762 4997 1303 2420 2298 3459\n",
            " 4008   43 5404 5807 1430   83 5357  373 2296 4194 2209 1117 4605 4694\n",
            " 3256 5883 2285 4513 3850 2608 5070 1867 4234 4390  317 3728 4406 4907\n",
            " 5790  336 4795  697 5044 5775  864 5591 4890 5088  802 5579 1806 5770\n",
            " 3904 1933 3377 1509 1348 1208 1003 3643 4171 3872 5965 2390 3187 3566\n",
            " 5397 3226 3058 3702 4424 2238  617  284 4240 4335 3482 3202 3875 2526\n",
            " 1373 5180 1607 4588 2104 2554 5662 4246 3593 1232 3004 2167 5670  752\n",
            " 3233  589 5866  914 5758 4348  233 5399 4485 3462  150 1306 5768 4827\n",
            " 2636  334  640 2685 2594 4004 5237 4725 3453 1581 3217 1065   34 3402\n",
            " 5446 1677 5326 4096 3985 2610 3438 1915 4139 1601 3573 1859  214 1817\n",
            " 1983 3775 3772 5106  362 3513 1134 1044 3790 1931 3588 3363 4421 4880\n",
            " 1929 5889 3831 1479 3237 3596 1064 4639 3982 2311 2968  653 4074 1989\n",
            " 4679 1925 2970 5830 3773 3650 1936 1735 2862 2193  376 2378 3047 3555\n",
            " 2331 4787 4257 1281 4614 5857 4383 2341 1095 3619 3382 1762 4237 4382\n",
            " 5273   77 3145 5616 1309 2137 3280 3260 1973 2977  499 5720 2935 5233\n",
            "  563 3442 1875  631 3939   30 2967 4185 5794 4548 3841 1469 4287 4825\n",
            " 1286 3915 2014 4351 3215 1754  644 4426 3430   26 5274 4230 5040  505\n",
            " 5870  957 3991 3351 2891   50 3450 5819 3921 5880 3669 5227 4733  690\n",
            " 3832 4118 5245 3317 4058 1835 4699 1748 1026  795 5797 4126  102 1651\n",
            " 4576 4983 3682 2908 4140 4908 2009 5575  595 5226  578 4473 5456 3264\n",
            " 1910  385 5190 3670 2008 3786 2001 3279 2543  817 5026 5752 2086 3712\n",
            " 3424  431  649 2497  535 5850 3142 3003  766 3845 2231 3160 1468 1784\n",
            " 2233 3033 3575 5116 4061 2538 2440 4228 1494 4170 1393  669 1858 3549\n",
            " 5601 5564 5230 4963 2068  231 4724 4158 4384 5673  454 3899 3642 1127\n",
            " 3067 4533 4059 3035  253 4081 2234 4508 3873 2865  942 3069  703 4373\n",
            "   21 1793 3977 3122  820 5971 3120  977 3051 3060]\n",
            "TRAIN: [4468 4593 4330 ... 3748 2084  450] TEST: [3807 2852 4126 1414 5866  139 5885 5572 2116  152 5620 3369 1080 3217\n",
            " 5379 3384 3632 4711 1404 5581 4244 1717 4023 2147 3009 4759 2991 5859\n",
            "  262 2501 3394 2405 4510  645 2871 2502 1563 1705 3697 2989  717 4903\n",
            " 3651 1030 4030 4966 3341 4911 3888 4087  852 2074 4495 4447 3351 5071\n",
            " 3266 4073 3463 2442 5012 1521 2290 1410 5705  657   81 2385 1791  702\n",
            " 5317 3879 3587 4660 5019 5126 2993   40 4135 2377 4872 1234 5431 3090\n",
            " 3433 3523 5004 1222 4523 5776  797  718 4515 1050 3316 4338  144 2903\n",
            " 3204  113 2011  148 3995 3671 4557 1832 3163 2508 3691 2467 3545 5901\n",
            " 4533 5724 2335 3776 4253 1730 5274 3874 1082 3860 2367 4255 2258 1021\n",
            " 4602 4309 4829 2511  841 1011 2247 3707 1380 4179  264 2438 3278 2319\n",
            " 2462   35 1112 1279 1568  451 2978  122 3792 3423 3942 5969 2081 3638\n",
            " 4388 5785  221 4882 5892 2275 1649 1203 5970 2396 3511 1005 5360 2407\n",
            " 2459 3395 3226 3227  679 1596 3567 1969 4189 1752 5870 3459 3272 4258\n",
            " 5609  869 1341 2730 3371 1187 4358 1428   18  639 4314 1231  628 4645\n",
            " 2443 2548 2384 1975 1728    9  740 4970 1735 3339   66  574 4478 5740\n",
            " 4450 4473 2554 2005 4639 1928  674 2449  489 3945   55  439 1862 4464\n",
            " 1372 5059 4649  950 2372 1919 4918 2530 5150 5263   16 4144 5112 4681\n",
            " 2786 2602 2232 5831 1698 5788 4936 4173 1571 3834  907 2049 4725  582\n",
            " 3589  501 1440 2192 1227 1290 4383  840 1865 3386 4769 2270 5401 3949\n",
            " 2724 5819 3571  311 5646 3654 4014 1781 3836 1652 4739 2887 1679 3392\n",
            " 3379 2339 1590 1110  305 1891 5372   32 4588 3066 1070 4169  833 1936\n",
            "  578 4129  870  193 3805 2819 5711  175 4029 2441 5656 5848 5320 4128\n",
            " 4222 5508 1105 1455 2313 5856  982 4116 2006 5378 4902 4063  972 4967\n",
            " 4213 2010  981 2575 5583 5526 4001 4276  954  452 1693 2237 5313 1776\n",
            " 4482 2897 4466  332 2302  624 4869 2677 3354 5751 2612 5701 3456 4494\n",
            "  521 4803 3637 5127 3205  688 3291 3156 3109 4191 5685 1755  211 2826\n",
            " 5130 4672 1211  796 1072 3713 2198  218 5327 3279  111 3499 1319 2239\n",
            " 1238 3047 3883 3073 2573  522 1242 1754 5248 4412 5657 4666 4716 5485\n",
            " 4767 2168  467 1803 4662 1829 3747 2905 4814  163 5305 2497 1271 4604\n",
            " 2781 4122 3020 1564 3815 3210 4992 5463  681 3873 3112  487 5158  490\n",
            " 5951 1530 1524 1601 3455 4851 3769 5584 1659 4861 1933 5421 2884 1618\n",
            " 3017 3512 3614 3828 4799 2019 3309 5669  319 3311 2196 2345  810 4217\n",
            " 4306 3424 2297 3876  177 5244 2067 4413 5328 1492 1686 4356 2263 1727\n",
            " 4537 4765 5950 4361 5486 4696 3243  749 3206 4485 3275 4561   64 3935\n",
            " 3547 3213 5415 3953 4207 4935 2537 5474 5161 5787 2009  212 3153 4367\n",
            " 2953 4686 4360 2663  412 1393 5483 4414 1130 4325 4216 4263  109 4317\n",
            " 2027 3117  483 2473 2137 3785 5074 1906 3751 5152  915 4556  908 2528\n",
            " 2369  255 1003 2048 1816 2190 5108 4835 3338 2627 3015 4535 1192 4838\n",
            " 4777 3385 3709  354 3263 4586 5146 1976 2803 1255 3672 2087 1681 5891\n",
            " 5618  719  124 4909 1239 4913 5311 2848 3105 5565 2651  514  441 4790\n",
            " 1908 1691 5330  998 2180 4783 1450   46 1010 4379 4574 2668 2853 1355\n",
            " 1932 3687 5420 5468 3046 1677 3710 3359 2665 5122  653 2628 5603 5334\n",
            "  618 4827 3362 3667 2173 4158 1028 3488 3937  480]\n",
            "TRAIN: [5961 2108 4075 ... 1374  775 5391] TEST: [1445 3517 4663 1403 3411 5461 5645 1864  883 4881 4553 5699 4150 3217\n",
            "  934  196 1427  904 2509 2101 2301 4428 4404 1028 2408 5085  962 4019\n",
            " 4182  527 5805 1175 2256  899 2280 4274 5614 4885 3751   62 2116  922\n",
            " 5221 4069 2807 3149 5846 4218  304 2013 4539 5369 3204 5141 5483  911\n",
            "  611 4081 3183 2379 4065   59 2868 2377  256 4462 1746  965 1733 1802\n",
            " 4175 5301 2194  979 5746 2183 4680 3182 2854 3578 5348 1038 2919 1429\n",
            " 1199 2153 3778 4330 3308 3954  572  940 5656 1447  702  119 3585 2953\n",
            " 3623 4848 2927 4834 4444 3951 4473 1301 2915 1564 1910  347 3472 4811\n",
            "  720 3077 4264  754 2715 3071 5836 4861 5104 2740 1626 3260  288 1371\n",
            " 5440 1140 5108 3154 1479 4749 4582 2825 2011 5312 1812 1185 1819 2022\n",
            " 3699 3547 4394  616 2093 1369 5134 4870 5676 4148 5029 4615 2015 2772\n",
            " 4747 4577 2995 2535 3041 4536 5486 2879  320 1595 2012  598 4745 3132\n",
            " 3004  379   52 5899 2682  520 3760 4505 4627 5249 5025 1137 5531 4520\n",
            " 4992 3691  330 1780 3394  200 2521 2247  685 5125 1743 1792 5026 3940\n",
            " 2784 4722  408 2899  619 1772 2471 5850 1320 3885 3980 4470 3545 2121\n",
            " 1972 2054 4186 1978 2938 5532 2600  574 2169 5329 1416 3714 4361 3869\n",
            " 1512 4284 2622  688 5759 5757 5475 3520 3427 2473 1464 3100 2850 2749\n",
            " 1745 4878  892 5933 1931 2881 5466 1830 1235 5206 2127 3522 3529 4812\n",
            " 1804  791 1700 1751 5832 1269 1352 3784 1791 1397 4773 2451 3800 3255\n",
            "  718 3964 5712 2817 4339 2278  909 2515 3080 3942  513  161 4929 5926\n",
            "  482 5416 4651 4914 3858  295 3046 2942 5912 4977 5573  265 1510 5210\n",
            " 4126 2840 1848 4521 1490 4419 4728 1638 2785 1981 2370 2227 3353 2055\n",
            " 5317  283 4895 5898 4816 2467  308 2034 1462 5668 1879 5602 3828 3807\n",
            " 3339 5663 1897 1959 4829 4240 3726  312 3416 3415 1398 4436 4946 5718\n",
            " 2357 3749 3731   21 3343 3087 2770  764 4121 2436 1809  879 2235 4235\n",
            " 1923 4754  309  811 2464 3887 2342 1333 1292 2505 5383 2526 4439 1853\n",
            "  339 2455  301 1732 1372 3186 1432 3300  148 3664 4999 3262 2409 5927\n",
            " 2190 3051 4695  275 2508 1142 2394  732 5833   80 1468  714 1784 5618\n",
            " 1955 5848 2721  252 4410 3037  617 3429 1747  470 2702 4092 1214 2623\n",
            " 1763 4106  181  168 2947 2191 2980 5102 4441 3003 4769 1182 4158 2666\n",
            " 5773 1418 5114  561 2425 2493 3797 4617  895 2422 2199   33 5182 1011\n",
            " 1360   97 4554 2905 3805 4283 1305 5015 3803  307 2539 2076 3635  367\n",
            "  164 1992 4774 2174 5803 5622 1735 5556 1420 1045 2658  851 5471 2604\n",
            " 5172 3047 5095 3878 1902 2780 5309 5474 5510 2954 4566 4179 1606  311\n",
            " 2874 5031  818 3727 2293 5822 2800 2334  424 5003 1415 2525  541 2051\n",
            " 4197 3595 4145 2207 1740 1451 1624 2131  724 1670 2181 3882 5049 4117\n",
            " 1675 2648 3986 2478 3466 2065 5938 5040 5456 1896 4629 2200  824 4805\n",
            " 5888 1426 4299 3473  231 5660 2365 2414 5338 3354 3500 3309 1574 2442\n",
            " 3934  908 3757 2066 2792 1876 3328 3094 4599 3808 2556 2136  446 3537\n",
            " 2833 1304 5680 4743 3676 3920 2105 4778 3018 5734 4688 3015 5631 3501\n",
            " 2302 2252 2056  625 5665 2925 1713 2364 3287  820 2001 5601 4771 1260\n",
            " 1873  416 5717  799 1633 5922 3497 1113   81 3555 3224 1340 4178 2516\n",
            " 4403 2269 4028 4942 3826 2536  351  193 4798 1196]\n",
            "TRAIN: [5560 5207 3467 ... 1511 3523  349] TEST: [ 613   15 1973 4437 5917  944 1898 4605 2803  418 1139 1634 5853 1385\n",
            " 5230 3599 4156 5272 2618 2471 3882 2211 4743 5739 1812 1791 5582  549\n",
            "  880 4960 5611 4662 1073   94  705 1851 3670   60  463   77  344 1656\n",
            " 2496  342 4838 1090 4028 2121 1128 1275 4100 2511 5740 5629 4905 3143\n",
            " 5152 1471 5281 5042 5235 5428 2227 4868  508 4495 4711 5968 3556 2181\n",
            " 5437  589 1705  231  597 5138 2763 3348 4352 1396 4600 2068 2477 5786\n",
            " 4959 3898 1177 2438 4351 3920 3188 3962  444 5069 3974 3225 5959 2546\n",
            "  759 5826 3543 4240  677 4368 2419 4516 3170 1096 5647 3103 3688 4349\n",
            " 5965 4641 4806 2254 5466 4021  291 1828  866 5411 3589  318 2525 5070\n",
            " 4554 3867 5081 1162 2037 1909  228 3721 5368 3880 3517 1562 4907 4031\n",
            " 4686 3561 5679  528 5332 1003 3499 1727   85 4297 3819 5614 3683 5149\n",
            " 1488 1382 1223  632 1603 3081 1536 4497 1621 3283 3496 2347 3616 5409\n",
            "  594 2506  635 3302 4886 2099 4044 3714 4909 4772 3766 5529 5846 2505\n",
            "  910 4984 1049 5749  455  235 5040 2231 3552 5067 2397  490 2481 1998\n",
            " 2324    1  509  683 4989 4968 1251 2316  875 5770 2493 2153 3860 5349\n",
            " 4024 3972 4475  993 5601  152 1825 5051  802 5261 3979 2690 3004 1319\n",
            " 1024 3595 3381 2293 4496 2747 4261 1674 5927 2343  450 4055 2140 2057\n",
            " 3686 4602 1104 5506 5694 2134  262 1751 2739  219 2413  661 1125 2709\n",
            "   27 2452 4470 4323 5291 3045 3938 4561   68  550 5665 3182 5252 3758\n",
            " 5734 1519 1422 1731 5623  428 4740   42 5391  826 1330 5512 4442  429\n",
            " 2626 2733 4097 4411  122 1350 2631 2968 3082 2497 3717 5307 1981 3430\n",
            " 1657 4232  773 1238 1371 3426 3173 4888 2953 1149 1338 3829 1631 1175\n",
            " 4768 2314 4033  489 3930 2093 2743 4832 2535 5429 2954 4489 3776 4725\n",
            " 3351 1425 3567 4157 4610 4362  617 2817 1103 5137 4713 1781 4462 1060\n",
            " 4060 2077 5128 3746 5779 4770  443 1515 1568 1920 5743  775 5324  116\n",
            " 3310 2628 3353 5435 3594 2163  510 4299  805 2297 3338 4664  836 2088\n",
            " 2283 2998 1327 3779 2824 2613 5688 5333 1243 5642 5852 2827 1043  524\n",
            " 4550 5489 3169 5612 3036 3256 3786 5288 1716 3727 1408  369  783 4224\n",
            " 2046 2686 5146 4702 2999 3878 5823 1086 1523 3528 2654 5012 4945 5359\n",
            "  436 2460 3715 3848   74 5812 5140 5589 2515 1618 2779 4006  209 4804\n",
            " 4991 3907 5572  748 3881 1233 1117  165 5099 3750 1588 2882 3553 4499\n",
            " 4183 3956 1582  682 2236 4304 2166 5712 2267 1229 4042 4108 1959 1154\n",
            " 5859 2662 1784 5492 1715 2737 2023 2713 4481 2245 1748 5292 1952 3009\n",
            " 1130 5159  983   84 2385 2946  189 4047 4436 4569  990 3541 5106 2483\n",
            " 1699 1407  359    8 1882 5441 1210 5909 1328 4967 1500   81 4903 3136\n",
            " 1896 5329  304 3297 4210 1891 1644 5504  806 4380 4906 3782 4301 1496\n",
            "  943 3507 2071  459 1726 4536 2597 3324 1887 2962  619 2601 2664 2047\n",
            " 2776 1989 3656 2815 3625 4332  819 3117 4095  390 2657 2142 5021 1032\n",
            "  968 1963  381 4585 5767 1084 4194  474 5036 1100 4575  747 5319 5174\n",
            " 2328 1518 2027 5524 4616 5531  765 4192 4421 3996  914  623 2901 4125\n",
            "  288  181 1413 4058 1050 2961 3013 1830 4795 5363 3685 1931  654 3573\n",
            " 4219 3865 4661 5303 1193 3018 1075 3073 2926  562 5975 3803  831 5805\n",
            " 4985 4645 4631 4292 1827 3174 3384 5595 2908 5484]\n",
            "TRAIN: [5462 1365 1485 ... 1873 2316  404] TEST: [3430 2705 3919 2579 5573 3629 4395 2752 1922  728 2776 2371  263 2820\n",
            "  851 3557 1665 3717 2171 4954 2911 5627 1431 2179 2995  251 3291  708\n",
            " 4349 5435 1132 2060 2130 1557 2883  749 4043 1767 2997 2949 4085 1008\n",
            " 4551 3923 1238 2222  198 1821 5929 4314 4597 4011 2521 3347 3384 5274\n",
            " 2482 2796   41 3304 3092 2688 5412 5483 4872 4115 4343 4542 2957 3254\n",
            " 2507 5819 2933 4092 3084 1511  817 3047 2702 5356 3223 1899  996 4234\n",
            " 2190 4100 4296 1512  721 1761  191 5702 1302 2477 3503 1986 3563 1826\n",
            " 4537  236 1914  595 4844 1135  581 5445 3968 3542 2533 3101 3089 3490\n",
            "  458 4589 1130 2445 5372 5798 2304 3352  316 3530 4937   21  348 4823\n",
            " 2562 3779 4682 5143 3655 3218 4727 4332 3610 3373  357 4065  951 1853\n",
            " 1786 5267  846 2032 2868 4883 3511 2428 5086 4871 1951 1010 3628  109\n",
            " 5258  645  343  234 4105 3991 4738  241  472 2992 3799 2369 4856 4851\n",
            " 4315 1797 1617 5386 1637 3932 5625 4089  685 3987  638 3780  724 2071\n",
            " 5240 2110  217 3950 2827 1995 5960 3314  758 4684 2117  362 3897 1630\n",
            " 1336 2343 1419 4533 2560 3811  276 3256 2315  617 1273  424 2859  899\n",
            "  845  403 2414 3719 2567 2831 1119 3474   74 1063 2320 1422  743 5916\n",
            " 2965 4693 2202 2969 3300 5836 4656  665 5752 2497 3978   94  663 1499\n",
            " 5295 5401 4347 4574 5700 1207 5760 3632 5089 5094 1720 4004 5632    4\n",
            " 5594 5065 2742 1221 5309  936 5949 4190 5281 2137 3912  566 4405 4282\n",
            "  631 5680 2788 2910 2245  347 2704 5736 5629 2817 3742 3678 5224 1234\n",
            " 2621   17 4022 2862 2666 4956 1178  244 4912   66 2327 2220 5517 1723\n",
            " 4494  462 4136 1907 2239 3675  710 4677 3065 3077 1097 3467 5133  789\n",
            " 2814 5854 3483 4122  273 4076 1713 4902 1224 2505 4520 5630 2886 2218\n",
            " 2928 3034 2948 5940 1593 2301 5130 3237 5723   80 4497 1030 2907  993\n",
            " 2203 2517 3547 4608  449 4709 1626 5291 1691 5069  887 1223 4710 2120\n",
            " 3362 1450 4119 5469 4802 1870 2987 5468  520 2678 5706 2111 4293 5314\n",
            " 3032 1274 2724 3745 3776 3399 5901 1296 2952 4927 1474 1689 4791 5755\n",
            " 1065  880 4821 2479 1928 4746 5319 4506 3773  346  980  515 3513 4637\n",
            " 1893  729 3638 1056  867 1604   52 3079 2186 2985 2416 5360 2141 3251\n",
            "   34 1155  444 3915 3895 1968 1606 4760 4179 4350 2539 5052 3585  888\n",
            " 1134 4868 4776 1115 4253 5714 2605 5592 3493 5950  877 1192 2946  468\n",
            "  385 1396 4323 4683 5204 4934 5413 3504 5223 3428 1339  906 1392 2797\n",
            " 1579  224 2730 2714 1266 3350 3821 5416 3287 2307 3868 2237 1034 1309\n",
            " 4966 4992 5201  945 4843 5098 3403 1584 2558 5624 5616 1784 4988 1005\n",
            "  377 5471  298 1585 4009 4445 3495 4904 1983 4635 2855 1510 3259 4605\n",
            " 2732 1681 1125 3984  411  895 4970  842 3097 3725 2234 4365 3546 2132\n",
            " 4907 5839 2275 5242 4142 3452 3431 4421 2064 1071 2337 4532  718 2293\n",
            "  985 1020 4528 2733 5399 3734 5566 3764 1546  154 2647 5514 5561 5174\n",
            "  543  828 3100 1421 3159 5744 3921 2050 5472 4273 4344  229 3933 4973\n",
            "    8 5418  623 2770 3168 1706 4620 4547  911 2296 5877 3954  334 4325\n",
            " 5207  567 5835 2718 4625 1582 1290 5794 5467  943 5928  431 4665  253\n",
            " 1911 4587   89 5852 1216 2864 3081 3110 2090 1099 1906 4398 1778 1800\n",
            " 4298  599  110 3317 2379 2217 1347 2478 4191 5117]\n",
            "TRAIN: [3871 4131 3646 ... 3458 5159 5960] TEST: [1706 4252 4554 3971  209 1105 1998 2535  973 1609 3012 3517 5264 3648\n",
            " 5132 3354 1096 3905 3105 3689 5081 1230 5406 1370 1403 1120 5434  709\n",
            " 4849   47  785 3776 1473 5884  649 4768 5936 5626 2162 2319  116 3112\n",
            " 1607 1343 5179 2169  542 5686 1952  996 3625 3157 2303 4300 1884 4795\n",
            " 3516 1480 2825 4564 4991 4145   32 2241 2967 4193 5636 3889 2233 2783\n",
            " 5817 4291 3662 2528 5108 4037  792  619 4298 2023 5155 1908 3471  381\n",
            " 5068 5209 5547 3566 1612  696 4637 5522 5308 3291  577 4393 3168 4397\n",
            "  266  483 2317 1727 4192  130   11   58 2746 2521 1165 1152 5942 2597\n",
            " 5040 4496  164 4349 2247 4185 5343  368 3372 3990 4157 2434 3115  924\n",
            "  180 5194 5175  110 3847 5593 3467 5723 3448 1707 1760 2126 4956  892\n",
            "  533 4786 4312 1334 2329 2007 2842 2440 4487 1055 5706  915 5377 1834\n",
            " 2537 2833 4950  362 5208 4067 3551 5103 1518 1856 5462 1951 1143 5617\n",
            " 2807 2695 1349 3008 4880 1010 3437 1926  829 1705 1477  807 3692 1855\n",
            " 4617 2069 3263 5426 1613 4009 3843 1828 5950 2512 4590 3128 4194 1296\n",
            " 5837 3231 4180 4914 5738 5101 2020 1163 1041 4999 1220 4494 2809 3167\n",
            " 5469 2543 4307 2778 4324 1670 2540 2612 4279  457 1565 3183 5415 4897\n",
            " 5277 1996 3518  754 1580 2704  834 3447 4403 4299  571  591  674   51\n",
            " 4997  821 2944 4480 1269 1076 5905 2190 4116 1885 1275 5830 5755 1300\n",
            " 2184 5461 1224 3451 2619 1635 5232 3042 5251 3122 2412 3862  890 3938\n",
            " 3230  148 5582 1198 5538 2046 1417 2079 5133 3003 4196  325 5328 3643\n",
            " 3596 1752  620 4546 4593 1145 1594 2134 5695  562  212 2354   97 4904\n",
            " 2161 3667 5169 1009 4454 1779  522 1377  813 3476 3228 5398 4749 5037\n",
            " 1743 1712 1835 1068  140 2498  456 4658 1765 2061 3963 4039 2185  315\n",
            " 4853 1545 5083 1106 5128 1315 5085  797 1179 3958 2901 2797 4529 5220\n",
            " 4490 1368 5412 5655  778  865 2731 3699 5107 1921 3993 1735  113 5011\n",
            " 3123  219 3119  912 5621 3272 4694 1562 2487 5824 3053 4633  149 3203\n",
            " 2335 5952 3061 1489 2831 4556 5393 2017 4771 1174 5154 4340 5741  434\n",
            " 5329 5267 2462 2383 4818 1600 5672 4096  796 1458 4803  517 1852 5508\n",
            " 2963 1919  994 2961 3885 1963 3260 4882 5743 1472  794 2076 3969 3866\n",
            " 5883 4352 1250 2694 4824  228 3912 2574 3001 4212 5657 2596  184 2438\n",
            " 2103 2091 3106  283 2868 4187 2839 1699 4890 3175 1533 1917 4610 2765\n",
            " 3172  633 4260 4223 4049 3218 3844 5322 2338 3301 4318 5173 5796 4985\n",
            " 5464 3875 1665 5333 1688 3730 2635 4656 5392 3209 1000   92 3684 3248\n",
            " 1848 4322 3376 1617  864 5589 2880 5198 2779 1708 1632 5870   28 2160\n",
            " 1467 4458 5300 2068  967 2203  901 2260 3991 2917 2475 4247 2874 3459\n",
            " 3873 4711 5536 5770  300 1038  216 1614 1268 5836 2029 5212 1444 4228\n",
            " 4336  856  836 4003 2790 1406 4627 5629  675 2326 3481  663 3918 4099\n",
            " 1753 4959 2980 4705 2906 1968 2070 3624 5356 3395  840 3556 3432 4738\n",
            " 1357 2602 3796 4739 5556 4013  420  565 2834  874 3083  903 4723 5496\n",
            " 1405 4206  883 2074 5254 3740 1409 4669 4233 4154 4018 5920 5436 4293\n",
            " 1788 4356 4678 3060 1850 1702 2651 5125 4756 1028 2215  223  655  554\n",
            "  948 5367 5286 2349 1412 3296 2637 4777 3739 3030 5972 5631 4978 2362\n",
            " 2258 5899 4677  238 5529 1574 1132 4221 3262 2248]\n",
            "TRAIN: [5698 4825 2727 ... 5778 3637 1944] TEST: [3162  727 4579   81 4996 1125 5919 4111 1241 3885 1097 3015 4622 2253\n",
            " 5461 4516 4360 1480 1791 2725   50 2102  582 3004   39  346 2704 5468\n",
            " 5867  486 3732 2877 4308 3985 1190 1966 4302 3792 3089 1695 3487 3819\n",
            " 1500 1421 4394 3064 5633  228 2213  219 4828 2187 5519 1050 1323 4979\n",
            " 1149 5097 1898 2471 4323 5952 2357 5859 2005 4732 1521  454 5424 4064\n",
            " 4517 5502 3592 3409 1534 4266 5580 4006 1585 5581 3333 4417 2589 1708\n",
            " 2943 1649 1481 2919 2221 4610 5592 5958 3305 2680 1317 5886 5484 1382\n",
            " 4852 3431 3308  687 5093 5785 5725 3105 5569 2566 5804 1458 4518 2808\n",
            " 4708  851 1724 1183 1310 5647 3697 3411 4602 3259 3945 2886 5068 2512\n",
            " 3545  541 1819 1247 5174 4133 1209 4421 3366  789 3666 3139 5776 3107\n",
            " 1018 1770 4502   22 5894 5216 4099 1824  227 2677 2650  898 2026 4361\n",
            " 4063  905  891 5263 3299  741 5356 5672  904 5876 1113 3285 3773 1016\n",
            " 2229  775 5559  931  243 3022 5200 5106 2396 5139 2873 5479 3257  495\n",
            " 2701 3873 4587 5307 2606   99  482 3802 5652  764 2540 3356 1346 4169\n",
            " 3349 5702 2064 5326 5121 2897 1083 3594 5025 4690 4521  177 1350 5364\n",
            " 4223 4031 3077 1748 1164 5394 1252 5407 2325 2173 2289 5607  827 4028\n",
            " 1433 5255 4644 2923  797 3652 1267 4929 1369 5888 4605  238 3395 5693\n",
            " 1909 3474 2744 1550 5483 1417 1484 3962   46 4431  624 5380 4371 1921\n",
            " 1774 3396 3519 2977 1442  200 1055 1031   84 3117 2843 2981 3301 2707\n",
            " 4418 2223 5252 1127 1913 5391  414 2314 5661 4145 4352 4103 3937 2830\n",
            " 3268 4154 3079 5571  510 1863 5664 3309 1510 4018 2259 2030 5885 1087\n",
            " 2048 1519 1392 4991 1061 3853 4498 2718  298 2071 1535 4237  688 2137\n",
            " 2730 5709 1092 2959 3531 1685 5925 2916 4664 2579 3866  114 1326  528\n",
            " 3603 5202 1276 3572 5858 2085 4358 3565 4179 5141 5799 2205 1248  251\n",
            "   23 1578  361 2282 4536  311 5324  884   71 4867 2308 3941 3223 3450\n",
            "  770 2061 4672 2681 4477 1777  295 4752 1590 5011 4413  646 5006 2931\n",
            " 3616 2990 2813  599 3748  629 4191 3124  210 2796  987 1579 1899 4084\n",
            " 4378 1730  380 5242 1401 5850  914   13 3597 4311 3116 5160  778 2028\n",
            " 5281 3831 2167  667 5860 2470 4262  247 4794 3824 2149 3588 5358  711\n",
            " 5800  896  168  145 4130 1251  570 4776 4808  134  614 3459 4544 2874\n",
            " 3034  484 4020 3348 3098 3230 3803 5402 4591 1461 2360 4740 5222 4488\n",
            " 2849 3957 4105  124 2753  568  390  977  739  969 2696 1167   19 2425\n",
            " 2855 5543 2481 2631 5973 2209 5912 1042 5020 4060 3760 1933 3134  942\n",
            " 5439  874 4365 5363 4550  174 5852  383 5798 2984 3364 2301 2246 2092\n",
            " 4377 3392 1443 5596 3700  744 1658  169 1194 2667 4340 2974 2776 1342\n",
            " 3691 1361 1817 4691 2774 4440 5939 2995 5345 1348 2979 1672 2700 1996\n",
            " 1278 5165 4092 3754 1082  818 3632 3271 3443 3045  440 2769 1859 2022\n",
            " 1794 5751 1003 1619  690 1138 1894 3222 1177  188 4013 2875  382  367\n",
            " 5530 1073 2299 4073 3982 5371  376 5831 2901 1575 5948 4623  347  475\n",
            " 1185 3951 1057 3755 2464 1108   59 4646 4738   26 2109 1198 3558 5366\n",
            " 3283 1867 3690 1750 5523 4538 4851 3706 1264 2749 3130 4239 4940 5594\n",
            " 2426 2458 1022 2627 1572 5412 4286 1399 5102 1939 3020 3927 2888  345\n",
            " 4590 5964 1272 2698 3108  953 4150 1307  407 5029]\n"
          ]
        }
      ]
    },
    {
      "cell_type": "markdown",
      "metadata": {
        "id": "Jr0BEpR_QAyO"
      },
      "source": [
        "# **SVM A**"
      ]
    },
    {
      "cell_type": "markdown",
      "metadata": {
        "id": "s_buiIoTQGY9"
      },
      "source": [
        "### GridSearch  80-20"
      ]
    },
    {
      "cell_type": "code",
      "metadata": {
        "id": "GEE8Jl7_QBRO",
        "colab": {
          "base_uri": "https://localhost:8080/"
        },
        "outputId": "d8d2d9d7-a346-4be8-ea9a-4a1bee22f635"
      },
      "source": [
        "###cv=5\n",
        "pipe_svc_1_91_A = make_pipeline(StandardScaler(),SVC(random_state=1))\n",
        "gs_1_91_A = GridSearchCV(estimator=pipe_svc_1_91_A,param_grid=param_grid_A,scoring='accuracy',cv=5,n_jobs=-1)\n",
        "start_time = time()\n",
        "gs_1_91_A = gs_1_91_A.fit(x_trainA, y_trainA)\n",
        "elapsed_time = time() - start_time\n",
        "print(\"Tiempo transcurrido: %0.10f segundos.\" % elapsed_time)\n",
        "print(gs_1_91_A.best_score_)\n",
        "print(gs_1_91_A.best_params_)\n",
        "paramSVCA = gs_1_91_A.best_params_"
      ],
      "execution_count": null,
      "outputs": [
        {
          "output_type": "stream",
          "name": "stdout",
          "text": [
            "Tiempo transcurrido: 261.4637310505 segundos.\n",
            "0.9763598326359834\n",
            "{'svc__C': 100.0, 'svc__gamma': 1.0, 'svc__kernel': 'rbf'}\n"
          ]
        }
      ]
    },
    {
      "cell_type": "code",
      "metadata": {
        "id": "1_mcVLYrKVxn"
      },
      "source": [
        "paramSVCA = {'svc__C': 100.0, 'svc__gamma': 1.0, 'svc__kernel': 'rbf'}"
      ],
      "execution_count": null,
      "outputs": []
    },
    {
      "cell_type": "code",
      "metadata": {
        "id": "k0OHoGHmQZiU"
      },
      "source": [
        "pred_A_1_Grid_91 = gs_1_91_A.predict(x_testA)\n",
        "Metrics(y_testA.astype(int),pred_A_1_Grid_91.astype(int),n=6)"
      ],
      "execution_count": null,
      "outputs": []
    },
    {
      "cell_type": "markdown",
      "metadata": {
        "id": "0ArHd7s1Qkku"
      },
      "source": [
        "####  Cross_Validate"
      ]
    },
    {
      "cell_type": "code",
      "metadata": {
        "id": "LJJbZCgEQlOG",
        "colab": {
          "base_uri": "https://localhost:8080/"
        },
        "outputId": "7a755a2c-43ce-4a5b-f784-9bbcc66570d6"
      },
      "source": [
        "#### cv = 10  100%\n",
        "cvA = StratifiedShuffleSplit(n_splits=10, random_state=42)\n",
        "crossVA = cvA.split(XA,YA)\n",
        "start_time = time()\n",
        "pipe_svc_K_91_A = make_pipeline(StandardScaler(),SVC(kernel=paramSVCA['svc__kernel'],random_state=1,gamma=paramSVCA['svc__gamma'], C = paramSVCA['svc__C']))\n",
        "scores = cross_validate(estimator=pipe_svc_K_91_A,X=XA,y=YA, return_estimator= True ,scoring = scoring ,cv=crossVA,n_jobs=-1)\n",
        "elapsed_time = time() - start_time\n",
        "print(\"Tiempo transcurrido: %0.10f segundos.\" % elapsed_time)\n",
        "#print('CV scores: %s' % scores)\n",
        "print('CV accuracy: %.3f +/- %.3f' % (np.mean(scores['test_acc_weighted']),np.std(scores['test_acc_weighted'])))\n",
        "print('CV f1: %.3f +/- %.3f' % (np.mean(scores['test_f1_weighted']),np.std(scores['test_f1_weighted'])))\n",
        "print('CV prec: %.3f +/- %.3f' % (np.mean(scores['test_prec_weighted']),np.std(scores['test_prec_weighted'])))\n",
        "print('CV rec: %.3f +/- %.3f' % (np.mean(scores['test_rec_weighted']),np.std(scores['test_rec_weighted'])))\n",
        "print(\"\\n\\t\\tAccuracy\\n\")\n",
        "print(scores['test_acc_weighted'])\n",
        "print(\"\\n\\t\\t F1 \\n\")\n",
        "print(scores['test_f1_weighted'])\n",
        "print(\"\\n\\t\\t Prec \\n\")\n",
        "print(scores['test_prec_weighted'])\n",
        "print(\"\\n\\t\\t Rec \\n\")\n",
        "print(scores['test_rec_weighted'])"
      ],
      "execution_count": null,
      "outputs": [
        {
          "output_type": "stream",
          "name": "stdout",
          "text": [
            "Tiempo transcurrido: 4.8295016289 segundos.\n",
            "CV accuracy: 0.987 +/- 0.004\n",
            "CV f1: 0.980 +/- 0.006\n",
            "CV prec: 0.984 +/- 0.006\n",
            "CV rec: 0.976 +/- 0.008\n",
            "\n",
            "\t\tAccuracy\n",
            "\n",
            "[0.98494983 0.98327759 0.98494983 0.98662207 0.98327759 0.9916388\n",
            " 0.99498328 0.98160535 0.98662207 0.98829431]\n",
            "\n",
            "\t\t F1 \n",
            "\n",
            "[0.97977925 0.97916312 0.98585833 0.98166735 0.96991614 0.98220635\n",
            " 0.98941482 0.96956193 0.97858247 0.98398335]\n",
            "\n",
            "\t\t Prec \n",
            "\n",
            "[0.98283921 0.98909011 0.98123074 0.98474143 0.97109397 0.98976697\n",
            " 0.99432024 0.97795501 0.98467975 0.98659272]\n",
            "\n",
            "\t\t Rec \n",
            "\n",
            "[0.97698687 0.97004243 0.99074704 0.97874376 0.9687704  0.97619524\n",
            " 0.98514772 0.96205334 0.97279832 0.98180829]\n"
          ]
        }
      ]
    },
    {
      "cell_type": "markdown",
      "source": [
        "Matríz de confusión acumulado"
      ],
      "metadata": {
        "id": "TagIQ_7KxEFF"
      }
    },
    {
      "cell_type": "code",
      "source": [
        "i=0\n",
        "cvA = StratifiedShuffleSplit(n_splits=10, random_state=42)\n",
        "crossVA = cvA.split(XA,YA)\n",
        "acumulado = 0\n",
        "for train_index, test_index in crossVA:\n",
        "  model_91_A = make_pipeline(StandardScaler(), SVC(kernel=paramSVCA['svc__kernel'],random_state=1,gamma=paramSVCA['svc__gamma'], C = paramSVCA['svc__C']))\n",
        "  model_91_A.fit(XA[train_index],YA[train_index])\n",
        "  pred_model_91_A =  model_91_A.predict(XA[test_index])\n",
        "  print(\"\\t\\t\\t K=\"+str(i))\n",
        "  Metrics(YA[test_index].astype(int),pred_model_91_A.astype(int),6)\n",
        "  suma = metrics.confusion_matrix(y_true=YA[test_index].astype(int),y_pred=pred_model_91_A.astype(int))\n",
        "  acumulado = acumulado + suma\n",
        "  i+=1\n",
        "  print(acumulado)"
      ],
      "metadata": {
        "id": "mSLQ45ylxIhN",
        "colab": {
          "base_uri": "https://localhost:8080/"
        },
        "outputId": "bad39253-8dbf-49b3-83fa-e81d736d304d"
      },
      "execution_count": null,
      "outputs": [
        {
          "output_type": "stream",
          "name": "stdout",
          "text": [
            "\t\t\t K=0\n",
            "\n",
            "Matriz de Confusión\n",
            "\n",
            "[[231   0   1   1   1   0]\n",
            " [  1  23   0   0   0   0]\n",
            " [  0   0  80   0   3   0]\n",
            " [  0   0   0  23   1   0]\n",
            " [  0   0   0   0 172   1]\n",
            " [  0   0   0   0   0  60]]\n",
            "\n",
            " Reporte de Métricas de Clasificación \n",
            "\n",
            "              precision    recall  f1-score   support\n",
            "\n",
            "           1   0.995690  0.987179  0.991416       234\n",
            "           2   1.000000  0.958333  0.978723        24\n",
            "           3   0.987654  0.963855  0.975610        83\n",
            "           4   0.958333  0.958333  0.958333        24\n",
            "           5   0.971751  0.994220  0.982857       173\n",
            "           6   0.983607  1.000000  0.991736        60\n",
            "\n",
            "    accuracy                       0.984950       598\n",
            "   macro avg   0.982839  0.976987  0.979779       598\n",
            "weighted avg   0.985110  0.984950  0.984941       598\n",
            "\n",
            "[[231   0   1   1   1   0]\n",
            " [  1  23   0   0   0   0]\n",
            " [  0   0  80   0   3   0]\n",
            " [  0   0   0  23   1   0]\n",
            " [  0   0   0   0 172   1]\n",
            " [  0   0   0   0   0  60]]\n",
            "\t\t\t K=1\n",
            "\n",
            "Matriz de Confusión\n",
            "\n",
            "[[231   0   2   0   1   0]\n",
            " [  0  23   0   0   1   0]\n",
            " [  2   0  80   0   1   0]\n",
            " [  0   0   0  22   2   0]\n",
            " [  1   0   0   0 172   0]\n",
            " [  0   0   0   0   0  60]]\n",
            "\n",
            " Reporte de Métricas de Clasificación \n",
            "\n",
            "              precision    recall  f1-score   support\n",
            "\n",
            "           1   0.987179  0.987179  0.987179       234\n",
            "           2   1.000000  0.958333  0.978723        24\n",
            "           3   0.975610  0.963855  0.969697        83\n",
            "           4   1.000000  0.916667  0.956522        24\n",
            "           5   0.971751  0.994220  0.982857       173\n",
            "           6   1.000000  1.000000  1.000000        60\n",
            "\n",
            "    accuracy                       0.983278       598\n",
            "   macro avg   0.989090  0.970042  0.979163       598\n",
            "weighted avg   0.983426  0.983278  0.983219       598\n",
            "\n",
            "[[462   0   3   1   2   0]\n",
            " [  1  46   0   0   1   0]\n",
            " [  2   0 160   0   4   0]\n",
            " [  0   0   0  45   3   0]\n",
            " [  1   0   0   0 344   1]\n",
            " [  0   0   0   0   0 120]]\n",
            "\t\t\t K=2\n",
            "\n",
            "Matriz de Confusión\n",
            "\n",
            "[[228   1   5   0   0   0]\n",
            " [  0  24   0   0   0   0]\n",
            " [  1   0  81   0   1   0]\n",
            " [  0   0   0  24   0   0]\n",
            " [  1   0   0   0 172   0]\n",
            " [  0   0   0   0   0  60]]\n",
            "\n",
            " Reporte de Métricas de Clasificación \n",
            "\n",
            "              precision    recall  f1-score   support\n",
            "\n",
            "           1   0.991304  0.974359  0.982759       234\n",
            "           2   0.960000  1.000000  0.979592        24\n",
            "           3   0.941860  0.975904  0.958580        83\n",
            "           4   1.000000  1.000000  1.000000        24\n",
            "           5   0.994220  0.994220  0.994220       173\n",
            "           6   1.000000  1.000000  1.000000        60\n",
            "\n",
            "    accuracy                       0.984950       598\n",
            "   macro avg   0.981231  0.990747  0.985858       598\n",
            "weighted avg   0.985250  0.984950  0.985013       598\n",
            "\n",
            "[[690   1   8   1   2   0]\n",
            " [  1  70   0   0   1   0]\n",
            " [  3   0 241   0   5   0]\n",
            " [  0   0   0  69   3   0]\n",
            " [  2   0   0   0 516   1]\n",
            " [  0   0   0   0   0 180]]\n",
            "\t\t\t K=3\n",
            "\n",
            "Matriz de Confusión\n",
            "\n",
            "[[232   0   1   0   1   0]\n",
            " [  1  23   0   0   0   0]\n",
            " [  1   0  81   0   1   0]\n",
            " [  0   0   0  23   1   0]\n",
            " [  0   0   1   1 171   0]\n",
            " [  0   0   0   0   0  60]]\n",
            "\n",
            " Reporte de Métricas de Clasificación \n",
            "\n",
            "              precision    recall  f1-score   support\n",
            "\n",
            "           1   0.991453  0.991453  0.991453       234\n",
            "           2   1.000000  0.958333  0.978723        24\n",
            "           3   0.975904  0.975904  0.975904        83\n",
            "           4   0.958333  0.958333  0.958333        24\n",
            "           5   0.982759  0.988439  0.985591       173\n",
            "           6   1.000000  1.000000  1.000000        60\n",
            "\n",
            "    accuracy                       0.986622       598\n",
            "   macro avg   0.984741  0.978744  0.981667       598\n",
            "weighted avg   0.986651  0.986622  0.986616       598\n",
            "\n",
            "[[922   1   9   1   3   0]\n",
            " [  2  93   0   0   1   0]\n",
            " [  4   0 322   0   6   0]\n",
            " [  0   0   0  92   4   0]\n",
            " [  2   0   1   1 687   1]\n",
            " [  0   0   0   0   0 240]]\n",
            "\t\t\t K=4\n",
            "\n",
            "Matriz de Confusión\n",
            "\n",
            "[[233   1   0   0   0   0]\n",
            " [  1  22   0   1   0   0]\n",
            " [  1   0  81   0   1   0]\n",
            " [  0   0   0  23   1   0]\n",
            " [  0   1   2   0 170   0]\n",
            " [  1   0   0   0   0  59]]\n",
            "\n",
            " Reporte de Métricas de Clasificación \n",
            "\n",
            "              precision    recall  f1-score   support\n",
            "\n",
            "           1   0.987288  0.995726  0.991489       234\n",
            "           2   0.916667  0.916667  0.916667        24\n",
            "           3   0.975904  0.975904  0.975904        83\n",
            "           4   0.958333  0.958333  0.958333        24\n",
            "           5   0.988372  0.982659  0.985507       173\n",
            "           6   1.000000  0.983333  0.991597        60\n",
            "\n",
            "    accuracy                       0.983278       598\n",
            "   macro avg   0.971094  0.968770  0.969916       598\n",
            "weighted avg   0.983301  0.983278  0.983273       598\n",
            "\n",
            "[[1155    2    9    1    3    0]\n",
            " [   3  115    0    1    1    0]\n",
            " [   5    0  403    0    7    0]\n",
            " [   0    0    0  115    5    0]\n",
            " [   2    1    3    1  857    1]\n",
            " [   1    0    0    0    0  299]]\n",
            "\t\t\t K=5\n",
            "\n",
            "Matriz de Confusión\n",
            "\n",
            "[[234   0   0   0   0   0]\n",
            " [  0  24   0   0   0   0]\n",
            " [  0   0  82   0   1   0]\n",
            " [  0   1   0  21   2   0]\n",
            " [  1   0   0   0 172   0]\n",
            " [  0   0   0   0   0  60]]\n",
            "\n",
            " Reporte de Métricas de Clasificación \n",
            "\n",
            "              precision    recall  f1-score   support\n",
            "\n",
            "           1   0.995745  1.000000  0.997868       234\n",
            "           2   0.960000  1.000000  0.979592        24\n",
            "           3   1.000000  0.987952  0.993939        83\n",
            "           4   1.000000  0.875000  0.933333        24\n",
            "           5   0.982857  0.994220  0.988506       173\n",
            "           6   1.000000  1.000000  1.000000        60\n",
            "\n",
            "    accuracy                       0.991639       598\n",
            "   macro avg   0.989767  0.976195  0.982206       598\n",
            "weighted avg   0.991770  0.991639  0.991505       598\n",
            "\n",
            "[[1389    2    9    1    3    0]\n",
            " [   3  139    0    1    1    0]\n",
            " [   5    0  485    0    8    0]\n",
            " [   0    1    0  136    7    0]\n",
            " [   3    1    3    1 1029    1]\n",
            " [   1    0    0    0    0  359]]\n",
            "\t\t\t K=6\n",
            "\n",
            "Matriz de Confusión\n",
            "\n",
            "[[234   0   0   0   0   0]\n",
            " [  0  24   0   0   0   0]\n",
            " [  0   0  83   0   0   0]\n",
            " [  0   0   0  22   1   1]\n",
            " [  0   0   1   0 172   0]\n",
            " [  0   0   0   0   0  60]]\n",
            "\n",
            " Reporte de Métricas de Clasificación \n",
            "\n",
            "              precision    recall  f1-score   support\n",
            "\n",
            "           1   1.000000  1.000000  1.000000       234\n",
            "           2   1.000000  1.000000  1.000000        24\n",
            "           3   0.988095  1.000000  0.994012        83\n",
            "           4   1.000000  0.916667  0.956522        24\n",
            "           5   0.994220  0.994220  0.994220       173\n",
            "           6   0.983607  1.000000  0.991736        60\n",
            "\n",
            "    accuracy                       0.994983       598\n",
            "   macro avg   0.994320  0.985148  0.989415       598\n",
            "weighted avg   0.995031  0.994983  0.994922       598\n",
            "\n",
            "[[1623    2    9    1    3    0]\n",
            " [   3  163    0    1    1    0]\n",
            " [   5    0  568    0    8    0]\n",
            " [   0    1    0  158    8    1]\n",
            " [   3    1    4    1 1201    1]\n",
            " [   1    0    0    0    0  419]]\n",
            "\t\t\t K=7\n",
            "\n",
            "Matriz de Confusión\n",
            "\n",
            "[[231   0   2   0   1   0]\n",
            " [  0  23   0   1   0   0]\n",
            " [  3   0  79   0   1   0]\n",
            " [  0   0   0  21   1   2]\n",
            " [  0   0   0   0 173   0]\n",
            " [  0   0   0   0   0  60]]\n",
            "\n",
            " Reporte de Métricas de Clasificación \n",
            "\n",
            "              precision    recall  f1-score   support\n",
            "\n",
            "           1   0.987179  0.987179  0.987179       234\n",
            "           2   1.000000  0.958333  0.978723        24\n",
            "           3   0.975309  0.951807  0.963415        83\n",
            "           4   0.954545  0.875000  0.913043        24\n",
            "           5   0.982955  1.000000  0.991404       173\n",
            "           6   0.967742  1.000000  0.983607        60\n",
            "\n",
            "    accuracy                       0.981605       598\n",
            "   macro avg   0.977955  0.962053  0.969562       598\n",
            "weighted avg   0.981564  0.981605  0.981430       598\n",
            "\n",
            "[[1854    2   11    1    4    0]\n",
            " [   3  186    0    2    1    0]\n",
            " [   8    0  647    0    9    0]\n",
            " [   0    1    0  179    9    3]\n",
            " [   3    1    4    1 1374    1]\n",
            " [   1    0    0    0    0  479]]\n",
            "\t\t\t K=8\n",
            "\n",
            "Matriz de Confusión\n",
            "\n",
            "[[234   0   0   0   0   0]\n",
            " [  0  22   0   0   2   0]\n",
            " [  1   0  81   0   1   0]\n",
            " [  0   0   0  24   0   0]\n",
            " [  0   0   0   0 172   1]\n",
            " [  1   1   0   0   1  57]]\n",
            "\n",
            " Reporte de Métricas de Clasificación \n",
            "\n",
            "              precision    recall  f1-score   support\n",
            "\n",
            "           1   0.991525  1.000000  0.995745       234\n",
            "           2   0.956522  0.916667  0.936170        24\n",
            "           3   1.000000  0.975904  0.987805        83\n",
            "           4   1.000000  1.000000  1.000000        24\n",
            "           5   0.977273  0.994220  0.985673       173\n",
            "           6   0.982759  0.950000  0.966102        60\n",
            "\n",
            "    accuracy                       0.986622       598\n",
            "   macro avg   0.984680  0.972798  0.978582       598\n",
            "weighted avg   0.986634  0.986622  0.986535       598\n",
            "\n",
            "[[2088    2   11    1    4    0]\n",
            " [   3  208    0    2    3    0]\n",
            " [   9    0  728    0   10    0]\n",
            " [   0    1    0  203    9    3]\n",
            " [   3    1    4    1 1546    2]\n",
            " [   2    1    0    0    1  536]]\n",
            "\t\t\t K=9\n",
            "\n",
            "Matriz de Confusión\n",
            "\n",
            "[[233   1   0   0   0   0]\n",
            " [  0  24   0   0   0   0]\n",
            " [  0   0  81   0   2   0]\n",
            " [  0   0   0  23   1   0]\n",
            " [  0   0   1   0 172   0]\n",
            " [  0   0   0   0   2  58]]\n",
            "\n",
            " Reporte de Métricas de Clasificación \n",
            "\n",
            "              precision    recall  f1-score   support\n",
            "\n",
            "           1   1.000000  0.995726  0.997859       234\n",
            "           2   0.960000  1.000000  0.979592        24\n",
            "           3   0.987805  0.975904  0.981818        83\n",
            "           4   1.000000  0.958333  0.978723        24\n",
            "           5   0.971751  0.994220  0.982857       173\n",
            "           6   1.000000  0.966667  0.983051        60\n",
            "\n",
            "    accuracy                       0.988294       598\n",
            "   macro avg   0.986593  0.981808  0.983983       598\n",
            "weighted avg   0.988530  0.988294  0.988306       598\n",
            "\n",
            "[[2321    3   11    1    4    0]\n",
            " [   3  232    0    2    3    0]\n",
            " [   9    0  809    0   12    0]\n",
            " [   0    1    0  226   10    3]\n",
            " [   3    1    5    1 1718    2]\n",
            " [   2    1    0    0    3  594]]\n"
          ]
        }
      ]
    },
    {
      "cell_type": "markdown",
      "source": [
        "Obtención de promedios por métrica"
      ],
      "metadata": {
        "id": "RNsbfneUHK1t"
      }
    },
    {
      "cell_type": "code",
      "source": [
        "i=0\n",
        "cvA = StratifiedShuffleSplit(n_splits=10, random_state=42)\n",
        "crossVA = cvA.split(XA,YA)\n",
        "acumulado1 = []\n",
        "acumulado2 = []\n",
        "acumulado3 = []\n",
        "acumulado4 = []\n",
        "acumulado5 = []\n",
        "acumulado6 = []\n",
        "for train_index, test_index in crossVA:\n",
        "  model_91_A = make_pipeline(StandardScaler(), SVC(kernel=paramSVCA['svc__kernel'],random_state=1,gamma=paramSVCA['svc__gamma'], C = paramSVCA['svc__C']))\n",
        "  model_91_A.fit(XA[train_index],YA[train_index])\n",
        "  pred_model_91_A =  model_91_A.predict(XA[test_index])\n",
        "  print(\"\\t\\t\\t K=\"+str(i))\n",
        "  dic = Metrics(YA[test_index].astype(int),pred_model_91_A.astype(int),6)\n",
        "  ### diccionario 'f1-score', 'recall', 'precision'\n",
        "  acumulado1.append(dic['1']['precision'])\n",
        "  acumulado2.append(dic['2']['precision'])\n",
        "  acumulado3.append(dic['3']['precision'])\n",
        "  acumulado4.append(dic['4']['precision'])\n",
        "  acumulado5.append(dic['5']['precision'])\n",
        "  acumulado6.append(dic['6']['precision'])\n",
        "  i+=1\n",
        "  print(\"\\n\\n\")\n"
      ],
      "metadata": {
        "colab": {
          "base_uri": "https://localhost:8080/"
        },
        "id": "AwNrVGX0HKWO",
        "outputId": "b9cb664e-3323-4fba-b93a-29db3e1dcb84"
      },
      "execution_count": null,
      "outputs": [
        {
          "output_type": "stream",
          "name": "stdout",
          "text": [
            "\t\t\t K=0\n",
            "\n",
            "\n",
            "\n",
            "\t\t\t K=1\n",
            "\n",
            "\n",
            "\n",
            "\t\t\t K=2\n",
            "\n",
            "\n",
            "\n",
            "\t\t\t K=3\n",
            "\n",
            "\n",
            "\n",
            "\t\t\t K=4\n",
            "\n",
            "\n",
            "\n",
            "\t\t\t K=5\n",
            "\n",
            "\n",
            "\n",
            "\t\t\t K=6\n",
            "\n",
            "\n",
            "\n",
            "\t\t\t K=7\n",
            "\n",
            "\n",
            "\n",
            "\t\t\t K=8\n",
            "\n",
            "\n",
            "\n",
            "\t\t\t K=9\n",
            "\n",
            "\n",
            "\n"
          ]
        }
      ]
    },
    {
      "cell_type": "code",
      "source": [
        "array_acumulado_1 = np.asarray(acumulado1)\n",
        "array_acumulado_2 = np.asarray(acumulado2)\n",
        "array_acumulado_3 = np.asarray(acumulado3)\n",
        "array_acumulado_4 = np.asarray(acumulado4)\n",
        "array_acumulado_5 = np.asarray(acumulado5)\n",
        "array_acumulado_6 = np.asarray(acumulado6)\n",
        "\n",
        "print('clase 1')\n",
        "print('CV : %.6f +/- %.6f' % (np.mean(array_acumulado_1),np.std(array_acumulado_1)))\n",
        "print('clase 2')\n",
        "print('CV : %.6f +/- %.6f' % (np.mean(array_acumulado_2),np.std(array_acumulado_2)))\n",
        "print('clase 3')\n",
        "print('CV : %.6f +/- %.6f' % (np.mean(array_acumulado_3),np.std(array_acumulado_3)))\n",
        "print('clase 4')\n",
        "print('CV : %.6f +/- %.6f' % (np.mean(array_acumulado_4),np.std(array_acumulado_4)))\n",
        "print('clase 5')\n",
        "print('CV : %.6f +/- %.6f' % (np.mean(array_acumulado_5),np.std(array_acumulado_5)))\n",
        "print('clase 6')\n",
        "print('CV : %.6f +/- %.6f' % (np.mean(array_acumulado_6),np.std(array_acumulado_6)))"
      ],
      "metadata": {
        "colab": {
          "base_uri": "https://localhost:8080/"
        },
        "id": "1PsIHsxaHji-",
        "outputId": "484ddf84-d984-45a0-b726-aed48cb61e70"
      },
      "execution_count": null,
      "outputs": [
        {
          "output_type": "stream",
          "name": "stdout",
          "text": [
            "clase 1\n",
            "CV : 0.992736 +/- 0.004689\n",
            "clase 2\n",
            "CV : 0.975319 +/- 0.027465\n",
            "clase 3\n",
            "CV : 0.980814 +/- 0.015836\n",
            "clase 4\n",
            "CV : 0.982955 +/- 0.020902\n",
            "clase 5\n",
            "CV : 0.981791 +/- 0.008237\n",
            "clase 6\n",
            "CV : 0.991771 +/- 0.010946\n"
          ]
        }
      ]
    },
    {
      "cell_type": "markdown",
      "metadata": {
        "id": "Eum-mGybSNr9"
      },
      "source": [
        "# **RANDOM FOREST A**"
      ]
    },
    {
      "cell_type": "markdown",
      "metadata": {
        "id": "dtIJZtOOSRVF"
      },
      "source": [
        "### GridSearch 80-20"
      ]
    },
    {
      "cell_type": "code",
      "metadata": {
        "id": "kp9lOIDRSOSN",
        "colab": {
          "base_uri": "https://localhost:8080/"
        },
        "outputId": "a5929d83-458e-49ff-f2b8-5cc3ec7594c0"
      },
      "source": [
        "RF_91_A =  RandomForestClassifier(random_state = 42)\n",
        "\n",
        "gs_RF_91_A = GridSearchCV(estimator=RF_91_A,param_grid=param_grid_rf,scoring='accuracy',cv=5,n_jobs=-1)\n",
        "start_time = time()\n",
        "gs_RF_91_A = gs_RF_91_A.fit(x_trainA, y_trainA)\n",
        "elapsed_time = time() - start_time\n",
        "print(\"Tiempo transcurrido: %0.10f segundos.\" % elapsed_time)\n",
        "print(gs_RF_91_A.best_score_)\n",
        "print(gs_RF_91_A.best_params_)\n",
        "paramRFA = gs_RF_91_A.best_params_"
      ],
      "execution_count": null,
      "outputs": [
        {
          "output_type": "stream",
          "name": "stdout",
          "text": [
            "Tiempo transcurrido: 70.5536043644 segundos.\n",
            "0.9845188284518829\n",
            "{'criterion': 'entropy', 'max_depth': 15, 'n_estimators': 100}\n"
          ]
        }
      ]
    },
    {
      "cell_type": "code",
      "metadata": {
        "id": "6YDu-b6QSlBd",
        "colab": {
          "base_uri": "https://localhost:8080/"
        },
        "outputId": "a46b36e3-fb06-4e37-eb22-9264e888d08e"
      },
      "source": [
        "pred_RF_Grid_91_A = gs_RF_91_A.predict(x_testA)\n",
        "Metrics(y_testA.astype(int),pred_RF_Grid_91_A.astype(int),6)"
      ],
      "execution_count": null,
      "outputs": [
        {
          "output_type": "stream",
          "name": "stdout",
          "text": [
            "\n",
            "Matriz de Confusión\n",
            "\n",
            "[[465   1   2   0   0   0]\n",
            " [  2  45   0   1   0   1]\n",
            " [  3   0 160   0   2   0]\n",
            " [  1   0   0  46   0   1]\n",
            " [  0   0   0   0 345   0]\n",
            " [  0   0   0   1   1 119]]\n",
            "\n",
            " Reporte de Métricas de Clasificación \n",
            "\n",
            "              precision    recall  f1-score   support\n",
            "\n",
            "           1   0.987261  0.993590  0.990415       468\n",
            "           2   0.978261  0.918367  0.947368        49\n",
            "           3   0.987654  0.969697  0.978593       165\n",
            "           4   0.958333  0.958333  0.958333        48\n",
            "           5   0.991379  1.000000  0.995671       345\n",
            "           6   0.983471  0.983471  0.983471       121\n",
            "\n",
            "    accuracy                       0.986622      1196\n",
            "   macro avg   0.981060  0.970576  0.975642      1196\n",
            "weighted avg   0.986590  0.986622  0.986547      1196\n",
            "\n"
          ]
        }
      ]
    },
    {
      "cell_type": "markdown",
      "metadata": {
        "id": "CpHNazg9S3ww"
      },
      "source": [
        "####  Cross_Validate"
      ]
    },
    {
      "cell_type": "code",
      "metadata": {
        "id": "8FAO3UOjS4SW",
        "colab": {
          "base_uri": "https://localhost:8080/"
        },
        "outputId": "daebb4a8-0ca2-4cc7-bf27-24f1c048a091"
      },
      "source": [
        "#### cv = 10  100%\n",
        "cvA = StratifiedShuffleSplit(n_splits=10, random_state=42)\n",
        "crossVA = cvA.split(x_trainA,y_trainA)\n",
        "kf_RF_91_A = RandomForestClassifier(criterion=paramRFA['criterion'],max_depth= paramRFA['max_depth'], n_estimators = paramRFA['n_estimators'] ,random_state = 42)\n",
        "start_time = time()\n",
        "scores = cross_validate(estimator=kf_RF_91_A ,X=x_trainA,y=y_trainA, scoring = scoring, return_estimator= True ,cv = crossVA,n_jobs=-1)\n",
        "elapsed_time = time() - start_time\n",
        "print(\"Tiempo transcurrido: %0.10f segundos.\" % elapsed_time)\n",
        "#print('CV scores: %s' % scores)\n",
        "print('CV accuracy: %.6f +/- %.6f' % (np.mean(scores['test_acc_weighted']),np.std(scores['test_acc_weighted'])))\n",
        "print('CV f1: %.6f +/- %.6f' % (np.mean(scores['test_f1_weighted']),np.std(scores['test_f1_weighted'])))\n",
        "print('CV prec: %.6f +/- %.6f' % (np.mean(scores['test_prec_weighted']),np.std(scores['test_prec_weighted'])))\n",
        "print('CV rec: %.6f +/- %.6f' % (np.mean(scores['test_rec_weighted']),np.std(scores['test_rec_weighted'])))\n",
        "print(\"\\n\\t\\tAccuracy\\n\")\n",
        "print(scores['test_acc_weighted'])\n",
        "print(\"\\n\\t\\t F1 \\n\")\n",
        "print(scores['test_f1_weighted'])\n",
        "print(\"\\n\\t\\t Prec \\n\")\n",
        "print(scores['test_prec_weighted'])\n",
        "print(\"\\n\\t\\t Rec \\n\")\n",
        "print(scores['test_rec_weighted'])\n"
      ],
      "execution_count": null,
      "outputs": [
        {
          "output_type": "stream",
          "name": "stdout",
          "text": [
            "Tiempo transcurrido: 7.0413997173 segundos.\n",
            "CV accuracy: 0.986611 +/- 0.008167\n",
            "CV f1: 0.979833 +/- 0.014417\n",
            "CV prec: 0.987472 +/- 0.009496\n",
            "CV rec: 0.973607 +/- 0.018312\n",
            "\n",
            "\t\tAccuracy\n",
            "\n",
            "[0.9790795  0.98953975 0.9874477  0.96861925 0.9832636  0.99790795\n",
            " 0.9958159  0.98535565 0.98535565 0.99372385]\n",
            "\n",
            "\t\t F1 \n",
            "\n",
            "[0.96759264 0.99003217 0.97519481 0.9460982  0.97587089 0.99512481\n",
            " 0.99302419 0.97669616 0.98430682 0.99438435]\n",
            "\n",
            "\t\t Prec \n",
            "\n",
            "[0.97946762 0.99098995 0.98553772 0.96463715 0.98553314 0.99880096\n",
            " 0.99761905 0.98663963 0.99067227 0.99482559]\n",
            "\n",
            "\t\t Rec \n",
            "\n",
            "[0.95838254 0.98943237 0.96742598 0.93142136 0.96741523 0.99166667\n",
            " 0.98870282 0.96916976 0.97839756 0.99405823]\n"
          ]
        }
      ]
    },
    {
      "cell_type": "markdown",
      "metadata": {
        "id": "-zywUxNYxgkw"
      },
      "source": [
        "Valores acumulados de CV Matriz de confusión"
      ]
    },
    {
      "cell_type": "code",
      "metadata": {
        "colab": {
          "base_uri": "https://localhost:8080/"
        },
        "id": "UdHRHj38-yIG",
        "outputId": "06f3e435-0f26-4543-a727-663afdeb7a97"
      },
      "source": [
        "i=0\n",
        "cvA = StratifiedShuffleSplit(n_splits=10, random_state=42)\n",
        "crossVA = cvA.split(x_trainA,y_trainA)\n",
        "acumulado = 0\n",
        "for train_index, test_index in crossVA:\n",
        "  #Modelo_rf_91_A = RandomForestClassifier(criterion=paramRFA['criterion'],max_depth= paramRFA['max_depth'], n_estimators = paramRFA['n_estimators'] ,random_state = 42)\n",
        "  Modelo_rf_91_A = RandomForestClassifier(criterion='entropy',max_depth= 20, n_estimators = 150 ,random_state = 42)\n",
        "  Modelo_rf_91_A.fit(x_trainA[train_index],y_trainA[train_index])\n",
        "  pred_model_rf_91_A =  Modelo_rf_91_A.predict(x_trainA[test_index])\n",
        "  print(\"\\t\\t\\t K=\"+str(i))\n",
        "  #suma = Metrics(YA[test_index].astype(int),pred_model_rf_91_A.astype(int),6)\n",
        "  suma = metrics.confusion_matrix(y_true=y_trainA[test_index].astype(int),y_pred=pred_model_rf_91_A.astype(int))\n",
        "  acumulado = acumulado + suma\n",
        "  i+=1\n",
        "  print(\"\\n\\n\")\n",
        "print(acumulado)"
      ],
      "execution_count": null,
      "outputs": [
        {
          "output_type": "stream",
          "name": "stdout",
          "text": [
            "\t\t\t K=0\n",
            "\n",
            "\n",
            "\n",
            "\t\t\t K=1\n",
            "\n",
            "\n",
            "\n",
            "\t\t\t K=2\n",
            "\n",
            "\n",
            "\n",
            "\t\t\t K=3\n",
            "\n",
            "\n",
            "\n",
            "\t\t\t K=4\n",
            "\n",
            "\n",
            "\n",
            "\t\t\t K=5\n",
            "\n",
            "\n",
            "\n",
            "\t\t\t K=6\n",
            "\n",
            "\n",
            "\n",
            "\t\t\t K=7\n",
            "\n",
            "\n",
            "\n",
            "\t\t\t K=8\n",
            "\n",
            "\n",
            "\n",
            "\t\t\t K=9\n",
            "\n",
            "\n",
            "\n",
            "[[1862    0    2    0    3    3]\n",
            " [   0  198    0    0    2    0]\n",
            " [   8    0  645    0    6    1]\n",
            " [   0    0    0  175    9    6]\n",
            " [   5    1    5    1 1366    2]\n",
            " [   1    0    2    0    5  472]]\n"
          ]
        }
      ]
    },
    {
      "cell_type": "markdown",
      "source": [
        "Obtención del promedio por clase de cada métrica"
      ],
      "metadata": {
        "id": "g6wX42RhU-FU"
      }
    },
    {
      "cell_type": "code",
      "metadata": {
        "id": "2JaXOrYTHlHG"
      },
      "source": [
        "i=0\n",
        "cvA = StratifiedShuffleSplit(n_splits=10, random_state=42)\n",
        "crossVA = cvA.split(XA,YA)\n",
        "acumulado1 = []\n",
        "acumulado2 = []\n",
        "acumulado3 = []\n",
        "acumulado4 = []\n",
        "acumulado5 = []\n",
        "acumulado6 = []\n",
        "for train_index, test_index in crossVA:\n",
        "  Modelo_rf_91_A = RandomForestClassifier(criterion=paramRFA['criterion'],max_depth= paramRFA['max_depth'], n_estimators = paramRFA['n_estimators'] ,random_state = 42)\n",
        "  Modelo_rf_91_A.fit(XA[train_index],YA[train_index])\n",
        "  pred_model_rf_91_A =  Modelo_rf_91_A.predict(XA[test_index])\n",
        "  print(\"\\t\\t\\t K=\"+str(i))\n",
        "  dic = Metrics(YA[test_index].astype(int),pred_model_rf_91_A.astype(int),6)\n",
        "  ### diccionario 'f1-score', 'recall', 'precision'\n",
        "  acumulado1.append(dic['1']['f1-score'])\n",
        "  acumulado2.append(dic['2']['f1-score'])\n",
        "  acumulado3.append(dic['3']['f1-score'])\n",
        "  acumulado4.append(dic['4']['f1-score'])\n",
        "  acumulado5.append(dic['5']['f1-score'])\n",
        "  acumulado6.append(dic['6']['f1-score'])\n",
        "  i+=1\n",
        "  print(\"\\n\\n\")\n"
      ],
      "execution_count": null,
      "outputs": []
    },
    {
      "cell_type": "code",
      "metadata": {
        "id": "P0KqFUWdLK59"
      },
      "source": [
        "array_acumulado_1 = np.asarray(acumulado1)\n",
        "array_acumulado_2 = np.asarray(acumulado2)\n",
        "array_acumulado_3 = np.asarray(acumulado3)\n",
        "array_acumulado_4 = np.asarray(acumulado4)\n",
        "array_acumulado_5 = np.asarray(acumulado5)\n",
        "array_acumulado_6 = np.asarray(acumulado6)\n",
        "\n",
        "print('clase 1')\n",
        "print('CV : %.6f +/- %.6f' % (np.mean(array_acumulado_1),np.std(array_acumulado_1)))\n",
        "print('clase 2')\n",
        "print('CV : %.6f +/- %.6f' % (np.mean(array_acumulado_2),np.std(array_acumulado_2)))\n",
        "print('clase 3')\n",
        "print('CV : %.6f +/- %.6f' % (np.mean(array_acumulado_3),np.std(array_acumulado_3)))\n",
        "print('clase 4')\n",
        "print('CV : %.6f +/- %.6f' % (np.mean(array_acumulado_4),np.std(array_acumulado_4)))\n",
        "print('clase 5')\n",
        "print('CV : %.6f +/- %.6f' % (np.mean(array_acumulado_5),np.std(array_acumulado_5)))\n",
        "print('clase 6')\n",
        "print('CV : %.6f +/- %.6f' % (np.mean(array_acumulado_6),np.std(array_acumulado_6)))"
      ],
      "execution_count": null,
      "outputs": []
    },
    {
      "cell_type": "markdown",
      "metadata": {
        "id": "9Tf9FrqLTjT-"
      },
      "source": [
        "# **MLP A**"
      ]
    },
    {
      "cell_type": "markdown",
      "metadata": {
        "id": "KgRpovASTvjQ"
      },
      "source": [
        "### GridSearch 80-20"
      ]
    },
    {
      "cell_type": "code",
      "metadata": {
        "id": "hnvTe92mTjuO",
        "colab": {
          "base_uri": "https://localhost:8080/"
        },
        "outputId": "2a02a8fd-3b4a-44e0-c12b-57442c3b7989"
      },
      "source": [
        "MLP_91_A = make_pipeline(StandardScaler(),MLPClassifier(random_state = 42))\n",
        "\n",
        "gs_MLP_91_A = GridSearchCV(estimator=MLP_91_A,param_grid=param_grid_mlp_NEW,scoring='accuracy',cv=5,n_jobs=-1)\n",
        "start_time = time()\n",
        "gs_MLP_91_A = gs_MLP_91_A.fit(x_trainA, y_trainA)\n",
        "elapsed_time = time() - start_time\n",
        "print(\"Tiempo transcurrido: %0.10f segundos.\" % elapsed_time)\n",
        "print(gs_MLP_91_A.best_score_)\n",
        "print(gs_MLP_91_A.best_params_)\n",
        "paramMLPA = gs_MLP_91_A.best_params_"
      ],
      "execution_count": null,
      "outputs": [
        {
          "output_type": "stream",
          "name": "stdout",
          "text": [
            "Tiempo transcurrido: 2996.1965203285 segundos.\n",
            "0.9573221757322175\n",
            "{'mlpclassifier__activation': 'relu', 'mlpclassifier__alpha': 0.001, 'mlpclassifier__hidden_layer_sizes': (150,), 'mlpclassifier__max_iter': 500, 'mlpclassifier__solver': 'adam'}\n"
          ]
        },
        {
          "output_type": "stream",
          "name": "stderr",
          "text": [
            "/usr/local/lib/python3.7/dist-packages/sklearn/neural_network/_multilayer_perceptron.py:696: ConvergenceWarning: Stochastic Optimizer: Maximum iterations (500) reached and the optimization hasn't converged yet.\n",
            "  ConvergenceWarning,\n"
          ]
        }
      ]
    },
    {
      "cell_type": "code",
      "metadata": {
        "id": "O7EqIdvAxpL7"
      },
      "source": [
        "paramMLPA = {'mlpclassifier__activation': 'relu', 'mlpclassifier__alpha': 0.001, 'mlpclassifier__hidden_layer_sizes': (200,), 'mlpclassifier__max_iter': 1000, 'mlpclassifier__solver': 'adam'}"
      ],
      "execution_count": null,
      "outputs": []
    },
    {
      "cell_type": "code",
      "metadata": {
        "id": "aHih_3iZUOZA",
        "colab": {
          "base_uri": "https://localhost:8080/"
        },
        "outputId": "37813824-4635-47ce-d393-660a18a096aa"
      },
      "source": [
        "pred_MLP_Grid_91_A = gs_MLP_91_A.predict(x_testA)\n",
        "Metrics(y_testA.astype(int),pred_MLP_Grid_91_A.astype(int),4)"
      ],
      "execution_count": null,
      "outputs": [
        {
          "output_type": "stream",
          "name": "stdout",
          "text": [
            "\n",
            "Matriz de Confusión\n",
            "\n",
            "[[458   0   5   0   4   1]\n",
            " [  1  47   0   1   0   0]\n",
            " [  9   0 150   2   3   1]\n",
            " [  1   0   0  43   2   2]\n",
            " [  1   1   3   0 337   3]\n",
            " [  0   2   1   0   0 118]]\n",
            "\n",
            " Reporte de Métricas de Clasificación \n",
            "\n",
            "              precision    recall  f1-score   support\n",
            "\n",
            "           1     0.9745    0.9786    0.9765       468\n",
            "           2     0.9400    0.9592    0.9495        49\n",
            "           3     0.9434    0.9091    0.9259       165\n",
            "           4     0.9348    0.8958    0.9149        48\n",
            "           5     0.9740    0.9768    0.9754       345\n",
            "           6     0.9440    0.9752    0.9593       121\n",
            "\n",
            "    accuracy                         0.9640      1196\n",
            "   macro avg     0.9518    0.9491    0.9503      1196\n",
            "weighted avg     0.9640    0.9640    0.9639      1196\n",
            "\n"
          ]
        }
      ]
    },
    {
      "cell_type": "markdown",
      "metadata": {
        "id": "GBJ-A_vSUXV4"
      },
      "source": [
        "####  Cross_Validate"
      ]
    },
    {
      "cell_type": "code",
      "metadata": {
        "id": "HP60J7OxUX1P",
        "colab": {
          "base_uri": "https://localhost:8080/"
        },
        "outputId": "5aca633c-431a-435f-c812-fe30f56a4a8b"
      },
      "source": [
        "#### cv = 10  100%\n",
        "cvA = StratifiedShuffleSplit(n_splits=10, random_state=42)\n",
        "crossVA = cvA.split(XA,YA)\n",
        "kf_MLP_91_A =  make_pipeline(StandardScaler(),MLPClassifier(alpha=paramMLPA['mlpclassifier__alpha'], hidden_layer_sizes=paramMLPA['mlpclassifier__hidden_layer_sizes'],activation=paramMLPA['mlpclassifier__activation'],max_iter=paramMLPA['mlpclassifier__max_iter'],solver=paramMLPA['mlpclassifier__solver'],random_state = 42))\n",
        "start_time = time()\n",
        "scores = cross_validate(estimator=kf_MLP_91_A ,X=XA,y=YA, scoring = scoring, return_estimator= True ,cv=crossVA,n_jobs=-1)\n",
        "elapsed_time = time() - start_time\n",
        "print(\"Tiempo transcurrido: %0.10f segundos.\" % elapsed_time)\n",
        "#print('CV scores: %s' % scores)\n",
        "print('CV accuracy: %.3f +/- %.3f' % (np.mean(scores['test_acc_weighted']),np.std(scores['test_acc_weighted'])))\n",
        "print('CV f1: %.3f +/- %.3f' % (np.mean(scores['test_f1_weighted']),np.std(scores['test_f1_weighted'])))\n",
        "print('CV prec: %.3f +/- %.3f' % (np.mean(scores['test_prec_weighted']),np.std(scores['test_prec_weighted'])))\n",
        "print('CV rec: %.3f +/- %.3f' % (np.mean(scores['test_rec_weighted']),np.std(scores['test_rec_weighted'])))\n",
        "print(\"\\n\\t\\tAccuracy\\n\")\n",
        "print(scores['test_acc_weighted'])\n",
        "print(\"\\n\\t\\t F1 \\n\")\n",
        "print(scores['test_f1_weighted'])\n",
        "print(\"\\n\\t\\t Prec \\n\")\n",
        "print(scores['test_prec_weighted'])\n",
        "print(\"\\n\\t\\t Rec \\n\")\n",
        "print(scores['test_rec_weighted'])"
      ],
      "execution_count": null,
      "outputs": [
        {
          "output_type": "stream",
          "name": "stdout",
          "text": [
            "Tiempo transcurrido: 88.2797596455 segundos.\n",
            "CV accuracy: 0.970 +/- 0.004\n",
            "CV f1: 0.958 +/- 0.008\n",
            "CV prec: 0.966 +/- 0.008\n",
            "CV rec: 0.951 +/- 0.009\n",
            "\n",
            "\t\tAccuracy\n",
            "\n",
            "[0.97324415 0.96822742 0.96822742 0.97826087 0.97324415 0.97157191\n",
            " 0.97157191 0.96488294 0.97157191 0.9632107 ]\n",
            "\n",
            "\t\t F1 \n",
            "\n",
            "[0.95834343 0.95953878 0.96378525 0.9732431  0.95216028 0.96604148\n",
            " 0.95249544 0.9413389  0.96105196 0.95467827]\n",
            "\n",
            "\t\t Prec \n",
            "\n",
            "[0.96755193 0.9672472  0.96434919 0.98062342 0.96313818 0.9750504\n",
            " 0.96249005 0.94942257 0.97349033 0.95965495]\n",
            "\n",
            "\t\t Rec \n",
            "\n",
            "[0.95021069 0.95251993 0.96338546 0.96637061 0.94216411 0.95862527\n",
            " 0.94508806 0.93496223 0.94978519 0.95118853]\n"
          ]
        }
      ]
    },
    {
      "cell_type": "code",
      "metadata": {
        "id": "hhU8hktjsOcc"
      },
      "source": [],
      "execution_count": null,
      "outputs": []
    }
  ]
}