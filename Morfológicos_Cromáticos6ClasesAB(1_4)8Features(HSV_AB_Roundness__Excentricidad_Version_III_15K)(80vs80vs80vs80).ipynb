{
  "nbformat": 4,
  "nbformat_minor": 0,
  "metadata": {
    "colab": {
      "provenance": [],
      "collapsed_sections": [
        "WQk2LNFFDaDQ"
      ],
      "toc_visible": true,
      "mount_file_id": "1CPRED1K2kXenlEhp6DkVX8RaOMvmYPqf",
      "authorship_tag": "ABX9TyMGAsZLY/+CS/ujfWxwVb2l",
      "include_colab_link": true
    },
    "kernelspec": {
      "name": "python3",
      "display_name": "Python 3"
    },
    "language_info": {
      "name": "python"
    }
  },
  "cells": [
    {
      "cell_type": "markdown",
      "metadata": {
        "id": "view-in-github",
        "colab_type": "text"
      },
      "source": [
        "<a href=\"https://colab.research.google.com/github/DanielResearch/Identificacion-de-Durazno/blob/main/Morfol%C3%B3gicos_Crom%C3%A1ticos6ClasesAB(1_4)8Features(HSV_AB_Roundness__Excentricidad_Version_III_15K)(80vs80vs80vs80).ipynb\" target=\"_parent\"><img src=\"https://colab.research.google.com/assets/colab-badge.svg\" alt=\"Open In Colab\"/></a>"
      ]
    },
    {
      "cell_type": "markdown",
      "metadata": {
        "id": "WQk2LNFFDaDQ"
      },
      "source": [
        "# General Setup"
      ]
    },
    {
      "cell_type": "code",
      "source": [
        "!pip install yellowbrick"
      ],
      "metadata": {
        "colab": {
          "base_uri": "https://localhost:8080/"
        },
        "id": "7UeZJYibrE-w",
        "outputId": "f97cec56-8580-4aac-df04-fc01fd81c125"
      },
      "execution_count": null,
      "outputs": [
        {
          "output_type": "stream",
          "name": "stdout",
          "text": [
            "Requirement already satisfied: yellowbrick in /usr/local/lib/python3.7/dist-packages (1.4)\n",
            "Requirement already satisfied: scikit-learn>=1.0.0 in /usr/local/lib/python3.7/dist-packages (from yellowbrick) (1.0.2)\n",
            "Requirement already satisfied: scipy>=1.0.0 in /usr/local/lib/python3.7/dist-packages (from yellowbrick) (1.4.1)\n",
            "Requirement already satisfied: cycler>=0.10.0 in /usr/local/lib/python3.7/dist-packages (from yellowbrick) (0.11.0)\n",
            "Requirement already satisfied: matplotlib!=3.0.0,>=2.0.2 in /usr/local/lib/python3.7/dist-packages (from yellowbrick) (3.2.2)\n",
            "Requirement already satisfied: numpy>=1.16.0 in /usr/local/lib/python3.7/dist-packages (from yellowbrick) (1.21.5)\n",
            "Requirement already satisfied: pyparsing!=2.0.4,!=2.1.2,!=2.1.6,>=2.0.1 in /usr/local/lib/python3.7/dist-packages (from matplotlib!=3.0.0,>=2.0.2->yellowbrick) (3.0.7)\n",
            "Requirement already satisfied: python-dateutil>=2.1 in /usr/local/lib/python3.7/dist-packages (from matplotlib!=3.0.0,>=2.0.2->yellowbrick) (2.8.2)\n",
            "Requirement already satisfied: kiwisolver>=1.0.1 in /usr/local/lib/python3.7/dist-packages (from matplotlib!=3.0.0,>=2.0.2->yellowbrick) (1.3.2)\n",
            "Requirement already satisfied: six>=1.5 in /usr/local/lib/python3.7/dist-packages (from python-dateutil>=2.1->matplotlib!=3.0.0,>=2.0.2->yellowbrick) (1.15.0)\n",
            "Requirement already satisfied: threadpoolctl>=2.0.0 in /usr/local/lib/python3.7/dist-packages (from scikit-learn>=1.0.0->yellowbrick) (3.1.0)\n",
            "Requirement already satisfied: joblib>=0.11 in /usr/local/lib/python3.7/dist-packages (from scikit-learn>=1.0.0->yellowbrick) (1.1.0)\n"
          ]
        }
      ]
    },
    {
      "cell_type": "code",
      "metadata": {
        "id": "Yl9Iqwb3DYLC"
      },
      "source": [
        "import numpy as np\n",
        "import matplotlib.pyplot as plt\n",
        "from sklearn.model_selection import train_test_split\n",
        "from sklearn.svm import SVC\n",
        "from sklearn.ensemble import RandomForestClassifier\n",
        "from sklearn.multiclass import OneVsRestClassifier\n",
        "from sklearn.neural_network import MLPClassifier\n",
        "from sklearn.metrics import classification_report, accuracy_score, make_scorer, precision_score, recall_score, f1_score,accuracy_score\n",
        "from sklearn.metrics import roc_curve, auc\n",
        "from sklearn.model_selection import GridSearchCV, cross_validate, KFold\n",
        "from sklearn.model_selection import cross_val_score, StratifiedKFold,  StratifiedShuffleSplit\n",
        "from sklearn.metrics import multilabel_confusion_matrix, precision_recall_fscore_support, roc_auc_score\n",
        "from sklearn.pipeline import make_pipeline\n",
        "from sklearn.preprocessing  import StandardScaler, label_binarize\n",
        "from sklearn import metrics\n",
        "from time import time\n",
        "from scipy import interp\n",
        "from itertools import cycle\n",
        "from sklearn.datasets import load_digits\n",
        "from sklearn.model_selection import learning_curve\n",
        "from sklearn.model_selection import ShuffleSplit\n",
        "from yellowbrick.model_selection import ValidationCurve"
      ],
      "execution_count": null,
      "outputs": []
    },
    {
      "cell_type": "code",
      "metadata": {
        "id": "4vttDQfuD-Vj"
      },
      "source": [
        "def plotAucRoc(y_test,y_score,n_classes = 6):\n",
        "  fpr = dict()\n",
        "  tpr = dict()\n",
        "  roc_auc = dict()\n",
        "  for i in range(n_classes):\n",
        "    fpr[i], tpr[i], _ = roc_curve(y_test[:, i], y_score[:, i])\n",
        "    roc_auc[i] = auc(fpr[i], tpr[i])\n",
        "  fpr[\"micro\"], tpr[\"micro\"], _ = roc_curve(y_test.ravel(), y_score.ravel())\n",
        "  roc_auc[\"micro\"] = auc(fpr[\"micro\"], tpr[\"micro\"])\n",
        "  all_fpr = np.unique(np.concatenate([fpr[i] for i in range(n_classes)]))\n",
        "  mean_tpr = np.zeros_like(all_fpr)\n",
        "  for i in range(n_classes):\n",
        "    mean_tpr += interp(all_fpr, fpr[i], tpr[i])\n",
        "  mean_tpr /= n_classes\n",
        "  fpr[\"macro\"] = all_fpr\n",
        "  tpr[\"macro\"] = mean_tpr\n",
        "  roc_auc[\"macro\"] = auc(fpr[\"macro\"], tpr[\"macro\"])\n",
        "  lw = 2\n",
        "  plt.figure()\n",
        "  #plt.figure(figsize=(3.937, 2.9527))\n",
        "  #plt.plot(fpr[\"micro\"], tpr[\"micro\"],\n",
        "        # label='promedio micro curva ROC (área = {0:0.2f})'\n",
        "             # ''.format(roc_auc[\"micro\"]),\n",
        "        # color='deeppink', linestyle=':', linewidth=4)\n",
        "  plt.plot(fpr[\"macro\"], tpr[\"macro\"],\n",
        "         label='promedio macro curva ROC  (área = {0:0.2f})'\n",
        "               ''.format(roc_auc[\"macro\"]),\n",
        "         color='navy', linestyle=':', linewidth=4)\n",
        "  clases = ['V1','V2','V3','V4']\n",
        "  colors = cycle(['aqua', 'darkorange', 'cornflowerblue','green'])\n",
        "  for i, color in zip(range(n_classes), colors):\n",
        "    plt.plot(fpr[i], tpr[i], color=color, lw=lw,\n",
        "             label='ROC {0} (área = {1:0.2f})'\n",
        "             ''.format(clases[i], roc_auc[i]))\n",
        "  plt.plot([0, 1], [0, 1], 'k--', lw=lw)\n",
        "  plt.xlim([0.0, 1.0])\n",
        "  plt.ylim([0.0, 1.05])\n",
        "  plt.xlabel('Tasa de Falsos Positivos')\n",
        "  plt.ylabel('Tasa de Verdaderos Positivos')\n",
        "  #plt.legend(loc=\"lower right\")\n",
        "  plt.legend(bbox_to_anchor=(1.04,1), loc=\"upper left\")\n",
        "  plt.show()"
      ],
      "execution_count": null,
      "outputs": []
    },
    {
      "cell_type": "code",
      "metadata": {
        "id": "L5f5uyzrE0sL"
      },
      "source": [
        "def Metrics(y_truev,y_scored,n=6):\n",
        "  #print(\"\\nMatriz de Confusión\\n\")\n",
        "  #print(metrics.confusion_matrix(y_true=y_truev,y_pred=y_scored))\n",
        "  #print(\"\\n Reporte de Métricas de Clasificación \\n\")\n",
        "  #print(metrics.classification_report(y_true=y_truev,y_pred=y_scored,digits = n))\n",
        "  #return metrics.confusion_matrix(y_true=y_truev,y_pred=y_scored)\n",
        "  return metrics.classification_report(y_true=y_truev,y_pred=y_scored,digits = n, output_dict= True)\n",
        "  '''\n",
        "  macro_roc_auc_ovo = roc_auc_score(y_true= convert_to_one_hot(y_truev-1, n),y_score = convert_to_one_hot(y_scored-1, n), multi_class=\"ovo\",\n",
        "                                  average=\"macro\")\n",
        "  weighted_roc_auc_ovo = roc_auc_score(y_true= convert_to_one_hot(y_truev-1, n),y_score = convert_to_one_hot(y_scored-1, n), multi_class=\"ovo\",\n",
        "                                     average=\"weighted\")\n",
        "  macro_roc_auc_ovr = roc_auc_score(y_true= convert_to_one_hot(y_truev-1, n),y_score = convert_to_one_hot(y_scored-1, n), multi_class=\"ovr\",\n",
        "                                  average=\"macro\")\n",
        "  weighted_roc_auc_ovr = roc_auc_score(y_true= convert_to_one_hot(y_truev-1, n),y_score = convert_to_one_hot(y_scored-1, n), multi_class=\"ovr\",\n",
        "                                     average=\"weighted\")\n",
        "  print(\"\\n AUC ROC \\n\")\n",
        "  print(\"One-vs-One ROC AUC scores:\\n{:.6f} (macro),\\n{:.6f} \"\n",
        "      \"(weighted)\"\n",
        "      .format(macro_roc_auc_ovo, weighted_roc_auc_ovo))\n",
        "  print(\"One-vs-Rest ROC AUC scores:\\n{:.6f} (macro),\\n{:.6f} \"\n",
        "      \"(weighted)\"\n",
        "      .format(macro_roc_auc_ovr, weighted_roc_auc_ovr))\n",
        "\n",
        "  '''"
      ],
      "execution_count": null,
      "outputs": []
    },
    {
      "cell_type": "code",
      "metadata": {
        "id": "GHRgMnvrpdgZ"
      },
      "source": [
        "def convert_to_one_hot(Y, C):\n",
        "    Y = np.eye(C)[Y.reshape(-1)].T\n",
        "    return Y"
      ],
      "execution_count": null,
      "outputs": []
    },
    {
      "cell_type": "code",
      "metadata": {
        "id": "Y38plhmlp5xJ"
      },
      "source": [
        "scoring = {'prec_weighted': make_scorer(precision_score, average='macro'),\n",
        "          'rec_weighted': make_scorer(recall_score, average='macro'),\n",
        "          'f1_weighted': make_scorer(f1_score, average='macro'),\n",
        "          'acc_weighted': make_scorer(accuracy_score)}"
      ],
      "execution_count": null,
      "outputs": []
    },
    {
      "cell_type": "markdown",
      "metadata": {
        "id": "pOJUpSeD815K"
      },
      "source": [
        "Hiperparámetros SVM"
      ]
    },
    {
      "cell_type": "code",
      "metadata": {
        "id": "53BQBna1d8PP"
      },
      "source": [
        "\n",
        "##param_rangeC = [0.0001, 0.001, 0.01, 0.1, 1.0, 5.0 ,10.0, 15.0, 20.0, 25.0, 30.0, 35.0, 40.0, 45.0, 50.0, 55.0, 60.0, 65.0, 70.0, 75.0, 80.0, 85.0, 90.0, 95.0, 100.0, 1000.0]\n",
        "#param_rangeGammaRBF = [0.0001, 0.001, 0.01, 0.1, 1.0, 5.0 ,10.0, 100.0, 1000.0]\n",
        "\n",
        "\n",
        "param_rangeC = [0.0001, 0.001, 0.01, 0.1, 1.0, 10.0, 100.0]\n",
        "\n",
        "param_rangeGamma = [0.0001, 0.001, 0.01, 0.1, 1.0,10.0, 100.0, 1000.0]\n",
        "\n",
        "param_grid_A = [{'svc__C': param_rangeC,'svc__gamma': param_rangeGamma,'svc__kernel': ['rbf']}]\n",
        "\n",
        "param_grid_B = [{'svc__C': param_rangeC, 'svc__gamma': param_rangeGamma, 'svc__degree':[2] ,'svc__kernel': ['poly']} ]\n",
        "\n",
        "## A) lineal rbf sigmoidal\n",
        "## B) precomputed poly\n",
        "## D) A vs B"
      ],
      "execution_count": null,
      "outputs": []
    },
    {
      "cell_type": "markdown",
      "metadata": {
        "id": "jOsBawyZ85Bd"
      },
      "source": [
        "Hiperparámetros RF"
      ]
    },
    {
      "cell_type": "code",
      "metadata": {
        "id": "Lr_4zbPer8oQ"
      },
      "source": [
        "n_estimators = [50, 100, 150, 200]\n",
        "criterion = ['gini','entropy']\n",
        "max_depth =  [10, 15, 20, 'None']\n",
        "\n",
        "param_grid_rf ={'max_depth': max_depth,\n",
        "                'n_estimators': n_estimators,\n",
        "               'criterion': criterion}"
      ],
      "execution_count": null,
      "outputs": []
    },
    {
      "cell_type": "markdown",
      "metadata": {
        "id": "cTkn7Itd9AmD"
      },
      "source": [
        "Hiperparámetros MLP"
      ]
    },
    {
      "cell_type": "code",
      "metadata": {
        "id": "pH6U0IPMu2JI"
      },
      "source": [
        "activation = ['relu','tanh']\n",
        "hidden_layer_sizes = [(50,) , (100,), (150,), (200,) ]\n",
        "solver = [ 'sgd', 'adam']\n",
        "max_iter = [200,500]\n",
        "alpha = [0.001,0.01, 0.5, 'default']\n",
        "\n",
        "param_grid_mlp_NEW  = {'mlpclassifier__activation': activation,\n",
        "                'mlpclassifier__hidden_layer_sizes': hidden_layer_sizes,\n",
        "               'mlpclassifier__solver': solver,\n",
        "               'mlpclassifier__max_iter': max_iter,\n",
        "               'mlpclassifier__alpha': alpha}"
      ],
      "execution_count": null,
      "outputs": []
    },
    {
      "cell_type": "markdown",
      "metadata": {
        "id": "FmrZS5JLE5Qw"
      },
      "source": [
        "# Cargar conjunto de datos"
      ]
    },
    {
      "cell_type": "markdown",
      "metadata": {
        "id": "fFLvSVUgGHgC"
      },
      "source": [
        "El conjunto de datos esta dividido de la siguiente manera (por columnas)\n",
        "\n",
        "\n",
        "1.   Clase (1-6)\n",
        "2.   Ancho\n",
        "3.   Alto\n",
        "4.   Área\n",
        "5.   Perímetro\n",
        "6.   Redondez\n",
        "7.   Excentricidad\n",
        "8.   Proporción Ancho-Alto\n",
        "9.   Hu $m_1$\n",
        "10.  Hu $m_2$\n",
        "11.  Hu $m_3$\n",
        "12.  Hu $m_4$\n",
        "13.  Hu $m_5$\n",
        "14. Hu $m_6$\n",
        "15. Hu $m_7$\n",
        "\n",
        "Vamos a trabajar con las caracterísiticas del 2 al 8."
      ]
    },
    {
      "cell_type": "code",
      "metadata": {
        "id": "HzOXahdqE1hb"
      },
      "source": [
        "dataSet = np.load('/content/drive/MyDrive/Paper2021/Datasets/Muestras de Color/3muestras/Train_DataSetDepuradoVsAll_HSV_Morfologicos_15K_6clases_V3.npy')"
      ],
      "execution_count": null,
      "outputs": []
    },
    {
      "cell_type": "code",
      "source": [
        "dataSet.shape"
      ],
      "metadata": {
        "colab": {
          "base_uri": "https://localhost:8080/"
        },
        "id": "k110IxgNrVgw",
        "outputId": "dbee0cca-a961-476a-cb13-728b6987509d"
      },
      "execution_count": null,
      "outputs": [
        {
          "output_type": "execute_result",
          "data": {
            "text/plain": [
              "(90000, 19)"
            ]
          },
          "metadata": {},
          "execution_count": 12
        }
      ]
    },
    {
      "cell_type": "markdown",
      "metadata": {
        "id": "cMvTysIlTBap"
      },
      "source": [
        "Exclusivo de A conjunto de datos con los que el modelo no entrenó en CV."
      ]
    },
    {
      "cell_type": "code",
      "metadata": {
        "id": "acgJXU5GTJsV"
      },
      "source": [
        "Test_Remain = np.load('/content/drive/MyDrive/Paper2021/Datasets/Muestras de Color/3muestras/Test_Sobrante_DataSetDepuradoVsAll_HSV_Morfologicos_15K_6clases_V3.npy')"
      ],
      "execution_count": null,
      "outputs": []
    },
    {
      "cell_type": "markdown",
      "metadata": {
        "id": "8Fbpyhb-I4Wj"
      },
      "source": [
        "## Distribución de los datos"
      ]
    },
    {
      "cell_type": "markdown",
      "metadata": {
        "id": "M0C10cFLpKem"
      },
      "source": [
        "### Test Sobrante 100%"
      ]
    },
    {
      "cell_type": "code",
      "metadata": {
        "colab": {
          "base_uri": "https://localhost:8080/",
          "height": 463
        },
        "id": "1WA-7UD1pJiB",
        "outputId": "c565304a-c9fa-4eac-b3a5-455a149a0e7b"
      },
      "source": [
        "n, bins, patches = plt.hist(x=Test_Remain[:,0], bins='auto', color='#0504aa',\n",
        "                            alpha=0.7, rwidth=0.85)\n",
        "plt.grid(axis='y', alpha=0.75)\n",
        "plt.xlabel('Class')\n",
        "plt.ylabel('Frequency')\n",
        "plt.title('Distribución por Clases')\n",
        "plt.show()\n",
        "print(n)"
      ],
      "execution_count": null,
      "outputs": [
        {
          "output_type": "display_data",
          "data": {
            "image/png": "[encoded data removed]",
            "text/plain": [
              "<Figure size 576x396 with 1 Axes>"
            ]
          },
          "metadata": {}
        },
        {
          "output_type": "stream",
          "name": "stdout",
          "text": [
            "[32039.     0.     0.     0.     0.     0.     0.     0. 13599.     0.\n",
            "     0.     0.     0.     0.     0.     0.     0. 24289.     0.     0.\n",
            "     0.     0.     0.     0.     0. 17309.     0.     0.     0.     0.\n",
            "     0.     0.     0.     0. 25395.     0.     0.     0.     0.     0.\n",
            "     0.     0. 17937.]\n"
          ]
        }
      ]
    },
    {
      "cell_type": "markdown",
      "metadata": {
        "id": "zMsCVvv3RpL9"
      },
      "source": [
        "### Clases 100%"
      ]
    },
    {
      "cell_type": "code",
      "metadata": {
        "colab": {
          "base_uri": "https://localhost:8080/",
          "height": 445
        },
        "id": "uj_S1dzvI3Ip",
        "outputId": "6bf556a4-086d-4df4-9d90-4a93d4182cce"
      },
      "source": [
        "n, bins, patches = plt.hist(x=dataSet[:,0], bins='auto', color='#0504aa',\n",
        "                            alpha=0.7, rwidth=0.85)\n",
        "plt.grid(axis='y', alpha=0.75)\n",
        "plt.xlabel('Class')\n",
        "plt.ylabel('Frequency')\n",
        "plt.title('Distribución por Clases')\n",
        "plt.show()\n",
        "print(n)"
      ],
      "execution_count": null,
      "outputs": [
        {
          "output_type": "display_data",
          "data": {
            "image/png": "[encoded data removed]",
            "text/plain": [
              "<Figure size 576x396 with 1 Axes>"
            ]
          },
          "metadata": {}
        },
        {
          "output_type": "stream",
          "name": "stdout",
          "text": [
            "[15000.     0.     0.     0.     0.     0.     0. 15000.     0.     0.\n",
            "     0.     0.     0.     0.     0. 15000.     0.     0.     0.     0.\n",
            "     0.     0. 15000.     0.     0.     0.     0.     0.     0.     0.\n",
            " 15000.     0.     0.     0.     0.     0.     0. 15000.]\n"
          ]
        }
      ]
    },
    {
      "cell_type": "markdown",
      "metadata": {
        "id": "a49qBtM1TJAD"
      },
      "source": [
        "# Creación de conjuntos de datos  **A**"
      ]
    },
    {
      "cell_type": "markdown",
      "metadata": {
        "id": "FZIoiebINi6d"
      },
      "source": [
        "vamos a trabajar con los colores HSV de A y redondez"
      ]
    },
    {
      "cell_type": "code",
      "metadata": {
        "id": "i_NL6tClw14G",
        "colab": {
          "base_uri": "https://localhost:8080/"
        },
        "outputId": "12186235-ef16-4741-ed29-6f22639c70b9"
      },
      "source": [
        "dataSet2 = dataSet[dataSet[:,1] == 1,:]\n",
        "\n",
        "C1 = dataSet2[dataSet2[:,0] == 1,2:5]  ## HSV\n",
        "C1 = np.append( C1, dataSet2[dataSet2[:,0] == 1, 9:11 ], axis = 1 )  ## Redondez Excentricidad\n",
        "YA = dataSet2[dataSet2[:,0] == 1,0]\n",
        "\n",
        "C2 = dataSet2[dataSet2[:,0] == 2,2:5]\n",
        "C2 = np.append( C2, dataSet2[dataSet2[:,0] == 2, 9:11 ], axis = 1 )\n",
        "YA = np.append(YA,dataSet2[dataSet2[:,0] == 2,0])\n",
        "\n",
        "C3 = dataSet2[dataSet2[:,0] == 3,2:5]\n",
        "C3 = np.append( C3, dataSet2[dataSet2[:,0] == 3, 9:11 ], axis = 1 )\n",
        "YA = np.append(YA,dataSet2[dataSet2[:,0] == 3,0])\n",
        "\n",
        "C4 = dataSet2[dataSet2[:,0] == 4,2:5]\n",
        "C4 = np.append( C4, dataSet2[dataSet2[:,0] == 4, 9:11 ], axis = 1 )\n",
        "YA = np.append(YA,dataSet2[dataSet2[:,0] == 4,0])\n",
        "\n",
        "C5 = dataSet2[dataSet2[:,0] == 5,2:5]\n",
        "C5 = np.append( C5, dataSet2[dataSet2[:,0] == 5, 9:11 ], axis = 1 )\n",
        "YA = np.append(YA,dataSet2[dataSet2[:,0] == 5,0])\n",
        "\n",
        "C6 = dataSet2[dataSet2[:,0] == 6,2:5]\n",
        "C6 = np.append( C6, dataSet2[dataSet2[:,0] == 6, 9:11 ], axis = 1 )\n",
        "YA = np.append(YA,dataSet2[dataSet2[:,0] == 6,0])\n",
        "\n",
        "XA = C1\n",
        "XA = np.append(XA,C2, axis = 0)\n",
        "XA = np.append(XA,C3, axis = 0)\n",
        "XA = np.append(XA,C4, axis = 0)\n",
        "XA = np.append(XA,C5, axis = 0)\n",
        "XA = np.append(XA,C6, axis = 0)\n",
        "YA = YA.astype(int)\n",
        "print(XA.shape)\n",
        "print(YA.shape)"
      ],
      "execution_count": null,
      "outputs": [
        {
          "output_type": "stream",
          "name": "stdout",
          "text": [
            "(90000, 5)\n",
            "(90000,)\n"
          ]
        }
      ]
    },
    {
      "cell_type": "code",
      "metadata": {
        "id": "fQLGXF2JAmoj",
        "colab": {
          "base_uri": "https://localhost:8080/"
        },
        "outputId": "2b761b5a-4f4d-4fa8-d83d-e6c02c6ff96d"
      },
      "source": [
        "XA[0]"
      ],
      "execution_count": null,
      "outputs": [
        {
          "output_type": "execute_result",
          "data": {
            "text/plain": [
              "array([0.23511905, 0.68292683, 0.32156863, 2.3587279 , 0.96087674])"
            ]
          },
          "metadata": {},
          "execution_count": 17
        }
      ]
    },
    {
      "cell_type": "code",
      "source": [
        "YA.shape"
      ],
      "metadata": {
        "colab": {
          "base_uri": "https://localhost:8080/"
        },
        "id": "2goAKzfCJk6n",
        "outputId": "1b448bed-6e15-407e-eaa6-c643aca368fc"
      },
      "execution_count": null,
      "outputs": [
        {
          "output_type": "execute_result",
          "data": {
            "text/plain": [
              "(90000,)"
            ]
          },
          "metadata": {},
          "execution_count": 18
        }
      ]
    },
    {
      "cell_type": "code",
      "source": [
        "np.asarray([1, 6]).shape"
      ],
      "metadata": {
        "colab": {
          "base_uri": "https://localhost:8080/"
        },
        "id": "JYcKOiRcJ1S1",
        "outputId": "7336be4a-b563-4cc8-8ba4-d82c0524ad91"
      },
      "execution_count": null,
      "outputs": [
        {
          "output_type": "execute_result",
          "data": {
            "text/plain": [
              "(2,)"
            ]
          },
          "metadata": {},
          "execution_count": 29
        }
      ]
    },
    {
      "cell_type": "markdown",
      "metadata": {
        "id": "mHqMN_-FOxI1"
      },
      "source": [
        "### Datos entrenamiento y test 80-20"
      ]
    },
    {
      "cell_type": "code",
      "metadata": {
        "id": "J1kcMnqlO9KN"
      },
      "source": [
        "x_trainA, x_testA, y_trainA, y_testA = train_test_split(XA,YA, test_size=0.2, stratify = YA , random_state=42)"
      ],
      "execution_count": null,
      "outputs": []
    },
    {
      "cell_type": "code",
      "metadata": {
        "id": "IiD3SCVlPHg-",
        "colab": {
          "base_uri": "https://localhost:8080/",
          "height": 411
        },
        "outputId": "590669a0-0950-44fc-d0d3-c693619b5178"
      },
      "source": [
        "n, bins, patches = plt.hist(x=y_testA, bins='auto', color='#0504aa',\n",
        "                            alpha=0.7, rwidth=0.85)\n",
        "plt.grid(axis='y', alpha=0.75)\n",
        "plt.xlabel('Class')\n",
        "plt.ylabel('Frequency')\n",
        "plt.title('Data Test 50-50 A')\n",
        "plt.show()\n",
        "print(n)"
      ],
      "execution_count": null,
      "outputs": [
        {
          "output_type": "display_data",
          "data": {
            "image/png": "[encoded data removed]",
            "text/plain": [
              "<Figure size 576x396 with 1 Axes>"
            ]
          },
          "metadata": {}
        },
        {
          "output_type": "stream",
          "name": "stdout",
          "text": [
            "[3000.    0.    0.    0. 3000.    0.    0.    0. 3000.    0.    0.    0.\n",
            "    0. 3000.    0.    0.    0. 3000.    0.    0.    0. 3000.]\n"
          ]
        }
      ]
    },
    {
      "cell_type": "code",
      "metadata": {
        "id": "z4OKswHhPNUP",
        "colab": {
          "base_uri": "https://localhost:8080/",
          "height": 445
        },
        "outputId": "4d6af269-e244-4650-d4e8-4909cf1703de"
      },
      "source": [
        "n, bins, patches = plt.hist(x=y_trainA, bins='auto', color='#0504aa',\n",
        "                            alpha=0.7, rwidth=0.85)\n",
        "plt.grid(axis='y', alpha=0.75)\n",
        "plt.xlabel('Class')\n",
        "plt.ylabel('Frequency')\n",
        "plt.title('Data Train 50-50 A')\n",
        "plt.show()\n",
        "print(n)"
      ],
      "execution_count": null,
      "outputs": [
        {
          "output_type": "display_data",
          "data": {
            "image/png": "[encoded data removed]",
            "text/plain": [
              "<Figure size 576x396 with 1 Axes>"
            ]
          },
          "metadata": {}
        },
        {
          "output_type": "stream",
          "name": "stdout",
          "text": [
            "[12000.     0.     0.     0.     0.     0.     0. 12000.     0.     0.\n",
            "     0.     0.     0.     0. 12000.     0.     0.     0.     0.     0.\n",
            "     0. 12000.     0.     0.     0.     0.     0.     0. 12000.     0.\n",
            "     0.     0.     0.     0. 12000.]\n"
          ]
        }
      ]
    },
    {
      "cell_type": "markdown",
      "metadata": {
        "id": "rr2TeJgtPh2-"
      },
      "source": [
        "### Datos 100"
      ]
    },
    {
      "cell_type": "code",
      "metadata": {
        "id": "fT8h7v3tPhLG",
        "colab": {
          "base_uri": "https://localhost:8080/"
        },
        "outputId": "c089173f-1350-4f20-d0e4-79e5d3af847e"
      },
      "source": [
        "XA = np.append(x_trainA,x_testA,axis=0)\n",
        "YA = np.append(y_trainA,y_testA,axis=0)\n",
        "print(YA.shape)\n",
        "print(XA.shape)"
      ],
      "execution_count": null,
      "outputs": [
        {
          "output_type": "stream",
          "name": "stdout",
          "text": [
            "(90000,)\n",
            "(90000, 5)\n"
          ]
        }
      ]
    },
    {
      "cell_type": "markdown",
      "metadata": {
        "id": "ifkL66dsPu_t"
      },
      "source": [
        "### Stratified Splits"
      ]
    },
    {
      "cell_type": "code",
      "metadata": {
        "id": "AVXj0wjuPvV-"
      },
      "source": [
        "cvA = StratifiedShuffleSplit(n_splits=10, random_state=42)\n",
        "crossVA = cvA.split(XA,YA)"
      ],
      "execution_count": null,
      "outputs": []
    },
    {
      "cell_type": "code",
      "metadata": {
        "id": "6pT1lBKQP3dF",
        "colab": {
          "base_uri": "https://localhost:8080/"
        },
        "outputId": "db5b41fe-ed17-478f-c76a-239c833e059f"
      },
      "source": [
        "for train_index, test_index in crossVA:\n",
        "    print(\"TRAIN:\", train_index, \"TEST:\", test_index)"
      ],
      "execution_count": null,
      "outputs": [
        {
          "output_type": "stream",
          "name": "stdout",
          "text": [
            "TRAIN: [22415 65274 62534 ... 58845 85937  8826] TEST: [64323 52378 25667 ...  5183 64464 63996]\n",
            "TRAIN: [ 8435 49362 25136 ... 55886 30889 77329] TEST: [42103 35895 55880 ... 87705  3565 53228]\n",
            "TRAIN: [70222 84007 19649 ... 75934 13726 67737] TEST: [49540 21973 30794 ... 20047 30735 11858]\n",
            "TRAIN: [57250 51355 83488 ... 56031   523 38493] TEST: [ 9390 37210 54776 ... 38674 70438 44379]\n",
            "TRAIN: [86184 55476 77346 ... 79287 15322 35627] TEST: [18496 73385 78371 ... 40438   620 51818]\n",
            "TRAIN: [27592 41751 42146 ... 37361 69700 12006] TEST: [80083 10961 51618 ... 59682 78252 44671]\n",
            "TRAIN: [80390 11564 49055 ... 33399 81175 54694] TEST: [33393 50809 23666 ... 38620 40469 75241]\n",
            "TRAIN: [  533  9784 33328 ...  8633 25431 88422] TEST: [83362 43396 59680 ... 60429 75809 28920]\n",
            "TRAIN: [24553 35807 36013 ... 56583 87614 18040] TEST: [26814 19753 37336 ... 22331 29537 30886]\n",
            "TRAIN: [30407 61973  5135 ... 52509 61793 49926] TEST: [52965 64800 27319 ... 30211  1094 89486]\n"
          ]
        }
      ]
    },
    {
      "cell_type": "code",
      "metadata": {
        "id": "cDxjminMP6Ye"
      },
      "source": [
        "for train_index, test_index in crossVA:\n",
        "    print(\"TRAIN:\", train_index, \"TEST:\", test_index)"
      ],
      "execution_count": null,
      "outputs": []
    },
    {
      "cell_type": "markdown",
      "metadata": {
        "id": "HcUtuj7RtlUp"
      },
      "source": [
        "### Test Sobrante\n"
      ]
    },
    {
      "cell_type": "code",
      "metadata": {
        "id": "5v0k2qP9t3BR",
        "colab": {
          "base_uri": "https://localhost:8080/"
        },
        "outputId": "b55299bc-38bb-4145-a49f-0e652d39eb3b"
      },
      "source": [
        "Test_Remain2 = Test_Remain[Test_Remain[:,1] == 1,:]\n",
        "\n",
        "C1_TS = Test_Remain2[Test_Remain2[:,0] == 1,2:5]\n",
        "C1_TS = np.append( C1_TS, Test_Remain2[Test_Remain2[:,0] == 1, 9:11 ], axis = 1 )  ## Redondez Excentricidad\n",
        "YA_TS = Test_Remain2[Test_Remain2[:,0] == 1,0]\n",
        "\n",
        "C2_TS = Test_Remain2[Test_Remain2[:,0] == 2,2:5]\n",
        "C2_TS = np.append( C2_TS, Test_Remain2[Test_Remain2[:,0] == 2, 9:11 ], axis = 1 )\n",
        "YA_TS = np.append(YA_TS,Test_Remain2[Test_Remain2[:,0] == 2,0])\n",
        "\n",
        "C3_TS = Test_Remain2[Test_Remain2[:,0] == 3,2:5]\n",
        "C3_TS = np.append( C3_TS, Test_Remain2[Test_Remain2[:,0] == 3, 9:11 ], axis = 1 )\n",
        "YA_TS = np.append(YA_TS,Test_Remain2[Test_Remain2[:,0] == 3,0])\n",
        "\n",
        "C4_TS = Test_Remain2[Test_Remain2[:,0] == 4,2:5]\n",
        "C4_TS = np.append( C4_TS, Test_Remain2[Test_Remain2[:,0] == 4, 9:11 ], axis = 1 )\n",
        "YA_TS = np.append(YA_TS,Test_Remain2[Test_Remain2[:,0] == 4,0])\n",
        "\n",
        "C5_TS = Test_Remain2[Test_Remain2[:,0] == 5,2:5]\n",
        "C5_TS = np.append( C5_TS, Test_Remain2[Test_Remain2[:,0] == 5, 9:11 ], axis = 1 )\n",
        "YA_TS = np.append(YA_TS,Test_Remain2[Test_Remain2[:,0] == 5,0])\n",
        "\n",
        "C6_TS = Test_Remain2[Test_Remain2[:,0] == 6,2:5]\n",
        "C6_TS = np.append( C6_TS, Test_Remain2[Test_Remain2[:,0] == 6, 9:11 ], axis = 1 )\n",
        "YA_TS = np.append(YA_TS,Test_Remain2[Test_Remain2[:,0] == 6,0])\n",
        "\n",
        "XA_TS = C1_TS\n",
        "XA_TS = np.append(XA_TS,C2_TS, axis = 0)\n",
        "XA_TS = np.append(XA_TS,C3_TS, axis = 0)\n",
        "XA_TS = np.append(XA_TS,C4_TS, axis = 0)\n",
        "XA_TS = np.append(XA_TS,C5_TS, axis = 0)\n",
        "XA_TS = np.append(XA_TS,C6_TS, axis = 0)\n",
        "YA_TS= YA_TS.astype(int)\n",
        "\n",
        "print(XA_TS.shape)\n",
        "print(YA_TS.shape)"
      ],
      "execution_count": null,
      "outputs": [
        {
          "output_type": "stream",
          "name": "stdout",
          "text": [
            "(130568, 5)\n",
            "(130568,)\n"
          ]
        }
      ]
    },
    {
      "cell_type": "markdown",
      "metadata": {
        "id": "Jr0BEpR_QAyO"
      },
      "source": [
        "# **SVM A**"
      ]
    },
    {
      "cell_type": "markdown",
      "metadata": {
        "id": "s_buiIoTQGY9"
      },
      "source": [
        "### GridSearch  80-20"
      ]
    },
    {
      "cell_type": "code",
      "metadata": {
        "id": "GEE8Jl7_QBRO",
        "colab": {
          "base_uri": "https://localhost:8080/"
        },
        "outputId": "46fc05e3-f12a-4ae4-a8da-d754f23da9e6"
      },
      "source": [
        "###cv=5\n",
        "pipe_svc_1_91_A = make_pipeline(StandardScaler(),SVC(random_state=1))\n",
        "gs_1_91_A = GridSearchCV(estimator=pipe_svc_1_91_A,param_grid=param_grid_A,scoring='accuracy',cv=5,n_jobs=-1)\n",
        "start_time = time()\n",
        "gs_1_91_A = gs_1_91_A.fit(x_trainA, y_trainA)\n",
        "elapsed_time = time() - start_time\n",
        "print(\"Tiempo transcurrido: %0.10f segundos.\" % elapsed_time)\n",
        "print(gs_1_91_A.best_score_)\n",
        "print(gs_1_91_A.best_params_)\n",
        "paramSVCA = gs_1_91_A.best_params_"
      ],
      "execution_count": null,
      "outputs": [
        {
          "output_type": "stream",
          "name": "stdout",
          "text": [
            "Tiempo transcurrido: 35030.1460080147 segundos.\n",
            "0.7826888888888889\n",
            "{'svc__C': 100.0, 'svc__gamma': 1.0, 'svc__kernel': 'rbf'}\n"
          ]
        }
      ]
    },
    {
      "cell_type": "code",
      "metadata": {
        "id": "1_mcVLYrKVxn"
      },
      "source": [
        "paramSVCA = {'svc__C': 100.0, 'svc__gamma': 10.0, 'svc__kernel': 'rbf'}"
      ],
      "execution_count": null,
      "outputs": []
    },
    {
      "cell_type": "code",
      "metadata": {
        "id": "k0OHoGHmQZiU"
      },
      "source": [
        "pred_A_1_Grid_91 = gs_1_91_A.predict(x_testA)\n",
        "Metrics(y_testA.astype(int),pred_A_1_Grid_91.astype(int),n=6)"
      ],
      "execution_count": null,
      "outputs": []
    },
    {
      "cell_type": "markdown",
      "metadata": {
        "id": "0ArHd7s1Qkku"
      },
      "source": [
        "####  Cross_Validate"
      ]
    },
    {
      "cell_type": "code",
      "metadata": {
        "id": "LJJbZCgEQlOG",
        "colab": {
          "base_uri": "https://localhost:8080/"
        },
        "outputId": "9ed68a2a-9dd8-4193-c409-30df168b4a7c"
      },
      "source": [
        "#### cv = 10  100%\n",
        "cvA = StratifiedShuffleSplit(n_splits=10, random_state=42)\n",
        "crossVA = cvA.split(XA,YA)\n",
        "start_time = time()\n",
        "pipe_svc_K_91_A = make_pipeline(StandardScaler(),SVC(kernel=paramSVCA['svc__kernel'],random_state=1,gamma=paramSVCA['svc__gamma'], C = paramSVCA['svc__C']))\n",
        "scores = cross_validate(estimator=pipe_svc_K_91_A,X=XA,y=YA, return_estimator= True ,scoring = scoring ,cv=crossVA,n_jobs=-1)\n",
        "elapsed_time = time() - start_time\n",
        "print(\"Tiempo transcurrido: %0.10f segundos.\" % elapsed_time)\n",
        "#print('CV scores: %s' % scores)\n",
        "print('CV accuracy: %.3f +/- %.3f' % (np.mean(scores['test_acc_weighted']),np.std(scores['test_acc_weighted'])))\n",
        "print('CV f1: %.3f +/- %.3f' % (np.mean(scores['test_f1_weighted']),np.std(scores['test_f1_weighted'])))\n",
        "print('CV prec: %.3f +/- %.3f' % (np.mean(scores['test_prec_weighted']),np.std(scores['test_prec_weighted'])))\n",
        "print('CV rec: %.3f +/- %.3f' % (np.mean(scores['test_rec_weighted']),np.std(scores['test_rec_weighted'])))\n",
        "print(\"\\n\\t\\tAccuracy\\n\")\n",
        "print(scores['test_acc_weighted'])\n",
        "print(\"\\n\\t\\t F1 \\n\")\n",
        "print(scores['test_f1_weighted'])\n",
        "print(\"\\n\\t\\t Prec \\n\")\n",
        "print(scores['test_prec_weighted'])\n",
        "print(\"\\n\\t\\t Rec \\n\")\n",
        "print(scores['test_rec_weighted'])"
      ],
      "execution_count": null,
      "outputs": [
        {
          "output_type": "stream",
          "name": "stdout",
          "text": [
            "Tiempo transcurrido: 4826.1154186726 segundos.\n",
            "CV accuracy: 0.822 +/- 0.004\n",
            "CV f1: 0.823 +/- 0.004\n",
            "CV prec: 0.825 +/- 0.004\n",
            "CV rec: 0.822 +/- 0.004\n",
            "\n",
            "\t\tAccuracy\n",
            "\n",
            "[0.82566667 0.82188889 0.81566667 0.82544444 0.82644444 0.82488889\n",
            " 0.82388889 0.82211111 0.82244444 0.81377778]\n",
            "\n",
            "\t\t F1 \n",
            "\n",
            "[0.82645297 0.82254111 0.81650481 0.82617816 0.8271921  0.82556135\n",
            " 0.82450787 0.82272633 0.82335425 0.81450108]\n",
            "\n",
            "\t\t Prec \n",
            "\n",
            "[0.82808448 0.82429271 0.81820022 0.82785303 0.828736   0.82722565\n",
            " 0.82593655 0.82380812 0.82522565 0.81600361]\n",
            "\n",
            "\t\t Rec \n",
            "\n",
            "[0.82566667 0.82188889 0.81566667 0.82544444 0.82644444 0.82488889\n",
            " 0.82388889 0.82211111 0.82244444 0.81377778]\n"
          ]
        }
      ]
    },
    {
      "cell_type": "markdown",
      "metadata": {
        "id": "mFbQGW79x4lf"
      },
      "source": [
        "Sobre el conjunto de datos faltante"
      ]
    },
    {
      "cell_type": "code",
      "metadata": {
        "id": "4QwAIE2Dys2Q"
      },
      "source": [
        "modelsSVM_A = scores['estimator']\n",
        "\n",
        "for i in range(len(modelsSVM_A)):\n",
        "  pred_model_SVM_CV_A =  modelsSVM_A[i].predict(XA_TS)\n",
        "  print(\"\\t\\t\\t K=\"+str(i))\n",
        "  Metrics(YA_TS.astype(int),pred_model_SVM_CV_A.astype(int),6)\n",
        "  print(\"\\n\\n\")"
      ],
      "execution_count": null,
      "outputs": []
    },
    {
      "cell_type": "markdown",
      "source": [
        "Sobre las aprticiones reales de Cv"
      ],
      "metadata": {
        "id": "TagIQ_7KxEFF"
      }
    },
    {
      "cell_type": "code",
      "source": [
        "i=0\n",
        "cvA = StratifiedShuffleSplit(n_splits=10, random_state=42)\n",
        "crossVA = cvA.split(XA,YA)\n",
        "acumulado = 0\n",
        "for train_index, test_index in crossVA:\n",
        "  model_91_A = make_pipeline(StandardScaler(), SVC(kernel=paramSVCA['svc__kernel'],random_state=1,gamma=paramSVCA['svc__gamma'], C = paramSVCA['svc__C']))\n",
        "  model_91_A.fit(XA[train_index],YA[train_index])\n",
        "  pred_model_91_A =  model_91_A.predict(XA[test_index])\n",
        "  print(\"\\t\\t\\t K=\"+str(i))\n",
        "  Metrics(YA[test_index].astype(int),pred_model_91_A.astype(int),6)\n",
        "  suma = metrics.confusion_matrix(y_true=YA[test_index].astype(int),y_pred=pred_model_91_A.astype(int))\n",
        "  acumulado = acumulado + suma\n",
        "  i+=1\n",
        "  print(acumulado)"
      ],
      "metadata": {
        "id": "mSLQ45ylxIhN",
        "colab": {
          "base_uri": "https://localhost:8080/"
        },
        "outputId": "dea9e5c4-721a-49d5-e5f2-a762306b3a4d"
      },
      "execution_count": null,
      "outputs": [
        {
          "output_type": "stream",
          "name": "stdout",
          "text": [
            "\t\t\t K=0\n",
            "[[1313   47   37   49   27   27]\n",
            " [  15 1232   12   76   86   79]\n",
            " [  40   12 1296   50   30   72]\n",
            " [  24  124   38 1193   73   48]\n",
            " [  10   99   27  102 1198   64]\n",
            " [  12  110   53   80   46 1199]]\n",
            "\t\t\t K=1\n",
            "[[2639   95   77   94   45   50]\n",
            " [  29 2479   24  144  161  163]\n",
            " [  82   21 2592   99   57  149]\n",
            " [  49  273   62 2377  151   88]\n",
            " [  24  201   56  226 2354  139]\n",
            " [  36  209   97  158  113 2387]]\n",
            "\t\t\t K=2\n",
            "[[3950  140  124  150   68   68]\n",
            " [  43 3689   42  236  234  256]\n",
            " [ 114   31 3891  146   82  236]\n",
            " [  64  397  104 3556  231  148]\n",
            " [  32  307   72  340 3533  216]\n",
            " [  54  311  169  239  177 3550]]\n",
            "\t\t\t K=3\n",
            "[[5262  184  164  203   90   97]\n",
            " [  57 4928   61  318  297  339]\n",
            " [ 149   37 5178  194  125  317]\n",
            " [  79  512  136 4770  306  197]\n",
            " [  47  418   94  436 4710  295]\n",
            " [  72  401  229  317  231 4750]]\n",
            "\t\t\t K=4\n",
            "[[6583  226  206  248  110  127]\n",
            " [  78 6142   81  409  369  421]\n",
            " [ 187   49 6477  241  155  391]\n",
            " [  92  638  171 5978  383  238]\n",
            " [  56  516  113  557 5890  368]\n",
            " [  89  490  283  389  283 5966]]\n",
            "\t\t\t K=5\n",
            "[[7903  275  243  296  130  153]\n",
            " [  86 7402   94  479  446  493]\n",
            " [ 228   70 7764  290  183  465]\n",
            " [ 105  772  210 7162  462  289]\n",
            " [  69  602  138  672 7091  428]\n",
            " [ 108  580  350  475  349 7138]]\n",
            "\t\t\t K=6\n",
            "[[9228  314  282  346  154  176]\n",
            " [ 101 8645  107  549  516  582]\n",
            " [ 267   89 9066  336  207  535]\n",
            " [ 123  904  248 8331  557  337]\n",
            " [  87  711  161  775 8268  498]\n",
            " [ 129  678  396  553  407 8337]]\n",
            "\t\t\t K=7\n",
            "[[10556   354   323   390   179   198]\n",
            " [  110  9866   120   635   594   675]\n",
            " [  317   103 10362   378   242   598]\n",
            " [  130  1020   284  9521   656   389]\n",
            " [  101   804   179   885  9462   569]\n",
            " [  146   764   466   635   482  9507]]\n",
            "\t\t\t K=8\n",
            "[[11858   411   363   438   204   226]\n",
            " [  119 11091   133   717   677   763]\n",
            " [  356   112 11661   425   272   674]\n",
            " [  145  1158   315 10702   747   433]\n",
            " [  112   910   208   988 10648   634]\n",
            " [  158   851   524   715   536 10716]]\n",
            "\t\t\t K=9\n",
            "[[13160   456   411   483   236   254]\n",
            " [  137 12300   148   796   751   868]\n",
            " [  399   124 12944   475   297   761]\n",
            " [  165  1299   359 11862   834   481]\n",
            " [  128  1019   229  1097 11829   698]\n",
            " [  172   952   600   795   576 11905]]\n"
          ]
        }
      ]
    },
    {
      "cell_type": "markdown",
      "metadata": {
        "id": "mOvndiJxRDt9"
      },
      "source": [
        "#### Modelo"
      ]
    },
    {
      "cell_type": "code",
      "metadata": {
        "id": "p5N2WBiaREN1"
      },
      "source": [
        "model_91_A = make_pipeline(StandardScaler(), SVC(kernel=paramSVCA['svc__kernel'],random_state=1,gamma=paramSVCA['svc__gamma'], C = paramSVCA['svc__C']))\n",
        "model_91_A.fit(x_trainA, y_trainA)\n",
        "pred_model_91_A = model_91_A.predict(x_testA)\n",
        "Metrics(y_testA.astype(int),pred_model_91_A.astype(int),n=6)"
      ],
      "execution_count": null,
      "outputs": []
    },
    {
      "cell_type": "markdown",
      "metadata": {
        "id": "Y2zc5HF9Rho0"
      },
      "source": [
        "#### Modelo + AUC ROC"
      ]
    },
    {
      "cell_type": "code",
      "metadata": {
        "id": "5ITy72R0RgfV"
      },
      "source": [
        "model_A_91 = make_pipeline(StandardScaler(), SVC(kernel=paramSVCA['svc__kernel'],random_state=1,gamma=paramSVCA['svc__gamma'], C = paramSVCA['svc__C']))\n",
        "classifier = OneVsRestClassifier(model_A_91, n_jobs=-1)\n",
        "y_score = classifier.fit(x_trainA, y_train_AUCROC_A).decision_function(x_testA)\n",
        "plotAucRoc(y_test_AUCROC_A,y_score,6)"
      ],
      "execution_count": null,
      "outputs": []
    },
    {
      "cell_type": "markdown",
      "metadata": {
        "id": "wlUMt4iki34m"
      },
      "source": [
        "#### Modelo Manual"
      ]
    },
    {
      "cell_type": "code",
      "metadata": {
        "id": "UMEydtWsi-YX"
      },
      "source": [
        "kernel_A = 'rbf'\n",
        "gamma_A = 10.0\n",
        "C_A = 10.0"
      ],
      "execution_count": null,
      "outputs": []
    },
    {
      "cell_type": "code",
      "metadata": {
        "id": "KNzj0oArjAHj"
      },
      "source": [
        "model_A_91 = make_pipeline(StandardScaler(), SVC(kernel=kernel_A,random_state=1,gamma=gamma_A, C = C_A))\n",
        "classifier = OneVsRestClassifier(model_A_91, n_jobs=-1)\n",
        "start_time = time()\n",
        "y_score = classifier.fit(x_trainA, y_train_AUCROC_A).decision_function(x_testA)\n",
        "elapsed_time = time() - start_time\n",
        "print(\"Tiempo transcurrido: %0.10f segundos.\" % elapsed_time)\n",
        "plotAucRoc(y_test_AUCROC_A,y_score,4)"
      ],
      "execution_count": null,
      "outputs": []
    },
    {
      "cell_type": "code",
      "metadata": {
        "id": "FeGRJj2J2_FE"
      },
      "source": [
        "model_91_A = make_pipeline(StandardScaler(), SVC(kernel=kernel_A,random_state=1,gamma=gamma_A, C = C_A))\n",
        "classifier = OneVsRestClassifier(model_91_A, n_jobs=-1)\n",
        "start_time = time()\n",
        "classifier.fit(x_trainA, y_trainA)\n",
        "elapsed_time = time() - start_time\n",
        "pred_model_91_A = classifier.predict(x_testA)\n",
        "Metrics(y_testA.astype(int),pred_model_91_A.astype(int),n=4)"
      ],
      "execution_count": null,
      "outputs": []
    },
    {
      "cell_type": "markdown",
      "metadata": {
        "id": "Eum-mGybSNr9"
      },
      "source": [
        "# **RANDOM FOREST A**"
      ]
    },
    {
      "cell_type": "markdown",
      "metadata": {
        "id": "dtIJZtOOSRVF"
      },
      "source": [
        "### GridSearch 80-20"
      ]
    },
    {
      "cell_type": "code",
      "source": [
        "RF_91_A.get_params().keys()"
      ],
      "metadata": {
        "colab": {
          "base_uri": "https://localhost:8080/"
        },
        "id": "PxKR4zgCxzF_",
        "outputId": "6431bb5d-cf57-4905-9be0-46b76d8266c1"
      },
      "execution_count": null,
      "outputs": [
        {
          "output_type": "execute_result",
          "data": {
            "text/plain": [
              "dict_keys(['memory', 'steps', 'verbose', 'standardscaler', 'randomforestclassifier', 'standardscaler__copy', 'standardscaler__with_mean', 'standardscaler__with_std', 'randomforestclassifier__bootstrap', 'randomforestclassifier__ccp_alpha', 'randomforestclassifier__class_weight', 'randomforestclassifier__criterion', 'randomforestclassifier__max_depth', 'randomforestclassifier__max_features', 'randomforestclassifier__max_leaf_nodes', 'randomforestclassifier__max_samples', 'randomforestclassifier__min_impurity_decrease', 'randomforestclassifier__min_samples_leaf', 'randomforestclassifier__min_samples_split', 'randomforestclassifier__min_weight_fraction_leaf', 'randomforestclassifier__n_estimators', 'randomforestclassifier__n_jobs', 'randomforestclassifier__oob_score', 'randomforestclassifier__random_state', 'randomforestclassifier__verbose', 'randomforestclassifier__warm_start'])"
            ]
          },
          "metadata": {},
          "execution_count": 32
        }
      ]
    },
    {
      "cell_type": "code",
      "source": [
        "## For pipeline\n",
        "\n",
        "n_estimators = [50, 100, 150, 200]\n",
        "criterion = ['gini','entropy']\n",
        "max_depth =  [10, 15, 20, 'None']\n",
        "\n",
        "param_grid_rf ={'randomforestclassifier__max_depth': max_depth,\n",
        "                'randomforestclassifier__n_estimators': n_estimators,\n",
        "               'randomforestclassifier__criterion': criterion}"
      ],
      "metadata": {
        "id": "IWKsdhk4x9em"
      },
      "execution_count": null,
      "outputs": []
    },
    {
      "cell_type": "code",
      "metadata": {
        "id": "kp9lOIDRSOSN",
        "colab": {
          "base_uri": "https://localhost:8080/"
        },
        "outputId": "dc8518f2-50fd-488f-f5d4-bf4965bd9b7d"
      },
      "source": [
        "RF_91_A =  make_pipeline( StandardScaler(), RandomForestClassifier(random_state = 42) )\n",
        "\n",
        "gs_RF_91_A = GridSearchCV(estimator=RF_91_A,param_grid=param_grid_rf,scoring='accuracy',cv=5,n_jobs=-1)\n",
        "start_time = time()\n",
        "gs_RF_91_A = gs_RF_91_A.fit(x_trainA, y_trainA)\n",
        "elapsed_time = time() - start_time\n",
        "print(\"Tiempo transcurrido: %0.10f segundos.\" % elapsed_time)\n",
        "print(gs_RF_91_A.best_score_)\n",
        "print(gs_RF_91_A.best_params_)\n",
        "paramRFA = gs_RF_91_A.best_params_"
      ],
      "execution_count": null,
      "outputs": [
        {
          "output_type": "stream",
          "name": "stderr",
          "text": [
            "/usr/local/lib/python3.7/dist-packages/sklearn/model_selection/_validation.py:372: FitFailedWarning: \n",
            "40 fits failed out of a total of 160.\n",
            "The score on these train-test partitions for these parameters will be set to nan.\n",
            "If these failures are not expected, you can try to debug them by setting error_score='raise'.\n",
            "\n",
            "Below are more details about the failures:\n",
            "--------------------------------------------------------------------------------\n",
            "40 fits failed with the following error:\n",
            "Traceback (most recent call last):\n",
            "  File \"/usr/local/lib/python3.7/dist-packages/sklearn/model_selection/_validation.py\", line 680, in _fit_and_score\n",
            "    estimator.fit(X_train, y_train, **fit_params)\n",
            "  File \"/usr/local/lib/python3.7/dist-packages/sklearn/pipeline.py\", line 394, in fit\n",
            "    self._final_estimator.fit(Xt, y, **fit_params_last_step)\n",
            "  File \"/usr/local/lib/python3.7/dist-packages/sklearn/ensemble/_forest.py\", line 467, in fit\n",
            "    for i, t in enumerate(trees)\n",
            "  File \"/usr/local/lib/python3.7/dist-packages/joblib/parallel.py\", line 1043, in __call__\n",
            "    if self.dispatch_one_batch(iterator):\n",
            "  File \"/usr/local/lib/python3.7/dist-packages/joblib/parallel.py\", line 861, in dispatch_one_batch\n",
            "    self._dispatch(tasks)\n",
            "  File \"/usr/local/lib/python3.7/dist-packages/joblib/parallel.py\", line 779, in _dispatch\n",
            "    job = self._backend.apply_async(batch, callback=cb)\n",
            "  File \"/usr/local/lib/python3.7/dist-packages/joblib/_parallel_backends.py\", line 208, in apply_async\n",
            "    result = ImmediateResult(func)\n",
            "  File \"/usr/local/lib/python3.7/dist-packages/joblib/_parallel_backends.py\", line 572, in __init__\n",
            "    self.results = batch()\n",
            "  File \"/usr/local/lib/python3.7/dist-packages/joblib/parallel.py\", line 263, in __call__\n",
            "    for func, args, kwargs in self.items]\n",
            "  File \"/usr/local/lib/python3.7/dist-packages/joblib/parallel.py\", line 263, in <listcomp>\n",
            "    for func, args, kwargs in self.items]\n",
            "  File \"/usr/local/lib/python3.7/dist-packages/sklearn/utils/fixes.py\", line 216, in __call__\n",
            "    return self.function(*args, **kwargs)\n",
            "  File \"/usr/local/lib/python3.7/dist-packages/sklearn/ensemble/_forest.py\", line 185, in _parallel_build_trees\n",
            "    tree.fit(X, y, sample_weight=curr_sample_weight, check_input=False)\n",
            "  File \"/usr/local/lib/python3.7/dist-packages/sklearn/tree/_classes.py\", line 942, in fit\n",
            "    X_idx_sorted=X_idx_sorted,\n",
            "  File \"/usr/local/lib/python3.7/dist-packages/sklearn/tree/_classes.py\", line 305, in fit\n",
            "    if max_depth <= 0:\n",
            "TypeError: '<=' not supported between instances of 'str' and 'int'\n",
            "\n",
            "  warnings.warn(some_fits_failed_message, FitFailedWarning)\n",
            "/usr/local/lib/python3.7/dist-packages/sklearn/model_selection/_search.py:972: UserWarning: One or more of the test scores are non-finite: [0.85031944 0.85548611 0.85576389 0.85765278 0.99097222 0.99154167\n",
            " 0.99216667 0.99254167 0.99893056 0.99888889 0.99897222 0.999\n",
            "        nan        nan        nan        nan 0.89201389 0.89106944\n",
            " 0.89208333 0.89276389 0.99723611 0.99772222 0.99825    0.99825\n",
            " 0.99909722 0.99927778 0.99931944 0.99933333        nan        nan\n",
            "        nan        nan]\n",
            "  category=UserWarning,\n"
          ]
        },
        {
          "output_type": "stream",
          "name": "stdout",
          "text": [
            "Tiempo transcurrido: 718.4422216415 segundos.\n",
            "0.9993333333333334\n",
            "{'randomforestclassifier__criterion': 'entropy', 'randomforestclassifier__max_depth': 20, 'randomforestclassifier__n_estimators': 200}\n"
          ]
        }
      ]
    },
    {
      "cell_type": "code",
      "source": [
        "#Tiempo transcurrido: 833.1541941166 segundos.  Sin Escalado\n",
        "#0.9986\n",
        "#{'criterion': 'entropy', 'max_depth': 20, 'n_estimators': 150}"
      ],
      "metadata": {
        "id": "Xj9W3cxbb_6p"
      },
      "execution_count": null,
      "outputs": []
    },
    {
      "cell_type": "code",
      "source": [
        "#Tiempo transcurrido: 718.4422216415 segundos.  CON ESCALADO (pipeline)\n",
        "#0.9993333333333334\n",
        "#{'randomforestclassifier__criterion': 'entropy', 'randomforestclassifier__max_depth': 20, 'randomforestclassifier__n_estimators': 200}"
      ],
      "metadata": {
        "id": "CUCGMHM625-z"
      },
      "execution_count": null,
      "outputs": []
    },
    {
      "cell_type": "code",
      "metadata": {
        "id": "6YDu-b6QSlBd"
      },
      "source": [
        "pred_RF_Grid_91_A = gs_RF_91_A.predict(x_testA)\n",
        "Metrics(y_testA.astype(int),pred_RF_Grid_91_A.astype(int),6)"
      ],
      "execution_count": null,
      "outputs": []
    },
    {
      "cell_type": "code",
      "source": [
        "## hiperparamémetros con escalado\n",
        "paramRFA = {'randomforestclassifier__criterion': 'entropy', 'randomforestclassifier__max_depth': 20, 'randomforestclassifier__n_estimators': 200}"
      ],
      "metadata": {
        "id": "0AknRXDa2ySb"
      },
      "execution_count": null,
      "outputs": []
    },
    {
      "cell_type": "markdown",
      "metadata": {
        "id": "CpHNazg9S3ww"
      },
      "source": [
        "####  Cross_Validate"
      ]
    },
    {
      "cell_type": "code",
      "metadata": {
        "id": "8FAO3UOjS4SW",
        "colab": {
          "base_uri": "https://localhost:8080/"
        },
        "outputId": "7ee9bc98-f580-477b-c91b-aa91797ed25d"
      },
      "source": [
        "#### cv = 10  100%\n",
        "cvA = StratifiedShuffleSplit(n_splits=10, random_state=42)\n",
        "crossVA = cvA.split(XA,YA)\n",
        "# sin escalado\n",
        "# kf_RF_91_A = RandomForestClassifier(criterion=paramRFA['criterion'],max_depth= paramRFA['max_depth'], n_estimators = paramRFA['n_estimators'] ,random_state = 42)\n",
        "# con escalado\n",
        "kf_RF_91_A =  make_pipeline( StandardScaler(), RandomForestClassifier(random_state = 42) )\n",
        "start_time = time()\n",
        "scores = cross_validate(estimator=kf_RF_91_A ,X=XA,y=YA, scoring = scoring, return_estimator= True ,cv = crossVA,n_jobs=-1)\n",
        "elapsed_time = time() - start_time\n",
        "print(\"Tiempo transcurrido: %0.10f segundos.\" % elapsed_time)\n",
        "#print('CV scores: %s' % scores)\n",
        "print('CV accuracy: %.6f +/- %.6f' % (np.mean(scores['test_acc_weighted']),np.std(scores['test_acc_weighted'])))\n",
        "print('CV f1: %.6f +/- %.6f' % (np.mean(scores['test_f1_weighted']),np.std(scores['test_f1_weighted'])))\n",
        "print('CV prec: %.6f +/- %.6f' % (np.mean(scores['test_prec_weighted']),np.std(scores['test_prec_weighted'])))\n",
        "print('CV rec: %.6f +/- %.6f' % (np.mean(scores['test_rec_weighted']),np.std(scores['test_rec_weighted'])))\n",
        "print(\"\\n\\t\\tAccuracy\\n\")\n",
        "print(scores['test_acc_weighted'])\n",
        "print(\"\\n\\t\\t F1 \\n\")\n",
        "print(scores['test_f1_weighted'])\n",
        "print(\"\\n\\t\\t Prec \\n\")\n",
        "print(scores['test_prec_weighted'])\n",
        "print(\"\\n\\t\\t Rec \\n\")\n",
        "print(scores['test_rec_weighted'])\n"
      ],
      "execution_count": null,
      "outputs": [
        {
          "output_type": "stream",
          "name": "stdout",
          "text": [
            "Tiempo transcurrido: 64.9694068432 segundos.\n",
            "CV accuracy: 0.999578 +/- 0.000221\n",
            "CV f1: 0.999578 +/- 0.000221\n",
            "CV prec: 0.999578 +/- 0.000221\n",
            "CV rec: 0.999578 +/- 0.000221\n",
            "\n",
            "\t\tAccuracy\n",
            "\n",
            "[0.99933333 0.99922222 0.99955556 1.         0.99966667 0.99988889\n",
            " 0.99955556 0.99955556 0.99944444 0.99955556]\n",
            "\n",
            "\t\t F1 \n",
            "\n",
            "[0.99933337 0.99922215 0.99955556 1.         0.99966667 0.99988889\n",
            " 0.99955556 0.99955559 0.9994443  0.99955552]\n",
            "\n",
            "\t\t Prec \n",
            "\n",
            "[0.99933393 0.99922244 0.99955629 1.         0.99966674 0.99988896\n",
            " 0.99955585 0.99955615 0.99944511 0.999556  ]\n",
            "\n",
            "\t\t Rec \n",
            "\n",
            "[0.99933333 0.99922222 0.99955556 1.         0.99966667 0.99988889\n",
            " 0.99955556 0.99955556 0.99944444 0.99955556]\n"
          ]
        }
      ]
    },
    {
      "cell_type": "markdown",
      "metadata": {
        "id": "lIsRL4YPSjXB"
      },
      "source": [
        "Sobre el conjunto de datos faltante"
      ]
    },
    {
      "cell_type": "code",
      "metadata": {
        "id": "sUFNJYsUPaWY",
        "colab": {
          "base_uri": "https://localhost:8080/"
        },
        "outputId": "4b4df7a4-986c-4574-db26-b09355428924"
      },
      "source": [
        "modelsRF_A = scores['estimator']\n",
        "\n",
        "for i in range(len(modelsRF_A)):\n",
        "  pred_model_rf_CV_A =  modelsRF_A[i].predict(XA_TS)\n",
        "  print(\"\\t\\t\\t K=\"+str(i))\n",
        "  Metrics(YA_TS.astype(int),pred_model_rf_CV_A.astype(int),6)\n",
        "  print(\"\\n\\n\")"
      ],
      "execution_count": null,
      "outputs": [
        {
          "output_type": "stream",
          "name": "stdout",
          "text": [
            "\t\t\t K=0\n",
            "\n",
            "\n",
            "\n",
            "\t\t\t K=1\n",
            "\n",
            "\n",
            "\n",
            "\t\t\t K=2\n",
            "\n",
            "\n",
            "\n",
            "\t\t\t K=3\n",
            "\n",
            "\n",
            "\n",
            "\t\t\t K=4\n",
            "\n",
            "\n",
            "\n",
            "\t\t\t K=5\n",
            "\n",
            "\n",
            "\n",
            "\t\t\t K=6\n",
            "\n",
            "\n",
            "\n",
            "\t\t\t K=7\n",
            "\n",
            "\n",
            "\n",
            "\t\t\t K=8\n",
            "\n",
            "\n",
            "\n",
            "\t\t\t K=9\n",
            "\n",
            "\n",
            "\n"
          ]
        }
      ]
    },
    {
      "cell_type": "markdown",
      "metadata": {
        "id": "-zywUxNYxgkw"
      },
      "source": [
        "Sobre las particiones Reales de CV"
      ]
    },
    {
      "cell_type": "code",
      "metadata": {
        "colab": {
          "base_uri": "https://localhost:8080/"
        },
        "id": "BCuVZsskxgRP",
        "outputId": "6ac8a64e-a820-4031-a3a3-6a8a35c6de67"
      },
      "source": [
        "i=0\n",
        "cvA = StratifiedShuffleSplit(n_splits=10, random_state=42)\n",
        "crossVA = cvA.split(XA,YA)\n",
        "for train_index, test_index in crossVA:\n",
        "  Modelo_rf_91_A = RandomForestClassifier(criterion=paramRFA['criterion'],max_depth= paramRFA['max_depth'], n_estimators = paramRFA['n_estimators'] ,random_state = 42)\n",
        "  Modelo_rf_91_A.fit(XA[train_index],YA[train_index])\n",
        "  pred_model_rf_91_A =  Modelo_rf_91_A.predict(XA[test_index])\n",
        "  print(\"\\t\\t\\t K=\"+str(i))\n",
        "  Metrics(YA[test_index].astype(int),pred_model_rf_91_A.astype(int),6)\n",
        "  i+=1\n",
        "  print(\"\\n\\n\")"
      ],
      "execution_count": null,
      "outputs": [
        {
          "output_type": "stream",
          "name": "stdout",
          "text": [
            "\t\t\t K=0\n",
            "\n",
            "\n",
            "\n",
            "\t\t\t K=1\n",
            "\n",
            "\n",
            "\n",
            "\t\t\t K=2\n",
            "\n",
            "\n",
            "\n",
            "\t\t\t K=3\n",
            "\n",
            "\n",
            "\n",
            "\t\t\t K=4\n",
            "\n",
            "\n",
            "\n",
            "\t\t\t K=5\n",
            "\n",
            "\n",
            "\n",
            "\t\t\t K=6\n",
            "\n",
            "\n",
            "\n",
            "\t\t\t K=7\n",
            "\n",
            "\n",
            "\n",
            "\t\t\t K=8\n",
            "\n",
            "\n",
            "\n",
            "\t\t\t K=9\n",
            "\n",
            "\n",
            "\n"
          ]
        }
      ]
    },
    {
      "cell_type": "code",
      "metadata": {
        "colab": {
          "base_uri": "https://localhost:8080/"
        },
        "id": "UdHRHj38-yIG",
        "outputId": "bd80b95a-ab9d-46c8-f81b-5e1ab545eefc"
      },
      "source": [
        "i=0\n",
        "cvA = StratifiedShuffleSplit(n_splits=10, random_state=42)\n",
        "crossVA = cvA.split(XA,YA)\n",
        "acumulado = 0\n",
        "for train_index, test_index in crossVA:\n",
        "  #Modelo_rf_91_A = RandomForestClassifier(criterion=paramRFA['criterion'],max_depth= paramRFA['max_depth'], n_estimators = paramRFA['n_estimators'] ,random_state = 42)\n",
        "  Modelo_rf_91_A = RandomForestClassifier(criterion='entropy',max_depth= 20, n_estimators = 150 ,random_state = 42)\n",
        "  Modelo_rf_91_A.fit(XA[train_index],YA[train_index])\n",
        "  pred_model_rf_91_A =  Modelo_rf_91_A.predict(XA[test_index])\n",
        "  print(\"\\t\\t\\t K=\"+str(i))\n",
        "  #suma = Metrics(YA[test_index].astype(int),pred_model_rf_91_A.astype(int),6)\n",
        "  suma = metrics.confusion_matrix(y_true=YA[test_index].astype(int),y_pred=pred_model_rf_91_A.astype(int))\n",
        "  acumulado = acumulado + suma\n",
        "  i+=1\n",
        "  print(\"\\n\\n\")\n",
        "print(acumulado)"
      ],
      "execution_count": null,
      "outputs": [
        {
          "output_type": "stream",
          "name": "stdout",
          "text": [
            "\t\t\t K=0\n",
            "\n",
            "\n",
            "\n",
            "\t\t\t K=1\n",
            "\n",
            "\n",
            "\n",
            "\t\t\t K=2\n",
            "\n",
            "\n",
            "\n",
            "\t\t\t K=3\n",
            "\n",
            "\n",
            "\n",
            "\t\t\t K=4\n",
            "\n",
            "\n",
            "\n",
            "\t\t\t K=5\n",
            "\n",
            "\n",
            "\n",
            "\t\t\t K=6\n",
            "\n",
            "\n",
            "\n",
            "\t\t\t K=7\n",
            "\n",
            "\n",
            "\n",
            "\t\t\t K=8\n",
            "\n",
            "\n",
            "\n",
            "\t\t\t K=9\n",
            "\n",
            "\n",
            "\n",
            "[[14992     0     0     6     2     0]\n",
            " [    0 14998     0     0     1     1]\n",
            " [    0     0 14999     1     0     0]\n",
            " [    2     3     1 14991     2     1]\n",
            " [    1     0     1     0 14998     0]\n",
            " [    1     2     7     2     1 14987]]\n"
          ]
        }
      ]
    },
    {
      "cell_type": "code",
      "metadata": {
        "colab": {
          "base_uri": "https://localhost:8080/"
        },
        "id": "2JaXOrYTHlHG",
        "outputId": "52d85cae-10ab-4902-f4f1-ea72ac86c2af"
      },
      "source": [
        "i=0\n",
        "cvA = StratifiedShuffleSplit(n_splits=10, random_state=42)\n",
        "crossVA = cvA.split(XA,YA)\n",
        "acumulado1 = 0\n",
        "acumulado2 = 0\n",
        "acumulado3 = 0\n",
        "acumulado4 = 0\n",
        "acumulado5 = 0\n",
        "acumulado6 = 0\n",
        "for train_index, test_index in crossVA:\n",
        "  Modelo_rf_91_A = RandomForestClassifier(criterion=paramRFA['criterion'],max_depth= paramRFA['max_depth'], n_estimators = paramRFA['n_estimators'] ,random_state = 42)\n",
        "  Modelo_rf_91_A.fit(XA[train_index],YA[train_index])\n",
        "  pred_model_rf_91_A =  Modelo_rf_91_A.predict(XA[test_index])\n",
        "  print(\"\\t\\t\\t K=\"+str(i))\n",
        "  #suma = Metrics(YA[test_index].astype(int),pred_model_rf_91_A.astype(int),6)\n",
        "  dic = Metrics(YA[test_index].astype(int),pred_model_rf_91_A.astype(int),6)\n",
        "  acumulado1 = dic['1']['f1-score'] + acumulado1\n",
        "  acumulado2 = dic['2']['f1-score'] + acumulado2\n",
        "  acumulado3 = dic['3']['f1-score'] + acumulado3\n",
        "  acumulado4 = dic['4']['f1-score'] + acumulado4\n",
        "  acumulado5 = dic['5']['f1-score'] + acumulado5\n",
        "  acumulado6 = dic['6']['f1-score'] + acumulado6\n",
        "  i+=1\n",
        "  print(\"\\n\\n\")\n"
      ],
      "execution_count": null,
      "outputs": [
        {
          "output_type": "stream",
          "name": "stdout",
          "text": [
            "\t\t\t K=0\n",
            "\n",
            "\n",
            "\n",
            "\t\t\t K=1\n",
            "\n",
            "\n",
            "\n",
            "\t\t\t K=2\n",
            "\n",
            "\n",
            "\n",
            "\t\t\t K=3\n",
            "\n",
            "\n",
            "\n",
            "\t\t\t K=4\n",
            "\n",
            "\n",
            "\n",
            "\t\t\t K=5\n",
            "\n",
            "\n",
            "\n",
            "\t\t\t K=6\n",
            "\n",
            "\n",
            "\n",
            "\t\t\t K=7\n",
            "\n",
            "\n",
            "\n",
            "\t\t\t K=8\n",
            "\n",
            "\n",
            "\n",
            "\t\t\t K=9\n",
            "\n",
            "\n",
            "\n"
          ]
        }
      ]
    },
    {
      "cell_type": "code",
      "metadata": {
        "colab": {
          "base_uri": "https://localhost:8080/"
        },
        "id": "P0KqFUWdLK59",
        "outputId": "9b5a3ff3-9e6f-446b-be8e-cad5604d0aa4"
      },
      "source": [
        "print(\"1 \\n\")\n",
        "print(acumulado1/10)\n",
        "print(\"2 \\n\")\n",
        "print(acumulado2/10)\n",
        "print(\"3 \\n\")\n",
        "print(acumulado3/10)\n",
        "print(\"4 \\n\")\n",
        "print(acumulado4/10)\n",
        "print(\"5 \\n\")\n",
        "print(acumulado5/10)\n",
        "print(\"6 \\n\")\n",
        "print(acumulado6/10)\n",
        "print(\"promedio\\n\")\n",
        "prom = acumulado1+acumulado2+acumulado3+acumulado4+acumulado5+acumulado6\n",
        "promo = prom/6\n",
        "print(promo/10)"
      ],
      "execution_count": null,
      "outputs": [
        {
          "output_type": "stream",
          "name": "stdout",
          "text": [
            "1 \n",
            "\n",
            "0.9995999110444049\n",
            "2 \n",
            "\n",
            "0.9997667443741124\n",
            "3 \n",
            "\n",
            "0.9996668221259876\n",
            "4 \n",
            "\n",
            "0.9993999776740716\n",
            "5 \n",
            "\n",
            "0.9997333999629852\n",
            "6 \n",
            "\n",
            "0.9994996329736772\n",
            "promedio\n",
            "\n",
            "0.9996110813592065\n"
          ]
        }
      ]
    },
    {
      "cell_type": "code",
      "metadata": {
        "colab": {
          "base_uri": "https://localhost:8080/"
        },
        "id": "eAAxTuBBHrms",
        "outputId": "ac6db557-1d4c-4f92-d8b5-ef8e7e47b7f2"
      },
      "source": [
        "\n",
        "matriz"
      ],
      "execution_count": null,
      "outputs": [
        {
          "output_type": "execute_result",
          "data": {
            "text/plain": [
              "{'1': {'f1-score': 0.9938261304855666,\n",
              "  'precision': 0.994988306047444,\n",
              "  'recall': 0.9926666666666667,\n",
              "  'support': 3000},\n",
              " '2': {'f1-score': 0.9940119760479043,\n",
              "  'precision': 0.9920318725099602,\n",
              "  'recall': 0.996,\n",
              "  'support': 3000},\n",
              " '3': {'f1-score': 0.9981663610601766,\n",
              "  'precision': 0.9983327775925308,\n",
              "  'recall': 0.998,\n",
              "  'support': 3000},\n",
              " '4': {'f1-score': 0.9939859672569328,\n",
              "  'precision': 0.9963161419959813,\n",
              "  'recall': 0.9916666666666667,\n",
              "  'support': 3000},\n",
              " '5': {'f1-score': 0.9926666666666667,\n",
              "  'precision': 0.9926666666666667,\n",
              "  'recall': 0.9926666666666667,\n",
              "  'support': 3000},\n",
              " '6': {'f1-score': 0.9960066555740432,\n",
              "  'precision': 0.9943521594684386,\n",
              "  'recall': 0.9976666666666667,\n",
              "  'support': 3000},\n",
              " 'accuracy': 0.9947777777777778,\n",
              " 'macro avg': {'f1-score': 0.9947772928485484,\n",
              "  'precision': 0.9947813207135036,\n",
              "  'recall': 0.9947777777777778,\n",
              "  'support': 18000},\n",
              " 'weighted avg': {'f1-score': 0.9947772928485483,\n",
              "  'precision': 0.9947813207135037,\n",
              "  'recall': 0.9947777777777778,\n",
              "  'support': 18000}}"
            ]
          },
          "metadata": {},
          "execution_count": 58
        }
      ]
    },
    {
      "cell_type": "markdown",
      "metadata": {
        "id": "UVPblkp1TQvx"
      },
      "source": [
        "#### Modelo"
      ]
    },
    {
      "cell_type": "code",
      "metadata": {
        "id": "obZKx7kBTRRG"
      },
      "source": [
        "Modelo_rf_91_A = RandomForestClassifier(criterion=paramRFA['criterion'],max_depth= paramRFA['max_depth'], n_estimators = paramRFA['n_estimators'] ,random_state = 42)\n",
        "Modelo_rf_91_A.fit(x_trainA,y_trainA)\n",
        "pred_model_rf_91_A =  Modelo_rf_91_A.predict(x_testA)\n",
        "Metrics(y_testA.astype(int),pred_model_rf_91_A.astype(int),6)"
      ],
      "execution_count": null,
      "outputs": []
    },
    {
      "cell_type": "markdown",
      "metadata": {
        "id": "rKkMoY3zjUpN"
      },
      "source": [
        "#### Modelo Manual"
      ]
    },
    {
      "cell_type": "code",
      "metadata": {
        "id": "jgEMd4lejcHF"
      },
      "source": [
        "criterion_A = 'entropy'\n",
        "depth_A = 20\n",
        "estimators_A = 150"
      ],
      "execution_count": null,
      "outputs": []
    },
    {
      "cell_type": "code",
      "metadata": {
        "id": "m5cHPv1kjqcd",
        "colab": {
          "base_uri": "https://localhost:8080/"
        },
        "outputId": "732cd57d-d457-457d-d1db-05efa4984824"
      },
      "source": [
        "Modelo_rf_91_A = RandomForestClassifier(criterion=criterion_A,max_depth= depth_A, n_estimators = estimators_A ,random_state = 42)\n",
        "start_time = time()\n",
        "Modelo_rf_91_A.fit(x_trainA,y_trainA)\n",
        "elapsed_time = time() - start_time\n",
        "print(\"Tiempo transcurrido: %0.10f segundos.\" % elapsed_time)\n",
        "pred_model_rf_91_A =  Modelo_rf_91_A.predict(x_testA)\n",
        "#Metrics(y_testA.astype(int),pred_model_rf_91_A.astype(int),6)\n",
        "matriz = metrics.classification_report(y_true=y_testA.astype(int),y_pred=pred_model_rf_91_A.astype(int),digits = 6, output_dict=True)"
      ],
      "execution_count": null,
      "outputs": [
        {
          "output_type": "stream",
          "name": "stdout",
          "text": [
            "Tiempo transcurrido: 19.2530152798 segundos.\n"
          ]
        }
      ]
    },
    {
      "cell_type": "code",
      "metadata": {
        "colab": {
          "base_uri": "https://localhost:8080/"
        },
        "id": "w8Q2h-nFF4df",
        "outputId": "2aee36a6-7a8d-4420-ea14-c9c62cd05b31"
      },
      "source": [
        "print(matriz)"
      ],
      "execution_count": null,
      "outputs": [
        {
          "output_type": "stream",
          "name": "stdout",
          "text": [
            "              precision    recall  f1-score   support\n",
            "\n",
            "           1   0.994988  0.992667  0.993826      3000\n",
            "           2   0.992032  0.996000  0.994012      3000\n",
            "           3   0.998333  0.998000  0.998166      3000\n",
            "           4   0.996316  0.991667  0.993986      3000\n",
            "           5   0.992667  0.992667  0.992667      3000\n",
            "           6   0.994352  0.997667  0.996007      3000\n",
            "\n",
            "    accuracy                       0.994778     18000\n",
            "   macro avg   0.994781  0.994778  0.994777     18000\n",
            "weighted avg   0.994781  0.994778  0.994777     18000\n",
            "\n"
          ]
        }
      ]
    },
    {
      "cell_type": "code",
      "metadata": {
        "colab": {
          "base_uri": "https://localhost:8080/"
        },
        "id": "rIvshLH4F8CG",
        "outputId": "1e99aafa-2249-4c4e-9974-bc25a3d5c8be"
      },
      "source": [
        "acumulado = 1000\n",
        "acumulado = matriz['1']['f1-score'] + acumulado\n",
        "acumulado"
      ],
      "execution_count": null,
      "outputs": [
        {
          "output_type": "execute_result",
          "data": {
            "text/plain": [
              "1000.9938261304856"
            ]
          },
          "metadata": {},
          "execution_count": 62
        }
      ]
    },
    {
      "cell_type": "code",
      "metadata": {
        "colab": {
          "base_uri": "https://localhost:8080/"
        },
        "id": "Uwfj7KTOGDRO",
        "outputId": "a5feb341-14cc-41a9-d3e2-d436bd7ad614"
      },
      "source": [
        "matriz"
      ],
      "execution_count": null,
      "outputs": [
        {
          "output_type": "execute_result",
          "data": {
            "text/plain": [
              "{'1': {'f1-score': 0.9938261304855666,\n",
              "  'precision': 0.994988306047444,\n",
              "  'recall': 0.9926666666666667,\n",
              "  'support': 3000},\n",
              " '2': {'f1-score': 0.9940119760479043,\n",
              "  'precision': 0.9920318725099602,\n",
              "  'recall': 0.996,\n",
              "  'support': 3000},\n",
              " '3': {'f1-score': 0.9981663610601766,\n",
              "  'precision': 0.9983327775925308,\n",
              "  'recall': 0.998,\n",
              "  'support': 3000},\n",
              " '4': {'f1-score': 0.9939859672569328,\n",
              "  'precision': 0.9963161419959813,\n",
              "  'recall': 0.9916666666666667,\n",
              "  'support': 3000},\n",
              " '5': {'f1-score': 0.9926666666666667,\n",
              "  'precision': 0.9926666666666667,\n",
              "  'recall': 0.9926666666666667,\n",
              "  'support': 3000},\n",
              " '6': {'f1-score': 0.9960066555740432,\n",
              "  'precision': 0.9943521594684386,\n",
              "  'recall': 0.9976666666666667,\n",
              "  'support': 3000},\n",
              " 'accuracy': 0.9947777777777778,\n",
              " 'macro avg': {'f1-score': 0.9947772928485484,\n",
              "  'precision': 0.9947813207135036,\n",
              "  'recall': 0.9947777777777778,\n",
              "  'support': 18000},\n",
              " 'weighted avg': {'f1-score': 0.9947772928485483,\n",
              "  'precision': 0.9947813207135037,\n",
              "  'recall': 0.9947777777777778,\n",
              "  'support': 18000}}"
            ]
          },
          "metadata": {},
          "execution_count": 57
        }
      ]
    },
    {
      "cell_type": "markdown",
      "metadata": {
        "id": "q389Fmdixo9y"
      },
      "source": [
        "#### AUC ROC"
      ]
    },
    {
      "cell_type": "code",
      "source": [
        "#{'criterion': 'entropy', 'max_depth': 20, 'n_estimators': 150}"
      ],
      "metadata": {
        "id": "RYzdchAfHzdO"
      },
      "execution_count": null,
      "outputs": []
    },
    {
      "cell_type": "code",
      "source": [
        "i=0\n",
        "cvA = StratifiedShuffleSplit(n_splits=10, random_state=42)\n",
        "crossVA = cvA.split(XA,YA)\n",
        "for train_index, test_index in crossVA:\n",
        "  Modelo_rf_91_A = RandomForestClassifier(criterion='entropy',max_depth= 20, n_estimators = 150 ,random_state = 42)\n",
        "  if i == 0:\n",
        "    Modelo_rf_91_A.fit(XA[train_index],YA[train_index])\n",
        "    pred_model_rf_91_A =  Modelo_rf_91_A.predict_proba(XA[test_index])\n",
        "    print(\"\\t\\t\\t K=\"+str(i))\n",
        "    plotAucRoc(Y_AUCROC[test_index],pred_model_rf_91_A,4)\n",
        "    print(\"\\n\\n\")\n",
        "  i+=1"
      ],
      "metadata": {
        "id": "RCwKpfJPHk-2",
        "colab": {
          "base_uri": "https://localhost:8080/",
          "height": 465
        },
        "outputId": "944b8bab-9936-4298-b06e-769387b8b86d"
      },
      "execution_count": null,
      "outputs": [
        {
          "output_type": "stream",
          "name": "stdout",
          "text": [
            "\t\t\t K=0\n"
          ]
        },
        {
          "output_type": "stream",
          "name": "stderr",
          "text": [
            "/usr/local/lib/python3.7/dist-packages/ipykernel_launcher.py:13: DeprecationWarning: scipy.interp is deprecated and will be removed in SciPy 2.0.0, use numpy.interp instead\n",
            "  del sys.path[0]\n"
          ]
        },
        {
          "output_type": "display_data",
          "data": {
            "image/png": "[encoded data removed]",
            "text/plain": [
              "<Figure size 576x396 with 1 Axes>"
            ]
          },
          "metadata": {}
        },
        {
          "output_type": "stream",
          "name": "stdout",
          "text": [
            "\n",
            "\n",
            "\n"
          ]
        }
      ]
    },
    {
      "cell_type": "code",
      "metadata": {
        "colab": {
          "base_uri": "https://localhost:8080/",
          "height": 775
        },
        "id": "u_8ZQunExv3C",
        "outputId": "7ba64413-8435-4571-f769-6fdd1c753fae"
      },
      "source": [
        "i=0\n",
        "cvA = StratifiedShuffleSplit(n_splits=10, random_state=42)\n",
        "crossVA = cvA.split(XA,YA)\n",
        "for train_index, test_index in crossVA:\n",
        "  Modelo_rf_91_A = RandomForestClassifier(criterion=paramRFA['criterion'],max_depth= paramRFA['max_depth'], n_estimators = paramRFA['n_estimators'] ,random_state = 42)\n",
        "  if i == 9:\n",
        "    Modelo_rf_91_A.fit(XA[train_index],YA[train_index])\n",
        "    pred_model_rf_91_A =  Modelo_rf_91_A.predict_proba(XA[test_index])\n",
        "    print(\"\\t\\t\\t K=\"+str(i))\n",
        "    plotAucRoc(YA_AUCROC[test_index],pred_model_rf_91_A,4)\n",
        "    print(\"\\n\\n\")\n",
        "  i+=1"
      ],
      "execution_count": null,
      "outputs": [
        {
          "output_type": "stream",
          "name": "stdout",
          "text": [
            "\t\t\t K=9\n"
          ]
        },
        {
          "output_type": "stream",
          "name": "stderr",
          "text": [
            "/usr/local/lib/python3.7/dist-packages/ipykernel_launcher.py:13: DeprecationWarning: scipy.interp is deprecated and will be removed in SciPy 2.0.0, use numpy.interp instead\n",
            "  del sys.path[0]\n"
          ]
        },
        {
          "output_type": "error",
          "ename": "IndexError",
          "evalue": "ignored",
          "traceback": [
            "\u001b[0;31m---------------------------------------------------------------------------\u001b[0m",
            "\u001b[0;31mIndexError\u001b[0m                                Traceback (most recent call last)",
            "\u001b[0;32m<ipython-input-71-be2766449a4d>\u001b[0m in \u001b[0;36m<module>\u001b[0;34m()\u001b[0m\n\u001b[1;32m      8\u001b[0m     \u001b[0mpred_model_rf_91_A\u001b[0m \u001b[0;34m=\u001b[0m  \u001b[0mModelo_rf_91_A\u001b[0m\u001b[0;34m.\u001b[0m\u001b[0mpredict_proba\u001b[0m\u001b[0;34m(\u001b[0m\u001b[0mXA\u001b[0m\u001b[0;34m[\u001b[0m\u001b[0mtest_index\u001b[0m\u001b[0;34m]\u001b[0m\u001b[0;34m)\u001b[0m\u001b[0;34m\u001b[0m\u001b[0;34m\u001b[0m\u001b[0m\n\u001b[1;32m      9\u001b[0m     \u001b[0mprint\u001b[0m\u001b[0;34m(\u001b[0m\u001b[0;34m\"\\t\\t\\t K=\"\u001b[0m\u001b[0;34m+\u001b[0m\u001b[0mstr\u001b[0m\u001b[0;34m(\u001b[0m\u001b[0mi\u001b[0m\u001b[0;34m)\u001b[0m\u001b[0;34m)\u001b[0m\u001b[0;34m\u001b[0m\u001b[0;34m\u001b[0m\u001b[0m\n\u001b[0;32m---> 10\u001b[0;31m     \u001b[0mplotAucRoc\u001b[0m\u001b[0;34m(\u001b[0m\u001b[0mYA_AUCROC\u001b[0m\u001b[0;34m[\u001b[0m\u001b[0mtest_index\u001b[0m\u001b[0;34m]\u001b[0m\u001b[0;34m,\u001b[0m\u001b[0mpred_model_rf_91_A\u001b[0m\u001b[0;34m,\u001b[0m\u001b[0;36m6\u001b[0m\u001b[0;34m)\u001b[0m\u001b[0;34m\u001b[0m\u001b[0;34m\u001b[0m\u001b[0m\n\u001b[0m\u001b[1;32m     11\u001b[0m     \u001b[0mprint\u001b[0m\u001b[0;34m(\u001b[0m\u001b[0;34m\"\\n\\n\"\u001b[0m\u001b[0;34m)\u001b[0m\u001b[0;34m\u001b[0m\u001b[0;34m\u001b[0m\u001b[0m\n\u001b[1;32m     12\u001b[0m   \u001b[0mi\u001b[0m\u001b[0;34m+=\u001b[0m\u001b[0;36m1\u001b[0m\u001b[0;34m\u001b[0m\u001b[0;34m\u001b[0m\u001b[0m\n",
            "\u001b[0;32m<ipython-input-2-c489d171e126>\u001b[0m in \u001b[0;36mplotAucRoc\u001b[0;34m(y_test, y_score, n_classes)\u001b[0m\n\u001b[1;32m     32\u001b[0m     plt.plot(fpr[i], tpr[i], color=color, lw=lw,\n\u001b[1;32m     33\u001b[0m              \u001b[0mlabel\u001b[0m\u001b[0;34m=\u001b[0m\u001b[0;34m'ROC {0} (área = {1:0.2f})'\u001b[0m\u001b[0;34m\u001b[0m\u001b[0;34m\u001b[0m\u001b[0m\n\u001b[0;32m---> 34\u001b[0;31m              ''.format(clases[i], roc_auc[i]))\n\u001b[0m\u001b[1;32m     35\u001b[0m   \u001b[0mplt\u001b[0m\u001b[0;34m.\u001b[0m\u001b[0mplot\u001b[0m\u001b[0;34m(\u001b[0m\u001b[0;34m[\u001b[0m\u001b[0;36m0\u001b[0m\u001b[0;34m,\u001b[0m \u001b[0;36m1\u001b[0m\u001b[0;34m]\u001b[0m\u001b[0;34m,\u001b[0m \u001b[0;34m[\u001b[0m\u001b[0;36m0\u001b[0m\u001b[0;34m,\u001b[0m \u001b[0;36m1\u001b[0m\u001b[0;34m]\u001b[0m\u001b[0;34m,\u001b[0m \u001b[0;34m'k--'\u001b[0m\u001b[0;34m,\u001b[0m \u001b[0mlw\u001b[0m\u001b[0;34m=\u001b[0m\u001b[0mlw\u001b[0m\u001b[0;34m)\u001b[0m\u001b[0;34m\u001b[0m\u001b[0;34m\u001b[0m\u001b[0m\n\u001b[1;32m     36\u001b[0m   \u001b[0mplt\u001b[0m\u001b[0;34m.\u001b[0m\u001b[0mxlim\u001b[0m\u001b[0;34m(\u001b[0m\u001b[0;34m[\u001b[0m\u001b[0;36m0.0\u001b[0m\u001b[0;34m,\u001b[0m \u001b[0;36m1.0\u001b[0m\u001b[0;34m]\u001b[0m\u001b[0;34m)\u001b[0m\u001b[0;34m\u001b[0m\u001b[0;34m\u001b[0m\u001b[0m\n",
            "\u001b[0;31mIndexError\u001b[0m: list index out of range"
          ]
        },
        {
          "output_type": "display_data",
          "data": {
            "image/png": "[encoded data removed]",
            "text/plain": [
              "<Figure size 576x396 with 1 Axes>"
            ]
          },
          "metadata": {}
        }
      ]
    },
    {
      "cell_type": "markdown",
      "metadata": {
        "id": "xfW3tvaWxzmH"
      },
      "source": [
        "#### Curvas de validación"
      ]
    },
    {
      "cell_type": "code",
      "metadata": {
        "id": "o23qqTGRx17o"
      },
      "source": [
        "Modelo_rf_91_Curva = RandomForestClassifier(criterion=paramRFA['criterion'], n_estimators = paramRFA['n_estimators'] ,random_state = 42)"
      ],
      "execution_count": null,
      "outputs": []
    },
    {
      "cell_type": "code",
      "metadata": {
        "colab": {
          "base_uri": "https://localhost:8080/",
          "height": 531
        },
        "id": "xZJj4GWNx3_K",
        "outputId": "5b79898f-4be5-4ad0-c306-d650f44b13e7"
      },
      "source": [
        "viz = ValidationCurve(Modelo_rf_91_Curva, param_name=\"max_depth\", n_jobs=-1,\n",
        "                      param_range=np.arange(10, 20), cv=10, scoring=\"accuracy\")\n",
        "\n",
        "# Fit and show the visualizer\n",
        "viz.fit(XA, YA)\n"
      ],
      "execution_count": null,
      "outputs": [
        {
          "output_type": "stream",
          "name": "stderr",
          "text": [
            "/usr/local/lib/python3.7/dist-packages/sklearn/base.py:197: FutureWarning: From version 0.24, get_params will raise an AttributeError if a parameter cannot be retrieved as an instance attribute. Previously it would return None.\n",
            "  FutureWarning)\n",
            "/usr/local/lib/python3.7/dist-packages/sklearn/base.py:197: FutureWarning: From version 0.24, get_params will raise an AttributeError if a parameter cannot be retrieved as an instance attribute. Previously it would return None.\n",
            "  FutureWarning)\n"
          ]
        },
        {
          "output_type": "execute_result",
          "data": {
            "text/plain": [
              "ValidationCurve(ax=<matplotlib.axes._subplots.AxesSubplot object at 0x7f11ce50f710>,\n",
              "                cv=10, groups=None, logx=False, model=None, n_jobs=-1,\n",
              "                param_name='max_depth',\n",
              "                param_range=array([10, 11, 12, 13, 14, 15, 16, 17, 18, 19]),\n",
              "                pre_dispatch='all', scoring='accuracy')"
            ]
          },
          "metadata": {},
          "execution_count": 37
        },
        {
          "output_type": "display_data",
          "data": {
            "image/png": "[encoded data removed]",
            "text/plain": [
              "<Figure size 576x396 with 1 Axes>"
            ]
          },
          "metadata": {}
        }
      ]
    },
    {
      "cell_type": "markdown",
      "metadata": {
        "id": "9Tf9FrqLTjT-"
      },
      "source": [
        "# **MLP A**"
      ]
    },
    {
      "cell_type": "markdown",
      "metadata": {
        "id": "KgRpovASTvjQ"
      },
      "source": [
        "### GridSearch 80-20"
      ]
    },
    {
      "cell_type": "code",
      "metadata": {
        "id": "hnvTe92mTjuO"
      },
      "source": [
        "MLP_91_A = make_pipeline(StandardScaler(),MLPClassifier(random_state = 42))\n",
        "\n",
        "gs_MLP_91_A = GridSearchCV(estimator=MLP_91_A,param_grid=param_grid_mlp_NEW,scoring='accuracy',cv=5,n_jobs=-1)\n",
        "start_time = time()\n",
        "gs_MLP_91_A = gs_MLP_91_A.fit(x_trainA, y_trainA)\n",
        "elapsed_time = time() - start_time\n",
        "print(\"Tiempo transcurrido: %0.10f segundos.\" % elapsed_time)\n",
        "print(gs_MLP_91_A.best_score_)\n",
        "print(gs_MLP_91_A.best_params_)\n",
        "paramMLPA = gs_MLP_91_A.best_params_"
      ],
      "execution_count": null,
      "outputs": []
    },
    {
      "cell_type": "code",
      "source": [],
      "metadata": {
        "id": "96AY3EVamzsO"
      },
      "execution_count": null,
      "outputs": []
    },
    {
      "cell_type": "code",
      "metadata": {
        "id": "O7EqIdvAxpL7"
      },
      "source": [
        "paramMLPA = {'mlpclassifier__activation': 'relu', 'mlpclassifier__alpha': 0.001, 'mlpclassifier__hidden_layer_sizes': (200,), 'mlpclassifier__max_iter': 1000, 'mlpclassifier__solver': 'adam'}"
      ],
      "execution_count": null,
      "outputs": []
    },
    {
      "cell_type": "code",
      "metadata": {
        "id": "aHih_3iZUOZA"
      },
      "source": [
        "pred_MLP_Grid_91_A = gs_MLP_91_A.predict(x_testA)\n",
        "Metrics(y_testA.astype(int),pred_MLP_Grid_91_A.astype(int),4)"
      ],
      "execution_count": null,
      "outputs": []
    },
    {
      "cell_type": "markdown",
      "metadata": {
        "id": "GBJ-A_vSUXV4"
      },
      "source": [
        "####  Cross_Validate"
      ]
    },
    {
      "cell_type": "code",
      "metadata": {
        "id": "HP60J7OxUX1P",
        "colab": {
          "base_uri": "https://localhost:8080/"
        },
        "outputId": "8d3b87a5-6067-495f-b43a-c7a024ef73ef"
      },
      "source": [
        "#### cv = 10  100%\n",
        "cvA = StratifiedShuffleSplit(n_splits=10, random_state=42)\n",
        "crossVA = cvA.split(XA,YA)\n",
        "kf_MLP_91_A =  make_pipeline(StandardScaler(),MLPClassifier(alpha=paramMLPA['mlpclassifier__alpha'], hidden_layer_sizes=paramMLPA['mlpclassifier__hidden_layer_sizes'],activation=paramMLPA['mlpclassifier__activation'],max_iter=paramMLPA['mlpclassifier__max_iter'],solver=paramMLPA['mlpclassifier__solver'],random_state = 42))\n",
        "start_time = time()\n",
        "scores = cross_validate(estimator=kf_MLP_91_A ,X=XA,y=YA, scoring = scoring, return_estimator= True ,cv=crossVA,n_jobs=-1)\n",
        "elapsed_time = time() - start_time\n",
        "print(\"Tiempo transcurrido: %0.10f segundos.\" % elapsed_time)\n",
        "#print('CV scores: %s' % scores)\n",
        "print('CV accuracy: %.3f +/- %.3f' % (np.mean(scores['test_acc_weighted']),np.std(scores['test_acc_weighted'])))\n",
        "print('CV f1: %.3f +/- %.3f' % (np.mean(scores['test_f1_weighted']),np.std(scores['test_f1_weighted'])))\n",
        "print('CV prec: %.3f +/- %.3f' % (np.mean(scores['test_prec_weighted']),np.std(scores['test_prec_weighted'])))\n",
        "print('CV rec: %.3f +/- %.3f' % (np.mean(scores['test_rec_weighted']),np.std(scores['test_rec_weighted'])))\n",
        "print(\"\\n\\t\\tAccuracy\\n\")\n",
        "print(scores['test_acc_weighted'])\n",
        "print(\"\\n\\t\\t F1 \\n\")\n",
        "print(scores['test_f1_weighted'])\n",
        "print(\"\\n\\t\\t Prec \\n\")\n",
        "print(scores['test_prec_weighted'])\n",
        "print(\"\\n\\t\\t Rec \\n\")\n",
        "print(scores['test_rec_weighted'])"
      ],
      "execution_count": null,
      "outputs": [
        {
          "output_type": "stream",
          "name": "stdout",
          "text": [
            "Tiempo transcurrido: 5276.1150338650 segundos.\n",
            "CV accuracy: 0.862 +/- 0.007\n",
            "CV f1: 0.863 +/- 0.007\n",
            "CV prec: 0.864 +/- 0.007\n",
            "CV rec: 0.862 +/- 0.007\n",
            "\n",
            "\t\tAccuracy\n",
            "\n",
            "[0.862      0.87144444 0.85066667 0.85077778 0.87055556 0.87111111\n",
            " 0.866      0.85844444 0.85933333 0.86322222]\n",
            "\n",
            "\t\t F1 \n",
            "\n",
            "[0.86236108 0.87177462 0.85155009 0.85080228 0.87059364 0.87092718\n",
            " 0.86622874 0.85916591 0.85955281 0.86328115]\n",
            "\n",
            "\t\t Prec \n",
            "\n",
            "[0.86478469 0.87329073 0.85385733 0.85175412 0.87156097 0.87209742\n",
            " 0.86721659 0.86116314 0.8621357  0.86392099]\n",
            "\n",
            "\t\t Rec \n",
            "\n",
            "[0.862      0.87144444 0.85066667 0.85077778 0.87055556 0.87111111\n",
            " 0.866      0.85844444 0.85933333 0.86322222]\n"
          ]
        }
      ]
    },
    {
      "cell_type": "code",
      "metadata": {
        "id": "of47AwDtzmdf"
      },
      "source": [
        "modelsMLP_A = scores['estimator']\n",
        "\n",
        "for i in range(len(modelsMLP_A)):\n",
        "  pred_model_MLP_CV_A =  modelsMLP_A[i].predict(XA_TS)\n",
        "  print(\"\\t\\t\\t K=\"+str(i))\n",
        "  Metrics(YA_TS.astype(int),pred_model_MLP_CV_A.astype(int),4)\n",
        "  print(\"\\n\\n\")"
      ],
      "execution_count": null,
      "outputs": []
    },
    {
      "cell_type": "markdown",
      "metadata": {
        "id": "lyCSQjivUv8A"
      },
      "source": [
        "#### Modelo"
      ]
    },
    {
      "cell_type": "code",
      "metadata": {
        "id": "YY6522o3UwUG"
      },
      "source": [
        "Modelo_mlp_91_A =  make_pipeline(StandardScaler(),MLPClassifier(alpha=paramMLPA['mlpclassifier__alpha'], hidden_layer_sizes=paramMLPA['mlpclassifier__hidden_layer_sizes'],activation=paramMLPA['mlpclassifier__activation'],max_iter=paramMLPA['mlpclassifier__max_iter'],solver=paramMLPA['mlpclassifier__solver'],random_state = 42))\n",
        "Modelo_mlp_91_A.fit(X=x_trainA,y=y_trainA)\n",
        "pred_model_mlp_91_A =  Modelo_mlp_91_A.predict(x_testA)\n",
        "Metrics(y_testA.astype(int),pred_model_mlp_91_A.astype(int),n=4)"
      ],
      "execution_count": null,
      "outputs": []
    },
    {
      "cell_type": "markdown",
      "metadata": {
        "id": "tkv3qf-4j05Z"
      },
      "source": [
        "#### Modelo Manual"
      ]
    },
    {
      "cell_type": "code",
      "metadata": {
        "id": "mNbEdmDYj9DH"
      },
      "source": [
        "alpha_AB =\n",
        "hidden_layer_sizes_AB =\n",
        "activation_AB =\n",
        "max_iter_AB =\n",
        "solver_AB ="
      ],
      "execution_count": null,
      "outputs": []
    },
    {
      "cell_type": "code",
      "metadata": {
        "id": "Q8m4M2sx_Ds0"
      },
      "source": [
        "Modelo_mlp_91_A =  make_pipeline(StandardScaler(),MLPClassifier(alpha=alpha_AB, hidden_layer_sizes=hidden_layer_sizes_AB,activation=activation_AB,max_iter=max_iter_AB,solver=solver_AB,random_state = 42))\n",
        "Modelo_mlp_91_A.fit(X=x_trainA,y=y_trainA)\n",
        "pred_model_mlp_91_A =  Modelo_mlp_91_A.predict(x_testA)\n",
        "Metrics(y_testA.astype(int),pred_model_mlp_91_A.astype(int),n=4)"
      ],
      "execution_count": null,
      "outputs": []
    },
    {
      "cell_type": "markdown",
      "metadata": {
        "id": "sk12VTDaor3c"
      },
      "source": [
        "# **MLP Libro**"
      ]
    },
    {
      "cell_type": "code",
      "metadata": {
        "id": "FlzXms6HooTf"
      },
      "source": [
        " from sklearn.datasets import fetch_openml"
      ],
      "execution_count": null,
      "outputs": []
    },
    {
      "cell_type": "code",
      "metadata": {
        "id": "SmTxVXhcopxb"
      },
      "source": [
        "import numpy as np\n",
        "import sys\n",
        "\n",
        "\n",
        "class NeuralNetMLP(object):\n",
        "    \"\"\" Feedforward neural network / Multi-layer perceptron classifier.\n",
        "\n",
        "    Parameters\n",
        "    ------------\n",
        "    n_hidden : int (default: 30)\n",
        "        Number of hidden units.\n",
        "    l2 : float (default: 0.)\n",
        "        Lambda value for L2-regularization.\n",
        "        No regularization if l2=0. (default)\n",
        "    epochs : int (default: 100)\n",
        "        Number of passes over the training set.\n",
        "    eta : float (default: 0.001)\n",
        "        Learning rate.\n",
        "    shuffle : bool (default: True)\n",
        "        Shuffles training data every epoch if True to prevent circles.\n",
        "    minibatch_size : int (default: 1)\n",
        "        Number of training examples per minibatch.\n",
        "    seed : int (default: None)\n",
        "        Random seed for initializing weights and shuffling.\n",
        "\n",
        "    Attributes\n",
        "    -----------\n",
        "    eval_ : dict\n",
        "      Dictionary collecting the cost, training accuracy,\n",
        "      and validation accuracy for each epoch during training.\n",
        "\n",
        "    \"\"\"\n",
        "    def __init__(self, n_hidden=30,\n",
        "                 l2=0., epochs=100, eta=0.001,\n",
        "                 shuffle=True, minibatch_size=1, seed=None):\n",
        "\n",
        "        self.random = np.random.RandomState(seed)\n",
        "        self.n_hidden = n_hidden\n",
        "        self.l2 = l2\n",
        "        self.epochs = epochs\n",
        "        self.eta = eta\n",
        "        self.shuffle = shuffle\n",
        "        self.minibatch_size = minibatch_size\n",
        "\n",
        "    def _onehot(self, y, n_classes):\n",
        "        \"\"\"Encode labels into one-hot representation\n",
        "\n",
        "        Parameters\n",
        "        ------------\n",
        "        y : array, shape = [n_examples]\n",
        "            Target values.\n",
        "        n_classes : int\n",
        "            Number of classes\n",
        "\n",
        "        Returns\n",
        "        -----------\n",
        "        onehot : array, shape = (n_examples, n_labels)\n",
        "\n",
        "        \"\"\"\n",
        "        onehot = np.zeros((n_classes, y.shape[0]))\n",
        "        for idx, val in enumerate(y.astype(int)):\n",
        "            onehot[val, idx] = 1.\n",
        "        return onehot.T\n",
        "\n",
        "    def _sigmoid(self, z):\n",
        "        \"\"\"Compute logistic function (sigmoid)\"\"\"\n",
        "        return 1. / (1. + np.exp(-np.clip(z, -250, 250)))\n",
        "\n",
        "    def _forward(self, X):\n",
        "        \"\"\"Compute forward propagation step\"\"\"\n",
        "\n",
        "        # step 1: net input of hidden layer\n",
        "        # [n_examples, n_features] dot [n_features, n_hidden]\n",
        "        # -> [n_examples, n_hidden]\n",
        "        z_h = np.dot(X, self.w_h) + self.b_h\n",
        "\n",
        "        # step 2: activation of hidden layer\n",
        "        a_h = self._sigmoid(z_h)\n",
        "\n",
        "        # step 3: net input of output layer\n",
        "        # [n_examples, n_hidden] dot [n_hidden, n_classlabels]\n",
        "        # -> [n_examples, n_classlabels]\n",
        "\n",
        "        z_out = np.dot(a_h, self.w_out) + self.b_out\n",
        "\n",
        "        # step 4: activation output layer\n",
        "        a_out = self._sigmoid(z_out)\n",
        "\n",
        "        return z_h, a_h, z_out, a_out\n",
        "\n",
        "    def _compute_cost(self, y_enc, output):\n",
        "        \"\"\"Compute cost function.\n",
        "\n",
        "        Parameters\n",
        "        ----------\n",
        "        y_enc : array, shape = (n_examples, n_labels)\n",
        "            one-hot encoded class labels.\n",
        "        output : array, shape = [n_examples, n_output_units]\n",
        "            Activation of the output layer (forward propagation)\n",
        "\n",
        "        Returns\n",
        "        ---------\n",
        "        cost : float\n",
        "            Regularized cost\n",
        "\n",
        "        \"\"\"\n",
        "        L2_term = (self.l2 *\n",
        "                   (np.sum(self.w_h ** 2.) +\n",
        "                    np.sum(self.w_out ** 2.)))\n",
        "\n",
        "        term1 = -y_enc * (np.log(output))\n",
        "        term2 = (1. - y_enc) * np.log(1. - output)\n",
        "        cost = np.sum(term1 - term2) + L2_term\n",
        "\n",
        "        # If you are applying this cost function to other\n",
        "        # datasets where activation\n",
        "        # values maybe become more extreme (closer to zero or 1)\n",
        "        # you may encounter \"ZeroDivisionError\"s due to numerical\n",
        "        # instabilities in Python & NumPy for the current implementation.\n",
        "        # I.e., the code tries to evaluate log(0), which is undefined.\n",
        "        # To address this issue, you could add a small constant to the\n",
        "        # activation values that are passed to the log function.\n",
        "        #\n",
        "        # For example:\n",
        "        #\n",
        "        # term1 = -y_enc * (np.log(output + 1e-5))\n",
        "        # term2 = (1. - y_enc) * np.log(1. - output + 1e-5)\n",
        "\n",
        "        return cost\n",
        "\n",
        "    def predict(self, X):\n",
        "        \"\"\"Predict class labels\n",
        "\n",
        "        Parameters\n",
        "        -----------\n",
        "        X : array, shape = [n_examples, n_features]\n",
        "            Input layer with original features.\n",
        "\n",
        "        Returns:\n",
        "        ----------\n",
        "        y_pred : array, shape = [n_examples]\n",
        "            Predicted class labels.\n",
        "\n",
        "        \"\"\"\n",
        "        z_h, a_h, z_out, a_out = self._forward(X)\n",
        "        y_pred = np.argmax(z_out, axis=1)\n",
        "        return y_pred\n",
        "\n",
        "    def fit(self, X_train, y_train, X_valid, y_valid):\n",
        "        \"\"\" Learn weights from training data.\n",
        "\n",
        "        Parameters\n",
        "        -----------\n",
        "        X_train : array, shape = [n_examples, n_features]\n",
        "            Input layer with original features.\n",
        "        y_train : array, shape = [n_examples]\n",
        "            Target class labels.\n",
        "        X_valid : array, shape = [n_examples, n_features]\n",
        "            Sample features for validation during training\n",
        "        y_valid : array, shape = [n_examples]\n",
        "            Sample labels for validation during training\n",
        "\n",
        "        Returns:\n",
        "        ----------\n",
        "        self\n",
        "\n",
        "        \"\"\"\n",
        "        n_output = np.unique(y_train).shape[0]  # number of class labels\n",
        "        n_features = X_train.shape[1]\n",
        "\n",
        "        ########################\n",
        "        # Weight initialization\n",
        "        ########################\n",
        "\n",
        "        # weights for input -> hidden\n",
        "        self.b_h = np.zeros(self.n_hidden)\n",
        "        self.w_h = self.random.normal(loc=0.0, scale=0.1,\n",
        "                                      size=(n_features, self.n_hidden))\n",
        "\n",
        "        # weights for hidden -> output\n",
        "        self.b_out = np.zeros(n_output)\n",
        "        self.w_out = self.random.normal(loc=0.0, scale=0.1,\n",
        "                                        size=(self.n_hidden, n_output))\n",
        "\n",
        "        epoch_strlen = len(str(self.epochs))  # for progress formatting\n",
        "        self.eval_ = {'cost': [], 'train_acc': [], 'valid_acc': []}\n",
        "\n",
        "        y_train_enc = self._onehot(y_train, n_output)\n",
        "\n",
        "        # iterate over training epochs\n",
        "        for i in range(self.epochs):\n",
        "\n",
        "            # iterate over minibatches\n",
        "            indices = np.arange(X_train.shape[0])\n",
        "\n",
        "            if self.shuffle:\n",
        "                self.random.shuffle(indices)\n",
        "\n",
        "            for start_idx in range(0, indices.shape[0] - self.minibatch_size +\n",
        "                                   1, self.minibatch_size):\n",
        "                batch_idx = indices[start_idx:start_idx + self.minibatch_size]\n",
        "\n",
        "                # forward propagation\n",
        "                z_h, a_h, z_out, a_out = self._forward(X_train[batch_idx])\n",
        "\n",
        "                ##################\n",
        "                # Backpropagation\n",
        "                ##################\n",
        "\n",
        "                # [n_examples, n_classlabels]\n",
        "                delta_out = a_out - y_train_enc[batch_idx]\n",
        "\n",
        "                # [n_examples, n_hidden]\n",
        "                sigmoid_derivative_h = a_h * (1. - a_h)\n",
        "\n",
        "                # [n_examples, n_classlabels] dot [n_classlabels, n_hidden]\n",
        "                # -> [n_examples, n_hidden]\n",
        "                delta_h = (np.dot(delta_out, self.w_out.T) *\n",
        "                           sigmoid_derivative_h)\n",
        "\n",
        "                # [n_features, n_examples] dot [n_examples, n_hidden]\n",
        "                # -> [n_features, n_hidden]\n",
        "                grad_w_h = np.dot(X_train[batch_idx].T, delta_h)\n",
        "                grad_b_h = np.sum(delta_h, axis=0)\n",
        "\n",
        "                # [n_hidden, n_examples] dot [n_examples, n_classlabels]\n",
        "                # -> [n_hidden, n_classlabels]\n",
        "                grad_w_out = np.dot(a_h.T, delta_out)\n",
        "                grad_b_out = np.sum(delta_out, axis=0)\n",
        "\n",
        "                # Regularization and weight updates\n",
        "                delta_w_h = (grad_w_h + self.l2*self.w_h)\n",
        "                delta_b_h = grad_b_h # bias is not regularized\n",
        "                self.w_h -= self.eta * delta_w_h\n",
        "                self.b_h -= self.eta * delta_b_h\n",
        "\n",
        "                delta_w_out = (grad_w_out + self.l2*self.w_out)\n",
        "                delta_b_out = grad_b_out  # bias is not regularized\n",
        "                self.w_out -= self.eta * delta_w_out\n",
        "                self.b_out -= self.eta * delta_b_out\n",
        "\n",
        "            #############\n",
        "            # Evaluation\n",
        "            #############\n",
        "\n",
        "            # Evaluation after each epoch during training\n",
        "            z_h, a_h, z_out, a_out = self._forward(X_train)\n",
        "\n",
        "            cost = self._compute_cost(y_enc=y_train_enc,\n",
        "                                      output=a_out)\n",
        "\n",
        "            y_train_pred = self.predict(X_train)\n",
        "            y_valid_pred = self.predict(X_valid)\n",
        "\n",
        "            train_acc = ((np.sum(y_train == y_train_pred)).astype(np.float) /\n",
        "                         X_train.shape[0])\n",
        "            valid_acc = ((np.sum(y_valid == y_valid_pred)).astype(np.float) /\n",
        "                         X_valid.shape[0])\n",
        "\n",
        "            sys.stderr.write('\\r%0*d/%d | Cost: %.2f '\n",
        "                             '| Train/Valid Acc.: %.2f%%/%.2f%% ' %\n",
        "                             (epoch_strlen, i+1, self.epochs, cost,\n",
        "                              train_acc*100, valid_acc*100))\n",
        "            sys.stderr.flush()\n",
        "\n",
        "            self.eval_['cost'].append(cost)\n",
        "            self.eval_['train_acc'].append(train_acc)\n",
        "            self.eval_['valid_acc'].append(valid_acc)\n",
        "\n",
        "        return self"
      ],
      "execution_count": null,
      "outputs": []
    },
    {
      "cell_type": "markdown",
      "metadata": {
        "id": "7hR0AKo-pH1g"
      },
      "source": [
        "Hiperparámetros seleccionados de MLP A"
      ]
    },
    {
      "cell_type": "code",
      "metadata": {
        "colab": {
          "base_uri": "https://localhost:8080/"
        },
        "id": "swCt2tORrlrl",
        "outputId": "1c99f08c-a2db-4799-f931-691e059423d0"
      },
      "source": [
        "y_trainA.astype(int)\n",
        "y_testA.astype(int)"
      ],
      "execution_count": null,
      "outputs": [
        {
          "output_type": "execute_result",
          "data": {
            "text/plain": [
              "array([1, 4, 3, ..., 2, 3, 2])"
            ]
          },
          "metadata": {},
          "execution_count": 27
        }
      ]
    },
    {
      "cell_type": "code",
      "metadata": {
        "id": "2bcJmv81rnfG"
      },
      "source": [
        "y_trainA_91_MLPHand =y_trainA - 1\n",
        "y_testA_91_MLPHand =y_testA - 1"
      ],
      "execution_count": null,
      "outputs": []
    },
    {
      "cell_type": "code",
      "metadata": {
        "colab": {
          "base_uri": "https://localhost:8080/"
        },
        "id": "is90g-0ArgCH",
        "outputId": "edbd5e5a-6179-4dd0-f46a-f689d5e353f0"
      },
      "source": [
        "scaler = StandardScaler()\n",
        "print(scaler.fit(x_testA))\n",
        "x_testA_91_MLPHand = scaler.transform(x_testA)\n",
        "print(np.amax(x_testA))\n",
        "print(np.amax(x_testA_91_MLPHand))\n",
        "print(scaler.fit(x_testA))\n",
        "x_trainA_91_MLPHand = scaler.transform(x_trainA)\n",
        "print(np.amax(x_trainA))\n",
        "print(np.amax(x_trainA_91_MLPHand))"
      ],
      "execution_count": null,
      "outputs": [
        {
          "output_type": "stream",
          "name": "stdout",
          "text": [
            "StandardScaler(copy=True, with_mean=True, with_std=True)\n",
            "4.67762895432193\n",
            "5.361697024260378\n",
            "StandardScaler(copy=True, with_mean=True, with_std=True)\n",
            "4.67762895432193\n",
            "6.143747366896921\n"
          ]
        }
      ]
    },
    {
      "cell_type": "code",
      "metadata": {
        "id": "pLT9d1HbpkLk"
      },
      "source": [
        "paramMLPA = {'mlpclassifier__activation': 'relu', 'mlpclassifier__alpha': 0.001, 'mlpclassifier__hidden_layer_sizes': (200,), 'mlpclassifier__max_iter': 1000, 'mlpclassifier__solver': 'adam'}"
      ],
      "execution_count": null,
      "outputs": []
    },
    {
      "cell_type": "code",
      "metadata": {
        "colab": {
          "base_uri": "https://localhost:8080/"
        },
        "id": "LbhSFJ33pIiy",
        "outputId": "839bd7af-b5ea-498d-ca1a-324642808f47"
      },
      "source": [
        "n_epochs = paramMLPA['mlpclassifier__max_iter']\n",
        "nn = NeuralNetMLP(n_hidden=200,\n",
        "                  l2=paramMLPA['mlpclassifier__alpha'],\n",
        "                  epochs=paramMLPA['mlpclassifier__max_iter'],\n",
        "                  eta=0.0005,\n",
        "                  minibatch_size=100,\n",
        "                  shuffle=True,\n",
        "                  seed=42)\n",
        "\n",
        "nn.fit(X_train=x_trainA_91_MLPHand,\n",
        "       y_train=y_trainA_91_MLPHand,\n",
        "       X_valid=x_testA_91_MLPHand,\n",
        "       y_valid=y_testA_91_MLPHand)"
      ],
      "execution_count": null,
      "outputs": [
        {
          "output_type": "stream",
          "name": "stderr",
          "text": [
            "1000/1000 | Cost: 39686.66 | Train/Valid Acc.: 82.17%/82.08% "
          ]
        },
        {
          "output_type": "execute_result",
          "data": {
            "text/plain": [
              "<__main__.NeuralNetMLP at 0x7fdece3c0750>"
            ]
          },
          "metadata": {},
          "execution_count": 31
        }
      ]
    },
    {
      "cell_type": "code",
      "metadata": {
        "id": "tP2oFG7Xqtfz",
        "colab": {
          "base_uri": "https://localhost:8080/",
          "height": 279
        },
        "outputId": "dda9e609-6fca-4e08-f29b-3adedb0033fa"
      },
      "source": [
        "plt.plot(range(nn.epochs), nn.eval_['cost'])\n",
        "plt.ylabel('Cost')\n",
        "plt.xlabel('Epochs')\n",
        "#plt.savefig('images/12_07.png', dpi=300)\n",
        "plt.show()"
      ],
      "execution_count": null,
      "outputs": [
        {
          "output_type": "display_data",
          "data": {
            "image/png": "[encoded data removed]",
            "text/plain": [
              "<Figure size 432x288 with 1 Axes>"
            ]
          },
          "metadata": {
            "needs_background": "light"
          }
        }
      ]
    },
    {
      "cell_type": "code",
      "metadata": {
        "colab": {
          "base_uri": "https://localhost:8080/",
          "height": 279
        },
        "id": "jn3nixSwquOU",
        "outputId": "d2ebf403-c52f-457f-c0b3-6a9e703e36c4"
      },
      "source": [
        "plt.plot(range(nn.epochs), nn.eval_['train_acc'],\n",
        "         label='Training')\n",
        "plt.plot(range(nn.epochs), nn.eval_['valid_acc'],\n",
        "         label='Validation', linestyle='--')\n",
        "plt.ylabel('Accuracy')\n",
        "plt.xlabel('Epochs')\n",
        "plt.legend(loc='lower right')\n",
        "#plt.savefig('images/12_08.png', dpi=300)\n",
        "plt.show()"
      ],
      "execution_count": null,
      "outputs": [
        {
          "output_type": "display_data",
          "data": {
            "image/png": "[encoded data removed]",
            "text/plain": [
              "<Figure size 432x288 with 1 Axes>"
            ]
          },
          "metadata": {
            "needs_background": "light"
          }
        }
      ]
    },
    {
      "cell_type": "code",
      "metadata": {
        "colab": {
          "base_uri": "https://localhost:8080/"
        },
        "id": "dDMRCoZ3qxCF",
        "outputId": "eaefdd5e-6182-4b9d-da35-c1811d6f4e38"
      },
      "source": [
        "y_predict_Hand= nn.predict(x_testA_91_MLPHand)\n",
        "acc = (np.sum(y_predict_Hand == y_testA_91_MLPHand).astype(np.float) / x_testA_91_MLPHand.shape[0])\n",
        "\n",
        "print('Test accuracy: %.2f%%' % (acc * 100))"
      ],
      "execution_count": null,
      "outputs": [
        {
          "output_type": "stream",
          "name": "stdout",
          "text": [
            "Test accuracy: 82.08%\n"
          ]
        }
      ]
    },
    {
      "cell_type": "code",
      "metadata": {
        "id": "hhU8hktjsOcc"
      },
      "source": [],
      "execution_count": null,
      "outputs": []
    }
  ]
}